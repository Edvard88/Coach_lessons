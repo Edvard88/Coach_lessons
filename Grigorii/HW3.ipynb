{
 "cells": [
  {
   "cell_type": "code",
   "execution_count": null,
   "metadata": {},
   "outputs": [],
   "source": [
    "Задача:\n",
    "Реализовать кеширования: \n",
    " - для функций (lru_cashe) / \n",
    "-  для классов, чтобы кеш был один на каждый экземпляр класса, \n",
    "- чтобы кеш был общим для всех экземпляров класса)\n",
    "Полезно: https://cachetools.readthedocs.io/en/stable/"
   ]
  },
  {
   "cell_type": "code",
   "execution_count": null,
   "metadata": {},
   "outputs": [],
   "source": []
  },
  {
   "cell_type": "code",
   "execution_count": null,
   "metadata": {},
   "outputs": [],
   "source": [
    "https://pythonz.net/references/named/functools.lru_cache/"
   ]
  },
  {
   "cell_type": "code",
   "execution_count": null,
   "metadata": {},
   "outputs": [],
   "source": [
    "При помощи данного декоратора можно мемоизировать результат функции (запечатлеть результаты для конкретных наборов аргументов).\n",
    "Такое кеширование позволяет экономить время и ресурсы, если тяжёлая функция вызывается периодически с более или менее одинаковым набором аргументов.\n",
    "\n",
    "\n",
    "Для кеширования результатов используется словарь, поэтому аргументы функции (именно они станут ключами словаря) должны поддерживать хеширование."
   ]
  },
  {
   "cell_type": "code",
   "execution_count": 72,
   "metadata": {},
   "outputs": [],
   "source": [
    "from functools import lru_cache"
   ]
  },
  {
   "cell_type": "code",
   "execution_count": 80,
   "metadata": {},
   "outputs": [],
   "source": [
    "@lru_cache(maxsize=2)\n",
    "def get_articles(on_date):\n",
    "\n",
    "    # Здесь затратная операция, выбирающая статьи\n",
    "    # на определённую дату.\n",
    "    articles = [...]\n",
    "\n",
    "    return \"Hello\"\n",
    "\n",
    "\n"
   ]
  },
  {
   "cell_type": "code",
   "execution_count": 81,
   "metadata": {},
   "outputs": [
    {
     "name": "stdout",
     "output_type": "stream",
     "text": [
      "Hello\n",
      "Hello\n",
      "Hello\n"
     ]
    }
   ],
   "source": [
    "print(get_articles(1))\n",
    "print(get_articles(2))\n",
    "print(get_articles(1))  # Взяты из кеша.\n",
    "\n",
    "\n"
   ]
  },
  {
   "cell_type": "code",
   "execution_count": 82,
   "metadata": {},
   "outputs": [
    {
     "data": {
      "text/plain": [
       "CacheInfo(hits=1, misses=2, maxsize=2, currsize=2)"
      ]
     },
     "execution_count": 82,
     "metadata": {},
     "output_type": "execute_result"
    }
   ],
   "source": [
    "# Рассмотрим эффективность кеша:\n",
    "get_articles.cache_info()\n",
    "# CacheInfo(hits=1, misses=2, maxsize=20, currsize=2)\n"
   ]
  },
  {
   "cell_type": "code",
   "execution_count": 83,
   "metadata": {},
   "outputs": [
    {
     "name": "stdout",
     "output_type": "stream",
     "text": [
      "Hello\n",
      "Hello\n",
      "Hello\n"
     ]
    }
   ],
   "source": [
    "print(get_articles(4))\n",
    "print(get_articles(5))\n",
    "print(get_articles(6))  # Взяты из кеша.\n"
   ]
  },
  {
   "cell_type": "code",
   "execution_count": 85,
   "metadata": {},
   "outputs": [
    {
     "data": {
      "text/plain": [
       "CacheInfo(hits=1, misses=5, maxsize=2, currsize=2)"
      ]
     },
     "execution_count": 85,
     "metadata": {},
     "output_type": "execute_result"
    }
   ],
   "source": [
    "get_articles.cache_info()"
   ]
  },
  {
   "cell_type": "code",
   "execution_count": 1,
   "metadata": {},
   "outputs": [],
   "source": [
    "from functools import wraps\n",
    "from functools import lru_cache"
   ]
  },
  {
   "cell_type": "code",
   "execution_count": 14,
   "metadata": {},
   "outputs": [],
   "source": [
    "# def my_cache2(maxsize=50):\n",
    "    \n",
    "#     \"\"\" Cache for call our fucntion\n",
    "#     input:\n",
    "#         * maxsize - max size cache\n",
    "#     output:\n",
    "#         * hits - hit in cache\n",
    "#         * misses - miss cache value\n",
    "#         * currsize - current size of cahce\n",
    "\n",
    "#     \"\"\"\n",
    "#     def _my_cache(func):\n",
    "#         cahe_dict = {}\n",
    "        \n",
    "# #         hits = 0\n",
    "# #         misses = 0\n",
    "# #         currsize = 0\n",
    "\n",
    "\n",
    "#         @wraps(func)\n",
    "#         def wrapper(*args, **kwargs):\n",
    "#             nonlocal hits\n",
    "#             nonlocal misses\n",
    "#             nonlocal currsize\n",
    "            \n",
    "#             print(\"Enter wrapper\")\n",
    "\n",
    "            \n",
    "#             if args in cahe_dict:\n",
    "#                 hits+=1\n",
    "#                 currsize+=1\n",
    "#                 print(\"Get out from cache function with args\", *args)\n",
    "#                 return cahe_dict[args]\n",
    "#             else:\n",
    "#                 if len(cahe_dict) <=  maxsize:\n",
    "#                     print(\"Put in cache function with args\", *args)\n",
    "#                     cahe_dict[args] = func(*args, **kwargs)\n",
    "#                     misses+=1\n",
    "#                     return func(*args, **kwargs)\n",
    "#                 else:\n",
    "#                     exit(\"Cahce is full\")\n",
    "#         def cache_info():\n",
    "#             print(f'''Current fuction results:  hits {hits}, , misses {misses}, maxsize {maxsize}, currsize {currsize}''')\n",
    "        \n",
    "            \n",
    "#         wrapper.cache_info = cache_info\n",
    "        \n",
    "#         #maxsize = maxsize\n",
    "        \n",
    "        \n",
    "# #         wrapper.maxsize = maxsize\n",
    "# #         wrapper.hits = 0\n",
    "# #         wrapper.misses = 0\n",
    "# #         wrapper.currsize = 0\n",
    "\n",
    "#         return wrapper\n",
    "#     return _my_cache"
   ]
  },
  {
   "cell_type": "code",
   "execution_count": 15,
   "metadata": {},
   "outputs": [],
   "source": [
    "@my_cache2(maxsize=50)\n",
    "def simple(index):\n",
    "    \n",
    "    return index"
   ]
  },
  {
   "cell_type": "code",
   "execution_count": 13,
   "metadata": {},
   "outputs": [
    {
     "ename": "TypeError",
     "evalue": "'function' object is not iterable",
     "output_type": "error",
     "traceback": [
      "\u001b[0;31m---------------------------------------------------------------------------\u001b[0m",
      "\u001b[0;31mTypeError\u001b[0m                                 Traceback (most recent call last)",
      "\u001b[0;32m<ipython-input-13-efe3f713cceb>\u001b[0m in \u001b[0;36m<module>\u001b[0;34m\u001b[0m\n\u001b[0;32m----> 1\u001b[0;31m \u001b[0mdict\u001b[0m\u001b[0;34m(\u001b[0m\u001b[0msimple\u001b[0m\u001b[0;34m)\u001b[0m\u001b[0;34m\u001b[0m\u001b[0;34m\u001b[0m\u001b[0m\n\u001b[0m",
      "\u001b[0;31mTypeError\u001b[0m: 'function' object is not iterable"
     ]
    }
   ],
   "source": [
    "simple"
   ]
  },
  {
   "cell_type": "code",
   "execution_count": 3,
   "metadata": {},
   "outputs": [],
   "source": [
    "@my_cache2(maxsize=50)\n",
    "def Fib(n):\n",
    "    \"\"\"Fibonacci function\n",
    "    \n",
    "    Fibonacci function - is the fuction with difficult calculation \n",
    "    F1 = 0\n",
    "    F2 = 0\n",
    "    Fn = Fn-1 + Fn-2\n",
    "    \n",
    "    \"\"\"\n",
    "    print(\"Fib enter\")\n",
    "    \n",
    "    if (n == 1) or (n == 2):\n",
    "        return 1\n",
    "    else:\n",
    "        return Fib(n-1) + Fib(n-2)"
   ]
  },
  {
   "cell_type": "code",
   "execution_count": 4,
   "metadata": {},
   "outputs": [
    {
     "name": "stdout",
     "output_type": "stream",
     "text": [
      "Enter wrapper\n",
      "Put in cache function with args 3\n",
      "Fib enter\n",
      "Enter wrapper\n",
      "Put in cache function with args 2\n",
      "Fib enter\n",
      "Fib enter\n",
      "Enter wrapper\n",
      "Put in cache function with args 1\n",
      "Fib enter\n",
      "Fib enter\n",
      "Fib enter\n",
      "Enter wrapper\n",
      "Get out from cache function with args 2\n",
      "Enter wrapper\n",
      "Get out from cache function with args 1\n"
     ]
    },
    {
     "data": {
      "text/plain": [
       "2"
      ]
     },
     "execution_count": 4,
     "metadata": {},
     "output_type": "execute_result"
    }
   ],
   "source": [
    "Fib(3)"
   ]
  },
  {
   "cell_type": "code",
   "execution_count": 5,
   "metadata": {},
   "outputs": [
    {
     "name": "stdout",
     "output_type": "stream",
     "text": [
      "Current fuction results:  hits 2, , misses 3, maxsize 50, currsize 2\n"
     ]
    }
   ],
   "source": [
    "Fib.cache_info()"
   ]
  },
  {
   "cell_type": "code",
   "execution_count": 16,
   "metadata": {},
   "outputs": [
    {
     "name": "stdout",
     "output_type": "stream",
     "text": [
      "Enter wrapper\n",
      "Put in cache function with args 2\n"
     ]
    },
    {
     "ename": "UnboundLocalError",
     "evalue": "local variable 'misses' referenced before assignment",
     "output_type": "error",
     "traceback": [
      "\u001b[0;31m---------------------------------------------------------------------------\u001b[0m",
      "\u001b[0;31mUnboundLocalError\u001b[0m                         Traceback (most recent call last)",
      "\u001b[0;32m<ipython-input-16-3bc0f80ce182>\u001b[0m in \u001b[0;36m<module>\u001b[0;34m\u001b[0m\n\u001b[0;32m----> 1\u001b[0;31m \u001b[0msimple\u001b[0m\u001b[0;34m(\u001b[0m\u001b[0;36m2\u001b[0m\u001b[0;34m)\u001b[0m\u001b[0;34m\u001b[0m\u001b[0;34m\u001b[0m\u001b[0m\n\u001b[0m",
      "\u001b[0;32m<ipython-input-14-5eb64f4b29f1>\u001b[0m in \u001b[0;36mwrapper\u001b[0;34m(*args, **kwargs)\u001b[0m\n\u001b[1;32m     31\u001b[0m                     \u001b[0mprint\u001b[0m\u001b[0;34m(\u001b[0m\u001b[0;34m\"Put in cache function with args\"\u001b[0m\u001b[0;34m,\u001b[0m \u001b[0;34m*\u001b[0m\u001b[0margs\u001b[0m\u001b[0;34m)\u001b[0m\u001b[0;34m\u001b[0m\u001b[0;34m\u001b[0m\u001b[0m\n\u001b[1;32m     32\u001b[0m                     \u001b[0mcahe_dict\u001b[0m\u001b[0;34m[\u001b[0m\u001b[0margs\u001b[0m\u001b[0;34m]\u001b[0m \u001b[0;34m=\u001b[0m \u001b[0mfunc\u001b[0m\u001b[0;34m(\u001b[0m\u001b[0;34m*\u001b[0m\u001b[0margs\u001b[0m\u001b[0;34m,\u001b[0m \u001b[0;34m**\u001b[0m\u001b[0mkwargs\u001b[0m\u001b[0;34m)\u001b[0m\u001b[0;34m\u001b[0m\u001b[0;34m\u001b[0m\u001b[0m\n\u001b[0;32m---> 33\u001b[0;31m                     \u001b[0mmisses\u001b[0m\u001b[0;34m+=\u001b[0m\u001b[0;36m1\u001b[0m\u001b[0;34m\u001b[0m\u001b[0;34m\u001b[0m\u001b[0m\n\u001b[0m\u001b[1;32m     34\u001b[0m                     \u001b[0;32mreturn\u001b[0m \u001b[0mfunc\u001b[0m\u001b[0;34m(\u001b[0m\u001b[0;34m*\u001b[0m\u001b[0margs\u001b[0m\u001b[0;34m,\u001b[0m \u001b[0;34m**\u001b[0m\u001b[0mkwargs\u001b[0m\u001b[0;34m)\u001b[0m\u001b[0;34m\u001b[0m\u001b[0;34m\u001b[0m\u001b[0m\n\u001b[1;32m     35\u001b[0m                 \u001b[0;32melse\u001b[0m\u001b[0;34m:\u001b[0m\u001b[0;34m\u001b[0m\u001b[0;34m\u001b[0m\u001b[0m\n",
      "\u001b[0;31mUnboundLocalError\u001b[0m: local variable 'misses' referenced before assignment"
     ]
    }
   ],
   "source": [
    "simple(2)"
   ]
  },
  {
   "cell_type": "code",
   "execution_count": 9,
   "metadata": {},
   "outputs": [
    {
     "name": "stdout",
     "output_type": "stream",
     "text": [
      "Current fuction results:  hits 0, , misses 2, maxsize 50, currsize 0\n"
     ]
    }
   ],
   "source": [
    "simple.cache_info()"
   ]
  },
  {
   "cell_type": "markdown",
   "metadata": {},
   "source": [
    "# 1. Реализация функции cache почти аналог функции (lru_cashe) "
   ]
  },
  {
   "cell_type": "markdown",
   "metadata": {},
   "source": [
    "It's analog function \"lru_cashe\" from functools.lru_cache"
   ]
  },
  {
   "cell_type": "code",
   "execution_count": 1,
   "metadata": {},
   "outputs": [],
   "source": [
    "from functools import wraps\n",
    "from functools import lru_cache"
   ]
  },
  {
   "cell_type": "code",
   "execution_count": 6,
   "metadata": {},
   "outputs": [],
   "source": [
    "def my_cache(maxsize=50):\n",
    "    \n",
    "    \"\"\" Cache for call our fucntion\n",
    "    input:\n",
    "        * maxsize - max size cache\n",
    "    output:\n",
    "        * hits - hit in cache\n",
    "        * misses - miss cache value\n",
    "        * currsize - current size of cahce\n",
    "\n",
    "    \"\"\"\n",
    "    def _my_cache(func):\n",
    "        cahe_dict = {}\n",
    "\n",
    "        @wraps(func)\n",
    "        def wrapper(*args, **kwargs):\n",
    "            print(\"Enter wrapper\")\n",
    "\n",
    "            \n",
    "            if args in cahe_dict:\n",
    "                wrapper.hits+=1\n",
    "                wrapper.currsize+=1\n",
    "                print(\"Get out from cache function with args\", *args)\n",
    "                return cahe_dict[args]\n",
    "            else:\n",
    "                if len(cahe_dict) <=  wrapper.maxsize:\n",
    "                    print(\"Put in cache function with args\", *args)\n",
    "                    cahe_dict[args] = func(*args, **kwargs)\n",
    "                    wrapper.misses+=1\n",
    "                    return func(*args, **kwargs)\n",
    "                else:\n",
    "                    exit(\"Cahce is full\")\n",
    "        def cache_info():\n",
    "            print(f'''Current fuction results:  hits {wrapper.hits}, , misses {wrapper.misses}, maxsize {wrapper.maxsize}, currsize {wrapper.currsize}''')\n",
    "        \n",
    "            \n",
    "        wrapper.cache_info = cache_info\n",
    "\n",
    "        \n",
    "        wrapper.maxsize = maxsize\n",
    "        wrapper.hits = 0\n",
    "        wrapper.misses = 0\n",
    "        wrapper.currsize = 0\n",
    "\n",
    "        return wrapper\n",
    "    return _my_cache"
   ]
  },
  {
   "cell_type": "code",
   "execution_count": null,
   "metadata": {},
   "outputs": [],
   "source": [
    "# _my_cache = my_cache(maxsize)\n",
    "# Fib = _my_cache(Fib) -> wrapper\n",
    "#"
   ]
  },
  {
   "cell_type": "code",
   "execution_count": 279,
   "metadata": {},
   "outputs": [],
   "source": [
    "#Fib.__clouser__"
   ]
  },
  {
   "cell_type": "code",
   "execution_count": 9,
   "metadata": {},
   "outputs": [
    {
     "name": "stdout",
     "output_type": "stream",
     "text": [
      "Fib.__name__\n",
      "Enter wrapper\n",
      "Put in cache function with args 2\n",
      "Fib.__name__\n",
      "Fib.__name__\n",
      "Enter wrapper\n",
      "Put in cache function with args 1\n",
      "Fib.__name__\n",
      "Fib.__name__\n"
     ]
    },
    {
     "data": {
      "text/plain": [
       "2"
      ]
     },
     "execution_count": 9,
     "metadata": {},
     "output_type": "execute_result"
    }
   ],
   "source": [
    "Fib.__dict__['__wrapped__'](3)"
   ]
  },
  {
   "cell_type": "code",
   "execution_count": 8,
   "metadata": {},
   "outputs": [
    {
     "data": {
      "text/plain": [
       "{'__wrapped__': <function __main__.Fib(n)>,\n",
       " 'cache_info': <function __main__.my_cache.<locals>._my_cache.<locals>.cache_info()>,\n",
       " 'maxsize': 50,\n",
       " 'hits': 0,\n",
       " 'misses': 0,\n",
       " 'currsize': 0}"
      ]
     },
     "execution_count": 8,
     "metadata": {},
     "output_type": "execute_result"
    }
   ],
   "source": [
    "Fib.__dict__"
   ]
  },
  {
   "cell_type": "code",
   "execution_count": 7,
   "metadata": {},
   "outputs": [],
   "source": [
    "@my_cache(maxsize=50)\n",
    "def Fib(n):\n",
    "    \"\"\"Fibonacci function\n",
    "    \n",
    "    Fibonacci function - is the fuction with difficult calculation \n",
    "    F1 = 0\n",
    "    F2 = 0\n",
    "    Fn = Fn-1 + Fn-2\n",
    "    \n",
    "    \"\"\"\n",
    "    print(\"Fib enter\")\n",
    "    \n",
    "    if (n == 1) or (n == 2):\n",
    "        return 1\n",
    "    else:\n",
    "        return Fib(n-1) + Fib(n-2)"
   ]
  },
  {
   "cell_type": "code",
   "execution_count": 106,
   "metadata": {},
   "outputs": [
    {
     "name": "stdout",
     "output_type": "stream",
     "text": [
      "Put in cache function with args 12\n",
      "Put in cache function with args 11\n",
      "Put in cache function with args 10\n",
      "Put in cache function with args 9\n",
      "Put in cache function with args 8\n",
      "Put in cache function with args 7\n",
      "Put in cache function with args 6\n",
      "Put in cache function with args 5\n",
      "Put in cache function with args 4\n",
      "Put in cache function with args 3\n",
      "Put in cache function with args 2\n",
      "Put in cache function with args 1\n",
      "Get out from cache function with args 2\n",
      "Get out from cache function with args 1\n",
      "Get out from cache function with args 2\n",
      "Get out from cache function with args 3\n",
      "Get out from cache function with args 2\n",
      "Get out from cache function with args 3\n",
      "Get out from cache function with args 4\n",
      "Get out from cache function with args 3\n",
      "Get out from cache function with args 4\n",
      "Get out from cache function with args 5\n",
      "Get out from cache function with args 4\n",
      "Get out from cache function with args 5\n",
      "Get out from cache function with args 6\n",
      "Get out from cache function with args 5\n",
      "Get out from cache function with args 6\n",
      "Get out from cache function with args 7\n",
      "Get out from cache function with args 6\n",
      "Get out from cache function with args 7\n",
      "Get out from cache function with args 8\n",
      "Get out from cache function with args 7\n",
      "Get out from cache function with args 8\n",
      "Get out from cache function with args 9\n",
      "Get out from cache function with args 8\n",
      "Get out from cache function with args 9\n",
      "Get out from cache function with args 10\n",
      "Get out from cache function with args 9\n",
      "Get out from cache function with args 10\n",
      "Get out from cache function with args 11\n",
      "Get out from cache function with args 10\n"
     ]
    },
    {
     "data": {
      "text/plain": [
       "144"
      ]
     },
     "execution_count": 106,
     "metadata": {},
     "output_type": "execute_result"
    }
   ],
   "source": [
    "Fib(12)"
   ]
  },
  {
   "cell_type": "code",
   "execution_count": 107,
   "metadata": {},
   "outputs": [
    {
     "name": "stdout",
     "output_type": "stream",
     "text": [
      "Current fuction results:  hits 29, , misses 12, maxsize 50, currsize 29\n"
     ]
    }
   ],
   "source": [
    "Fib.cache_info()"
   ]
  },
  {
   "cell_type": "code",
   "execution_count": 108,
   "metadata": {},
   "outputs": [
    {
     "name": "stdout",
     "output_type": "stream",
     "text": [
      "Put in cache function with args 13\n",
      "Get out from cache function with args 12\n",
      "Get out from cache function with args 11\n",
      "Get out from cache function with args 12\n",
      "Get out from cache function with args 11\n"
     ]
    },
    {
     "data": {
      "text/plain": [
       "233"
      ]
     },
     "execution_count": 108,
     "metadata": {},
     "output_type": "execute_result"
    }
   ],
   "source": [
    "#!!!!!! Не понятно почему 5 вызовывов по два раза 11 и 12\n",
    "Fib(13)"
   ]
  },
  {
   "cell_type": "code",
   "execution_count": 109,
   "metadata": {},
   "outputs": [
    {
     "name": "stdout",
     "output_type": "stream",
     "text": [
      "Current fuction results:  hits 33, , misses 13, maxsize 50, currsize 33\n"
     ]
    }
   ],
   "source": [
    "Fib.cache_info()"
   ]
  },
  {
   "cell_type": "code",
   "execution_count": 110,
   "metadata": {},
   "outputs": [],
   "source": [
    "@lru_cache(maxsize=50)\n",
    "def Fib2(n):\n",
    "    \"\"\"Fibonacci function\n",
    "    \n",
    "    Fibonacci function - is the fuction with difficult calculation \n",
    "    F1 = 0\n",
    "    F2 = 0\n",
    "    Fn = Fn-1 + Fn-2\n",
    "    \n",
    "    \"\"\"\n",
    "\n",
    "    if (n == 1) or (n == 2):\n",
    "        return 1\n",
    "    else:\n",
    "        return Fib2(n-1) + Fib2(n-2)"
   ]
  },
  {
   "cell_type": "code",
   "execution_count": 111,
   "metadata": {},
   "outputs": [
    {
     "data": {
      "text/plain": [
       "144"
      ]
     },
     "execution_count": 111,
     "metadata": {},
     "output_type": "execute_result"
    }
   ],
   "source": [
    "Fib2(12)"
   ]
  },
  {
   "cell_type": "code",
   "execution_count": 112,
   "metadata": {},
   "outputs": [
    {
     "data": {
      "text/plain": [
       "CacheInfo(hits=9, misses=12, maxsize=50, currsize=12)"
      ]
     },
     "execution_count": 112,
     "metadata": {},
     "output_type": "execute_result"
    }
   ],
   "source": [
    "Fib2.cache_info()"
   ]
  },
  {
   "cell_type": "code",
   "execution_count": 113,
   "metadata": {},
   "outputs": [
    {
     "data": {
      "text/plain": [
       "233"
      ]
     },
     "execution_count": 113,
     "metadata": {},
     "output_type": "execute_result"
    }
   ],
   "source": [
    "Fib2(13)"
   ]
  },
  {
   "cell_type": "code",
   "execution_count": 114,
   "metadata": {},
   "outputs": [
    {
     "data": {
      "text/plain": [
       "CacheInfo(hits=11, misses=13, maxsize=50, currsize=13)"
      ]
     },
     "execution_count": 114,
     "metadata": {},
     "output_type": "execute_result"
    }
   ],
   "source": [
    "Fib2.cache_info()"
   ]
  },
  {
   "cell_type": "code",
   "execution_count": null,
   "metadata": {},
   "outputs": [],
   "source": [
    "##Вопросы## Функция my_cache работает не так: cache_info"
   ]
  },
  {
   "cell_type": "code",
   "execution_count": null,
   "metadata": {},
   "outputs": [],
   "source": []
  },
  {
   "cell_type": "markdown",
   "metadata": {},
   "source": [
    "# 2. Реализация cache с помощью класса"
   ]
  },
  {
   "cell_type": "markdown",
   "metadata": {},
   "source": [
    "## 2.1 Реализация, что кеш один на каждый экземпляр класса"
   ]
  },
  {
   "cell_type": "code",
   "execution_count": null,
   "metadata": {},
   "outputs": [],
   "source": [
    "[{'id': 1, 'val':5}]"
   ]
  },
  {
   "cell_type": "code",
   "execution_count": null,
   "metadata": {},
   "outputs": [],
   "source": [
    "# \n",
    "d = dict()\n",
    "\n",
    "d[1]"
   ]
  },
  {
   "cell_type": "code",
   "execution_count": null,
   "metadata": {},
   "outputs": [],
   "source": [
    "#!!!!!! OrderedDict в collection"
   ]
  },
  {
   "cell_type": "code",
   "execution_count": null,
   "metadata": {},
   "outputs": [],
   "source": [
    "Node: val, next"
   ]
  },
  {
   "cell_type": "code",
   "execution_count": 154,
   "metadata": {},
   "outputs": [],
   "source": [
    "from functools import wraps"
   ]
  },
  {
   "cell_type": "code",
   "execution_count": 155,
   "metadata": {},
   "outputs": [],
   "source": [
    "class My_Cache_Class(object):\n",
    "    \n",
    "    def __init__(self, maxsize=50):\n",
    "        self.cahe_dict = {}\n",
    "        \n",
    "        self.maxsize = maxsize\n",
    "        self.hits = 0\n",
    "        self.misses = 0\n",
    "        self.currsize = 0\n",
    "\n",
    "        \n",
    "        \n",
    "    def __call__(self, func):\n",
    "        \n",
    "        @wraps(func)\n",
    "        def wrapper(*args, **kwargs):            \n",
    "            if args in self.cahe_dict:\n",
    "                self.hits+=1\n",
    "                self.currsize+=1\n",
    "                print(\"Get out from cache function with args\", *args)\n",
    "                return self.cahe_dict[args]\n",
    "            else:\n",
    "                if len(self.cahe_dict) <=  self.maxsize:\n",
    "                    print(\"Put in cache function with args\", *args)\n",
    "                    self.cahe_dict[args] = func(*args, **kwargs)\n",
    "                    self.misses+=1\n",
    "                    return func(*args, **kwargs)\n",
    "                else:\n",
    "                    exit(\"Cahce is full\")\n",
    "        \n",
    "        \n",
    "#         def cache_info():\n",
    "#             print(f'''Current fuction results:  hits {self.hits}, misses {self.misses}, maxsize {self.maxsize}, currsize {self.currsize}''')\n",
    "        \n",
    "        \n",
    "        wrapper.cache_info = self.cache_info\n",
    "        \n",
    "        return wrapper\n",
    "\n",
    "    def cache_info(self):\n",
    "        print(f'''Current fuction results:  hits {self.hits}, misses {self.misses}, maxsize {self.maxsize}, currsize {self.currsize}''')\n"
   ]
  },
  {
   "cell_type": "code",
   "execution_count": 156,
   "metadata": {},
   "outputs": [],
   "source": [
    "@My_Cache_Class(maxsize=200)\n",
    "def Fib(n):\n",
    "    \"\"\"Fibonacci function\n",
    "    \n",
    "    Fibonacci function - is the fuction with difficult calculation \n",
    "    F1 = 0\n",
    "    F2 = 0\n",
    "    Fn = Fn-1 + Fn-2\n",
    "    \n",
    "    \"\"\"\n",
    "\n",
    "    if (n == 1) or (n == 2):\n",
    "        return 1\n",
    "    else:\n",
    "        return Fib(n-1) + Fib(n-2)"
   ]
  },
  {
   "cell_type": "code",
   "execution_count": 157,
   "metadata": {},
   "outputs": [],
   "source": [
    "@My_Cache_Class(maxsize=200)\n",
    "def Fib2_modify(n):\n",
    "    \"\"\"Fibonacci function\n",
    "    \n",
    "    Fibonacci function - is the fuction with difficult calculation \n",
    "    F1 = 0\n",
    "    F2 = 0\n",
    "    Fn = Fn-1 + Fn-2\n",
    "    \n",
    "    \"\"\"\n",
    "\n",
    "    if (n == 13) or (n == 14):\n",
    "        return 1\n",
    "    else:\n",
    "        return 2*Fib2_modify(n-1) + Fib2_modify(n-2)"
   ]
  },
  {
   "cell_type": "code",
   "execution_count": 158,
   "metadata": {},
   "outputs": [
    {
     "name": "stdout",
     "output_type": "stream",
     "text": [
      "Put in cache function with args 12\n",
      "Put in cache function with args 11\n",
      "Put in cache function with args 10\n",
      "Put in cache function with args 9\n",
      "Put in cache function with args 8\n",
      "Put in cache function with args 7\n",
      "Put in cache function with args 6\n",
      "Put in cache function with args 5\n",
      "Put in cache function with args 4\n",
      "Put in cache function with args 3\n",
      "Put in cache function with args 2\n",
      "Put in cache function with args 1\n",
      "Get out from cache function with args 2\n",
      "Get out from cache function with args 1\n",
      "Get out from cache function with args 2\n",
      "Get out from cache function with args 3\n",
      "Get out from cache function with args 2\n",
      "Get out from cache function with args 3\n",
      "Get out from cache function with args 4\n",
      "Get out from cache function with args 3\n",
      "Get out from cache function with args 4\n",
      "Get out from cache function with args 5\n",
      "Get out from cache function with args 4\n",
      "Get out from cache function with args 5\n",
      "Get out from cache function with args 6\n",
      "Get out from cache function with args 5\n",
      "Get out from cache function with args 6\n",
      "Get out from cache function with args 7\n",
      "Get out from cache function with args 6\n",
      "Get out from cache function with args 7\n",
      "Get out from cache function with args 8\n",
      "Get out from cache function with args 7\n",
      "Get out from cache function with args 8\n",
      "Get out from cache function with args 9\n",
      "Get out from cache function with args 8\n",
      "Get out from cache function with args 9\n",
      "Get out from cache function with args 10\n",
      "Get out from cache function with args 9\n",
      "Get out from cache function with args 10\n",
      "Get out from cache function with args 11\n",
      "Get out from cache function with args 10\n"
     ]
    },
    {
     "data": {
      "text/plain": [
       "144"
      ]
     },
     "execution_count": 158,
     "metadata": {},
     "output_type": "execute_result"
    }
   ],
   "source": [
    "Fib(12)"
   ]
  },
  {
   "cell_type": "code",
   "execution_count": 159,
   "metadata": {},
   "outputs": [
    {
     "name": "stdout",
     "output_type": "stream",
     "text": [
      "Current fuction results:  hits 29, misses 12, maxsize 200, currsize 29\n"
     ]
    }
   ],
   "source": [
    "Fib.cache_info()"
   ]
  },
  {
   "cell_type": "code",
   "execution_count": 160,
   "metadata": {},
   "outputs": [
    {
     "name": "stdout",
     "output_type": "stream",
     "text": [
      "Put in cache function with args 25\n",
      "Put in cache function with args 24\n",
      "Put in cache function with args 23\n",
      "Put in cache function with args 22\n",
      "Put in cache function with args 21\n",
      "Put in cache function with args 20\n",
      "Put in cache function with args 19\n",
      "Put in cache function with args 18\n",
      "Put in cache function with args 17\n",
      "Put in cache function with args 16\n",
      "Put in cache function with args 15\n",
      "Put in cache function with args 14\n",
      "Put in cache function with args 13\n",
      "Get out from cache function with args 14\n",
      "Get out from cache function with args 13\n",
      "Get out from cache function with args 14\n",
      "Get out from cache function with args 15\n",
      "Get out from cache function with args 14\n",
      "Get out from cache function with args 15\n",
      "Get out from cache function with args 16\n",
      "Get out from cache function with args 15\n",
      "Get out from cache function with args 16\n",
      "Get out from cache function with args 17\n",
      "Get out from cache function with args 16\n",
      "Get out from cache function with args 17\n",
      "Get out from cache function with args 18\n",
      "Get out from cache function with args 17\n",
      "Get out from cache function with args 18\n",
      "Get out from cache function with args 19\n",
      "Get out from cache function with args 18\n",
      "Get out from cache function with args 19\n",
      "Get out from cache function with args 20\n",
      "Get out from cache function with args 19\n",
      "Get out from cache function with args 20\n",
      "Get out from cache function with args 21\n",
      "Get out from cache function with args 20\n",
      "Get out from cache function with args 21\n",
      "Get out from cache function with args 22\n",
      "Get out from cache function with args 21\n",
      "Get out from cache function with args 22\n",
      "Get out from cache function with args 23\n",
      "Get out from cache function with args 22\n",
      "Get out from cache function with args 23\n",
      "Get out from cache function with args 24\n",
      "Get out from cache function with args 23\n"
     ]
    },
    {
     "data": {
      "text/plain": [
       "19601"
      ]
     },
     "execution_count": 160,
     "metadata": {},
     "output_type": "execute_result"
    }
   ],
   "source": [
    "Fib2_modify(25)"
   ]
  },
  {
   "cell_type": "code",
   "execution_count": 161,
   "metadata": {},
   "outputs": [
    {
     "name": "stdout",
     "output_type": "stream",
     "text": [
      "Current fuction results:  hits 32, misses 13, maxsize 200, currsize 32\n"
     ]
    }
   ],
   "source": [
    "Fib2_modify.cache_info()"
   ]
  },
  {
   "cell_type": "markdown",
   "metadata": {},
   "source": [
    "## 2.2 Реализация функции кеш через класса"
   ]
  },
  {
   "cell_type": "code",
   "execution_count": 162,
   "metadata": {},
   "outputs": [],
   "source": [
    "from functools import wraps"
   ]
  },
  {
   "cell_type": "code",
   "execution_count": 177,
   "metadata": {},
   "outputs": [],
   "source": [
    "class My_Common_Cache_Class(object):\n",
    "    \n",
    "    cahe_dict = {}        \n",
    "    hits = 0\n",
    "    misses = 0\n",
    "    currsize = 0\n",
    "\n",
    "    def __init__(self, maxsize=50):\n",
    "        self.maxsize = maxsize\n",
    "\n",
    "        \n",
    "        \n",
    "        \n",
    "    def __call__(self, func):\n",
    "        \n",
    "        @wraps(func)\n",
    "        def wrapper(*args, **kwargs):            \n",
    "            if args in My_Common_Cache_Class.cahe_dict:\n",
    "                My_Common_Cache_Class.hits+=1\n",
    "                My_Common_Cache_Class.currsize+=1\n",
    "                print(\"Get out from cache function with args\", *args)\n",
    "                return My_Common_Cache_Class.cahe_dict[args]\n",
    "            else:\n",
    "                if len(My_Common_Cache_Class.cahe_dict) <=  self.maxsize:\n",
    "                    print(\"Put in cache function with args\", *args)\n",
    "                    My_Common_Cache_Class.cahe_dict[args] = func(*args, **kwargs)\n",
    "                    My_Common_Cache_Class.misses+=1\n",
    "                    return func(*args, **kwargs)\n",
    "                else:\n",
    "                    exit(\"Cahce is full\")\n",
    "        \n",
    "        \n",
    "        def cache_info():\n",
    "            print(f'''Current fuction results:  hits {My_Common_Cache_Class.hits}, misses {My_Common_Cache_Class.misses}, maxsize {My_Common_Cache_Class.maxsize}, currsize {My_Common_Cache_Class.currsize}''')\n",
    "        \n",
    "        \n",
    "        wrapper.cache_info = My_Common_Cache_Class.cache_info\n",
    "        \n",
    "        return wrapper\n"
   ]
  },
  {
   "cell_type": "code",
   "execution_count": 178,
   "metadata": {},
   "outputs": [],
   "source": [
    "@My_Cache_Class(maxsize=200)\n",
    "def Fib(n):\n",
    "    \"\"\"Fibonacci function\n",
    "    \n",
    "    Fibonacci function - is the fuction with difficult calculation \n",
    "    F1 = 0\n",
    "    F2 = 0\n",
    "    Fn = Fn-1 + Fn-2\n",
    "    \n",
    "    \"\"\"\n",
    "\n",
    "    if (n == 1) or (n == 2):\n",
    "        return 1\n",
    "    else:\n",
    "        return Fib(n-1) + Fib(n-2)"
   ]
  },
  {
   "cell_type": "code",
   "execution_count": 179,
   "metadata": {},
   "outputs": [],
   "source": [
    "@My_Cache_Class(maxsize=200)\n",
    "def Fib2_modify(n):\n",
    "    \"\"\"Fibonacci function\n",
    "    \n",
    "    Fibonacci function - is the fuction with difficult calculation \n",
    "    F1 = 0\n",
    "    F2 = 0\n",
    "    Fn = Fn-1 + Fn-2\n",
    "    \n",
    "    \"\"\"\n",
    "\n",
    "    if (n == 13) or (n == 14):\n",
    "        return 1\n",
    "    else:\n",
    "        return 2*Fib2_modify(n-1) + Fib2_modify(n-2)"
   ]
  },
  {
   "cell_type": "code",
   "execution_count": 180,
   "metadata": {},
   "outputs": [
    {
     "name": "stdout",
     "output_type": "stream",
     "text": [
      "Put in cache function with args 12\n",
      "Put in cache function with args 11\n",
      "Put in cache function with args 10\n",
      "Put in cache function with args 9\n",
      "Put in cache function with args 8\n",
      "Put in cache function with args 7\n",
      "Put in cache function with args 6\n",
      "Put in cache function with args 5\n",
      "Put in cache function with args 4\n",
      "Put in cache function with args 3\n",
      "Put in cache function with args 2\n",
      "Put in cache function with args 1\n",
      "Get out from cache function with args 2\n",
      "Get out from cache function with args 1\n",
      "Get out from cache function with args 2\n",
      "Get out from cache function with args 3\n",
      "Get out from cache function with args 2\n",
      "Get out from cache function with args 3\n",
      "Get out from cache function with args 4\n",
      "Get out from cache function with args 3\n",
      "Get out from cache function with args 4\n",
      "Get out from cache function with args 5\n",
      "Get out from cache function with args 4\n",
      "Get out from cache function with args 5\n",
      "Get out from cache function with args 6\n",
      "Get out from cache function with args 5\n",
      "Get out from cache function with args 6\n",
      "Get out from cache function with args 7\n",
      "Get out from cache function with args 6\n",
      "Get out from cache function with args 7\n",
      "Get out from cache function with args 8\n",
      "Get out from cache function with args 7\n",
      "Get out from cache function with args 8\n",
      "Get out from cache function with args 9\n",
      "Get out from cache function with args 8\n",
      "Get out from cache function with args 9\n",
      "Get out from cache function with args 10\n",
      "Get out from cache function with args 9\n",
      "Get out from cache function with args 10\n",
      "Get out from cache function with args 11\n",
      "Get out from cache function with args 10\n"
     ]
    },
    {
     "data": {
      "text/plain": [
       "144"
      ]
     },
     "execution_count": 180,
     "metadata": {},
     "output_type": "execute_result"
    }
   ],
   "source": [
    "Fib(12)"
   ]
  },
  {
   "cell_type": "code",
   "execution_count": 181,
   "metadata": {},
   "outputs": [
    {
     "name": "stdout",
     "output_type": "stream",
     "text": [
      "Current fuction results:  hits 29, misses 12, maxsize 200, currsize 29\n"
     ]
    }
   ],
   "source": [
    "Fib.cache_info()"
   ]
  },
  {
   "cell_type": "code",
   "execution_count": 182,
   "metadata": {},
   "outputs": [
    {
     "name": "stdout",
     "output_type": "stream",
     "text": [
      "Put in cache function with args 25\n",
      "Put in cache function with args 24\n",
      "Put in cache function with args 23\n",
      "Put in cache function with args 22\n",
      "Put in cache function with args 21\n",
      "Put in cache function with args 20\n",
      "Put in cache function with args 19\n",
      "Put in cache function with args 18\n",
      "Put in cache function with args 17\n",
      "Put in cache function with args 16\n",
      "Put in cache function with args 15\n",
      "Put in cache function with args 14\n",
      "Put in cache function with args 13\n",
      "Get out from cache function with args 14\n",
      "Get out from cache function with args 13\n",
      "Get out from cache function with args 14\n",
      "Get out from cache function with args 15\n",
      "Get out from cache function with args 14\n",
      "Get out from cache function with args 15\n",
      "Get out from cache function with args 16\n",
      "Get out from cache function with args 15\n",
      "Get out from cache function with args 16\n",
      "Get out from cache function with args 17\n",
      "Get out from cache function with args 16\n",
      "Get out from cache function with args 17\n",
      "Get out from cache function with args 18\n",
      "Get out from cache function with args 17\n",
      "Get out from cache function with args 18\n",
      "Get out from cache function with args 19\n",
      "Get out from cache function with args 18\n",
      "Get out from cache function with args 19\n",
      "Get out from cache function with args 20\n",
      "Get out from cache function with args 19\n",
      "Get out from cache function with args 20\n",
      "Get out from cache function with args 21\n",
      "Get out from cache function with args 20\n",
      "Get out from cache function with args 21\n",
      "Get out from cache function with args 22\n",
      "Get out from cache function with args 21\n",
      "Get out from cache function with args 22\n",
      "Get out from cache function with args 23\n",
      "Get out from cache function with args 22\n",
      "Get out from cache function with args 23\n",
      "Get out from cache function with args 24\n",
      "Get out from cache function with args 23\n"
     ]
    },
    {
     "data": {
      "text/plain": [
       "19601"
      ]
     },
     "execution_count": 182,
     "metadata": {},
     "output_type": "execute_result"
    }
   ],
   "source": [
    "Fib2_modify(25)"
   ]
  },
  {
   "cell_type": "code",
   "execution_count": 183,
   "metadata": {},
   "outputs": [
    {
     "name": "stdout",
     "output_type": "stream",
     "text": [
      "Current fuction results:  hits 32, misses 13, maxsize 200, currsize 32\n"
     ]
    }
   ],
   "source": [
    "Fib2_modify.cache_info()"
   ]
  },
  {
   "cell_type": "markdown",
   "metadata": {},
   "source": [
    "## 3.2 Реализация, что кеш общий для всех экземпляроы класса"
   ]
  },
  {
   "cell_type": "code",
   "execution_count": 194,
   "metadata": {},
   "outputs": [],
   "source": [
    "from functools import wraps"
   ]
  },
  {
   "cell_type": "code",
   "execution_count": 195,
   "metadata": {},
   "outputs": [],
   "source": [
    "class My_Cache_Class2(object):\n",
    "    \n",
    "    def __init__(self, maxsize=50):\n",
    "        self.cahe_dict = {}\n",
    "        \n",
    "        self.maxsize = maxsize\n",
    "        self.hits = 0\n",
    "        self.misses = 0\n",
    "        self.currsize = 0\n",
    "\n",
    "        \n",
    "        \n",
    "    def __call__(self, func):\n",
    "        \n",
    "        @wraps(func)\n",
    "        def wrapper(*args, **kwargs):            \n",
    "            if args in self.cahe_dict:\n",
    "                self.hits+=1\n",
    "                self.currsize+=1\n",
    "                print(\"Get out from cache function with args\", *args)\n",
    "                return self.cahe_dict[args]\n",
    "            else:\n",
    "                if len(self.cahe_dict) <=  self.maxsize:\n",
    "                    print(\"Put in cache function with args\", *args)\n",
    "                    self.cahe_dict[args] = func(*args, **kwargs)\n",
    "                    self.misses+=1\n",
    "                    return func(*args, **kwargs)\n",
    "                else:\n",
    "                    exit(\"Cahce is full\")\n",
    "        \n",
    "        \n",
    "#     def cache_info():\n",
    "#             print(f'''Current fuction results:  hits {self.hits}, misses {self.misses}, maxsize {self.maxsize}, currsize {self.currsize}''')\n",
    "        \n",
    "        \n",
    "#         wrapper.cache_info = cache_info\n",
    "        \n",
    "        return wrapper\n",
    "    \n",
    "    def fib(self, n):\n",
    "        \"\"\"Fibonacci function\n",
    "\n",
    "        Fibonacci function - is the fuction with difficult calculation \n",
    "        F1 = 0\n",
    "        F2 = 0\n",
    "        Fn = Fn-1 + Fn-2\n",
    "\n",
    "        \"\"\"\n",
    "        if \n",
    "\n",
    "        if (n == 1) or (n == 2):\n",
    "            return 1\n",
    "        else:\n",
    "            return fib(n-1) + fib(n-2)\n"
   ]
  },
  {
   "cell_type": "code",
   "execution_count": 196,
   "metadata": {},
   "outputs": [],
   "source": [
    "a = My_Cache_Class2()\n",
    "b = My_Cache_Class2()"
   ]
  },
  {
   "cell_type": "code",
   "execution_count": 197,
   "metadata": {},
   "outputs": [
    {
     "data": {
      "text/plain": [
       "1"
      ]
     },
     "execution_count": 197,
     "metadata": {},
     "output_type": "execute_result"
    }
   ],
   "source": [
    "a.fib(2)"
   ]
  },
  {
   "cell_type": "code",
   "execution_count": 262,
   "metadata": {},
   "outputs": [],
   "source": [
    "f = (1,2,3)"
   ]
  },
  {
   "cell_type": "code",
   "execution_count": 264,
   "metadata": {},
   "outputs": [
    {
     "ename": "AttributeError",
     "evalue": "'tuple' object has no attribute 'append'",
     "output_type": "error",
     "traceback": [
      "\u001b[0;31m---------------------------------------------------------------------------\u001b[0m",
      "\u001b[0;31mAttributeError\u001b[0m                            Traceback (most recent call last)",
      "\u001b[0;32m<ipython-input-264-77939bb6354b>\u001b[0m in \u001b[0;36m<module>\u001b[0;34m\u001b[0m\n\u001b[0;32m----> 1\u001b[0;31m \u001b[0mf\u001b[0m\u001b[0;34m.\u001b[0m\u001b[0mappend\u001b[0m\u001b[0;34m(\u001b[0m\u001b[0;36m7\u001b[0m\u001b[0;34m)\u001b[0m\u001b[0;34m\u001b[0m\u001b[0;34m\u001b[0m\u001b[0m\n\u001b[0m",
      "\u001b[0;31mAttributeError\u001b[0m: 'tuple' object has no attribute 'append'"
     ]
    }
   ],
   "source": [
    "f.append(7)"
   ]
  },
  {
   "cell_type": "code",
   "execution_count": 272,
   "metadata": {},
   "outputs": [
    {
     "data": {
      "text/plain": [
       "(1, 2, 3, 7, 8)"
      ]
     },
     "execution_count": 272,
     "metadata": {},
     "output_type": "execute_result"
    }
   ],
   "source": [
    "f.__add__((7,8))"
   ]
  },
  {
   "cell_type": "markdown",
   "metadata": {},
   "source": [
    "# Раздельный кеш"
   ]
  },
  {
   "cell_type": "code",
   "execution_count": 40,
   "metadata": {},
   "outputs": [],
   "source": [
    "class My_Separate_Cache_Fib(object):\n",
    "    \n",
    "    def __init__(self,  maxsize=50):\n",
    "        self.maxsize = maxsize\n",
    "        \n",
    "        self.cahe_dict = {}\n",
    "        self.hits = 0\n",
    "        self.misses = 0\n",
    "        self.currsize = 0\n",
    "    \n",
    "\n",
    "    def fib(self, n):\n",
    "        \"\"\"Fibonacci function\n",
    "\n",
    "        Fibonacci function - is the fuction with difficult calculation \n",
    "        F1 = 0\n",
    "        F2 = 0\n",
    "        Fn = Fn-1 + Fn-2\n",
    "\n",
    "        \"\"\"\n",
    "        \n",
    "        if self.currsize >  self.maxsize:\n",
    "            return (\"Current size of cache over Maxcahesize\")\n",
    "        \n",
    "        if n in self.cahe_dict:\n",
    "            print(\"Return valur from cache\")\n",
    "            self.hits+=1\n",
    "            return self.cahe_dict[n]\n",
    "        else:\n",
    "            self.misses+=1\n",
    "            self.currsize+=1\n",
    "            if (n == 1) or (n == 2):\n",
    "                print(\"Insert vale in cache\")\n",
    "                self.cahe_dict[n] = 1\n",
    "\n",
    "                return 1\n",
    "            else:\n",
    "                self.cahe_dict[n] = self.fib(n-1) + self.fib(n-2)\n",
    "                return self.cahe_dict[n]\n",
    "    \n",
    "   \n",
    "    def cache_info(self):\n",
    "        print(\"Lenght of cache is: \", len(self.cahe_dict))\n",
    "        print(f'''Current fuction results:  hits {self.hits}, misses {self.misses}, maxsize {self.maxsize}, currsize {self.currsize}''') \n",
    "        print(\"Cachr dict is: \", self.cahe_dict)\n"
   ]
  },
  {
   "cell_type": "code",
   "execution_count": 41,
   "metadata": {},
   "outputs": [],
   "source": [
    "A = My_Separate_Cache_Fib(maxsize=50)\n",
    "B = My_Separate_Cache_Fib(maxsize=50)"
   ]
  },
  {
   "cell_type": "code",
   "execution_count": 42,
   "metadata": {},
   "outputs": [
    {
     "name": "stdout",
     "output_type": "stream",
     "text": [
      "Insert vale in cache\n",
      "Insert vale in cache\n",
      "Return valur from cache\n",
      "Return valur from cache\n",
      "Fib object B equal:  5\n",
      "Lenght of cache is:  5\n",
      "Current fuction results:  hits 2, misses 5, maxsize 50, currsize 5\n",
      "Cachr dict is:  {2: 1, 1: 1, 3: 2, 4: 3, 5: 5}\n",
      "Object B cache_info:  None\n",
      "\n",
      "\n",
      "Insert vale in cache\n",
      "Insert vale in cache\n",
      "Fib object A equal:  2\n",
      "Lenght of cache is:  3\n",
      "Current fuction results:  hits 0, misses 3, maxsize 50, currsize 3\n",
      "Cachr dict is:  {2: 1, 1: 1, 3: 2}\n",
      "Object A cache_info:  None\n"
     ]
    }
   ],
   "source": [
    "print(\"Fib object B equal: \", B.fib(5))\n",
    "print(\"Object B cache_info: \", B.cache_info())\n",
    "#print(\"Information about cache B: \", B.return_cache_dict)\n",
    "\n",
    "print(\"\\n\")\n",
    "\n",
    "print(\"Fib object A equal: \", A.fib(3))\n",
    "print(\"Object A cache_info: \", A.cache_info())\n",
    "#print(\"Information about cache A: \", A.return_cache_dict)\n"
   ]
  },
  {
   "cell_type": "code",
   "execution_count": null,
   "metadata": {},
   "outputs": [],
   "source": []
  },
  {
   "cell_type": "markdown",
   "metadata": {},
   "source": [
    "# Общий кеш"
   ]
  },
  {
   "cell_type": "code",
   "execution_count": 52,
   "metadata": {},
   "outputs": [],
   "source": [
    "class My_Common_Cache_Fib(object):\n",
    "    \n",
    "    cahe_dict = {}\n",
    "    \n",
    "    def __init__(self,  maxsize=50):\n",
    "        self.maxsize = maxsize\n",
    "        \n",
    "        self.hits = 0\n",
    "        self.misses = 0\n",
    "        self.currsize = 0\n",
    "    \n",
    "\n",
    "    def fib(self, n):\n",
    "        \"\"\"Fibonacci function\n",
    "\n",
    "        Fibonacci function - is the fuction with difficult calculation \n",
    "        F1 = 0\n",
    "        F2 = 0\n",
    "        Fn = Fn-1 + Fn-2\n",
    "\n",
    "        \"\"\"\n",
    "        \n",
    "        if self.currsize >  self.maxsize:\n",
    "            return (\"Current size of cache over Maxcahesize\")\n",
    "        \n",
    "        if n in My_Common_Cache_Fib.cahe_dict:\n",
    "            print(\"Return valur from cache\")\n",
    "            self.hits+=1\n",
    "            return My_Common_Cache_Fib.cahe_dict[n]\n",
    "        else:\n",
    "            self.misses+=1\n",
    "            self.currsize+=1\n",
    "            if (n == 1) or (n == 2):\n",
    "                print(\"Insert vale in cache\")\n",
    "                My_Common_Cache_Fib.cahe_dict[n] = 1\n",
    "\n",
    "                return 1\n",
    "            else:\n",
    "                My_Common_Cache_Fib.cahe_dict[n] = self.fib(n-1) + self.fib(n-2)\n",
    "                return My_Common_Cache_Fib.cahe_dict[n]\n",
    "    \n",
    "   \n",
    "    def cache_info(self):\n",
    "        print(\"Lenght of cache is: \", len(My_Common_Cache_Fib.cahe_dict))\n",
    "        print(f'''Current fuction results:  hits {self.hits}, misses {self.misses}, maxsize {self.maxsize}, currsize {self.currsize}''') \n",
    "        print(\"Cachr dict is: \", My_Common_Cache_Fib.cahe_dict)\n"
   ]
  },
  {
   "cell_type": "code",
   "execution_count": 53,
   "metadata": {},
   "outputs": [],
   "source": [
    "A = My_Common_Cache_Fib(maxsize=50)\n",
    "B = My_Common_Cache_Fib(maxsize=50)"
   ]
  },
  {
   "cell_type": "code",
   "execution_count": 54,
   "metadata": {},
   "outputs": [
    {
     "name": "stdout",
     "output_type": "stream",
     "text": [
      "Insert vale in cache\n",
      "Insert vale in cache\n",
      "Return valur from cache\n",
      "Return valur from cache\n",
      "Fib object B equal:  5\n",
      "Lenght of cache is:  5\n",
      "Current fuction results:  hits 2, misses 5, maxsize 50, currsize 5\n",
      "Cachr dict is:  {2: 1, 1: 1, 3: 2, 4: 3, 5: 5}\n",
      "Object B cache_info:  None\n",
      "\n",
      "\n",
      "Return valur from cache\n",
      "Fib object A equal:  2\n",
      "Lenght of cache is:  5\n",
      "Current fuction results:  hits 1, misses 0, maxsize 50, currsize 0\n",
      "Cachr dict is:  {2: 1, 1: 1, 3: 2, 4: 3, 5: 5}\n",
      "Object A cache_info:  None\n"
     ]
    }
   ],
   "source": [
    "print(\"Fib object B equal: \", B.fib(5))\n",
    "print(\"Object B cache_info: \", B.cache_info())\n",
    "#print(\"Information about cache B: \", B.return_cache_dict)\n",
    "\n",
    "print(\"\\n\")\n",
    "\n",
    "print(\"Fib object A equal: \", A.fib(3))\n",
    "print(\"Object A cache_info: \", A.cache_info())\n",
    "#print(\"Information about cache A: \", A.return_cache_dict)\n"
   ]
  },
  {
   "cell_type": "code",
   "execution_count": null,
   "metadata": {},
   "outputs": [],
   "source": []
  },
  {
   "cell_type": "code",
   "execution_count": 55,
   "metadata": {},
   "outputs": [
    {
     "data": {
      "text/plain": [
       "mappingproxy({'__module__': '__main__',\n",
       "              'cahe_dict': {2: 1, 1: 1, 3: 2, 4: 3, 5: 5},\n",
       "              '__init__': <function __main__.My_Common_Cache_Fib.__init__(self, maxsize=50)>,\n",
       "              'fib': <function __main__.My_Common_Cache_Fib.fib(self, n)>,\n",
       "              'cache_info': <function __main__.My_Common_Cache_Fib.cache_info(self)>,\n",
       "              '__dict__': <attribute '__dict__' of 'My_Common_Cache_Fib' objects>,\n",
       "              '__weakref__': <attribute '__weakref__' of 'My_Common_Cache_Fib' objects>,\n",
       "              '__doc__': None})"
      ]
     },
     "execution_count": 55,
     "metadata": {},
     "output_type": "execute_result"
    }
   ],
   "source": [
    "My_Common_Cache_Fib.__dict__"
   ]
  },
  {
   "cell_type": "code",
   "execution_count": 62,
   "metadata": {},
   "outputs": [
    {
     "ename": "TypeError",
     "evalue": "iter(v, w): v must be callable",
     "output_type": "error",
     "traceback": [
      "\u001b[0;31m---------------------------------------------------------------------------\u001b[0m",
      "\u001b[0;31mTypeError\u001b[0m                                 Traceback (most recent call last)",
      "\u001b[0;32m<ipython-input-62-eb23df0efe05>\u001b[0m in \u001b[0;36m<module>\u001b[0;34m\u001b[0m\n\u001b[0;32m----> 1\u001b[0;31m \u001b[0mlist\u001b[0m\u001b[0;34m(\u001b[0m\u001b[0miter\u001b[0m\u001b[0;34m(\u001b[0m\u001b[0;34m[\u001b[0m\u001b[0;36m1\u001b[0m\u001b[0;34m,\u001b[0m\u001b[0;36m2\u001b[0m\u001b[0;34m,\u001b[0m\u001b[0;36m3\u001b[0m\u001b[0;34m,\u001b[0m\u001b[0;36m4\u001b[0m\u001b[0;34m,\u001b[0m\u001b[0;36m5\u001b[0m\u001b[0;34m]\u001b[0m\u001b[0;34m,\u001b[0m \u001b[0;36m3\u001b[0m\u001b[0;34m)\u001b[0m\u001b[0;34m)\u001b[0m\u001b[0;34m\u001b[0m\u001b[0;34m\u001b[0m\u001b[0m\n\u001b[0m",
      "\u001b[0;31mTypeError\u001b[0m: iter(v, w): v must be callable"
     ]
    }
   ],
   "source": [
    "list(iter([1,2,3,4,5], 3))"
   ]
  },
  {
   "cell_type": "code",
   "execution_count": 63,
   "metadata": {},
   "outputs": [
    {
     "data": {
      "text/plain": [
       "[1, 2, 3, 4, 5, 6, 7, 8, 9, 10, 11, 12, 13, 14, 15, 16, 17, 18, 19]"
      ]
     },
     "execution_count": 63,
     "metadata": {},
     "output_type": "execute_result"
    }
   ],
   "source": [
    "def f():\n",
    "    f.count += 1\n",
    "    return f.count\n",
    "\n",
    "f.count = 0\n",
    "list(iter(f,20))"
   ]
  },
  {
   "cell_type": "code",
   "execution_count": 65,
   "metadata": {},
   "outputs": [
    {
     "ename": "SyntaxError",
     "evalue": "keyword can't be an expression (<ipython-input-65-9830b7c621c7>, line 6)",
     "output_type": "error",
     "traceback": [
      "\u001b[0;36m  File \u001b[0;32m\"<ipython-input-65-9830b7c621c7>\"\u001b[0;36m, line \u001b[0;32m6\u001b[0m\n\u001b[0;31m    list(iter(f, f%10=0))\u001b[0m\n\u001b[0m                ^\u001b[0m\n\u001b[0;31mSyntaxError\u001b[0m\u001b[0;31m:\u001b[0m keyword can't be an expression\n"
     ]
    }
   ],
   "source": [
    "def f():\n",
    "    f.count += 1\n",
    "    return f.count\n",
    "\n",
    "f.count = 0\n",
    "list(iter(f, 20))"
   ]
  },
  {
   "cell_type": "code",
   "execution_count": 79,
   "metadata": {},
   "outputs": [
    {
     "data": {
      "text/plain": [
       "[2, 3]"
      ]
     },
     "execution_count": 79,
     "metadata": {},
     "output_type": "execute_result"
    }
   ],
   "source": [
    "l = [1,2,3,4,5,6,7,8,9,10]\n",
    "\n",
    "l[1:3]"
   ]
  },
  {
   "cell_type": "code",
   "execution_count": 114,
   "metadata": {},
   "outputs": [
    {
     "name": "stdout",
     "output_type": "stream",
     "text": [
      "yeild 1\n",
      "count_elem yeild 1 7\n",
      "[1, 2, 3, 4]\n",
      "yeild 1\n",
      "count_elem yeild 1 3\n",
      "[5, 6, 7, 8]\n",
      "yeild 2\n",
      "count_elem yeild 2 0\n",
      "[9, 10, 11]\n"
     ]
    }
   ],
   "source": [
    "def batch(iterator, backet_size = 10, drop_last = False):\n",
    "    backet = []\n",
    "    count_elem = len(iterator)\n",
    "    \n",
    "    for elem in iterator:\n",
    "        count_elem -= 1\n",
    "        #print(\"elem\", elem)\n",
    "        backet.append(elem)\n",
    "        #print(\"backet append\", backet)\n",
    "        if len(backet)%backet_size == 0:\n",
    "            print(\"yeild 1\")\n",
    "            print(\"count_elem yeild 1\", count_elem)\n",
    "            yield backet\n",
    "            backet = []\n",
    "        if count_elem < 1:\n",
    "            #print(\"drop_last: \")\n",
    "            print(\"yeild 2\")\n",
    "            print(\"count_elem yeild 2\", count_elem)\n",
    "            yield backet\n",
    "\n",
    "l = [1, 2, 3, 4, 5, 6, 7, 8, 9, 10, 11]\n",
    "\n",
    "g = batch(l, 4)\n",
    "\n",
    "for elem in g:\n",
    "    print(elem)"
   ]
  },
  {
   "cell_type": "code",
   "execution_count": 118,
   "metadata": {},
   "outputs": [
    {
     "name": "stdout",
     "output_type": "stream",
     "text": [
      "[1, 2, 3]\n",
      "[4, 5, 6]\n",
      "[7, 8, 9]\n",
      "[10, 11]\n"
     ]
    }
   ],
   "source": [
    "#### Корректная реализация\n",
    "\n",
    "def batch(iterator, backet_size = 10, drop_last = False):\n",
    "    backet = []\n",
    "    count_elem = len(iterator)\n",
    "    \n",
    "    for elem in iterator:\n",
    "        count_elem -= 1\n",
    "        backet.append(elem)\n",
    "        if len(backet)%backet_size == 0:\n",
    "            yield backet\n",
    "            backet = []\n",
    "        if count_elem < 1 and not drop_last:\n",
    "            yield backet\n",
    "\n",
    "l = [1, 2, 3, 4, 5, 6, 7, 8, 9, 10, 11]\n",
    "\n",
    "g = batch(l, 3)\n",
    "\n",
    "for elem in g:\n",
    "    print(elem)"
   ]
  },
  {
   "cell_type": "code",
   "execution_count": 124,
   "metadata": {},
   "outputs": [
    {
     "name": "stdout",
     "output_type": "stream",
     "text": [
      "[1, 2, 3]\n",
      "[4, 5, 6]\n",
      "[7, 8, 9]\n",
      "[10, 11]\n"
     ]
    }
   ],
   "source": [
    "#### Корректная реализация\n",
    "\n",
    "def batch(iterator, backet_size = 10, drop_last = False):\n",
    "    backet = []\n",
    "    \n",
    "    for elem in iterator:\n",
    "        backet.append(elem)\n",
    "        if len(backet)%backet_size == 0:\n",
    "            yield backet\n",
    "            backet = []\n",
    "    if backet and not drop_last:\n",
    "        yield backet\n",
    "\n",
    "l = [1, 2, 3, 4, 5, 6, 7, 8, 9, 10, 11]\n",
    "\n",
    "g = batch(l, 3)\n",
    "\n",
    "for elem in g:\n",
    "    print(elem)"
   ]
  },
  {
   "cell_type": "code",
   "execution_count": 127,
   "metadata": {},
   "outputs": [],
   "source": [
    "def batch_new(iterable, n = 1):\n",
    "   current_batch = []\n",
    "   for item in iterable:\n",
    "       current_batch.append(item)\n",
    "       if len(current_batch) == n:\n",
    "           yield current_batch\n",
    "           current_batch = []\n",
    "   if current_batch:\n",
    "       yield current_batch"
   ]
  },
  {
   "cell_type": "code",
   "execution_count": 128,
   "metadata": {},
   "outputs": [
    {
     "name": "stdout",
     "output_type": "stream",
     "text": [
      "[0, 1, 2]\n",
      "[3, 4, 5]\n",
      "[6, 7, 8]\n",
      "[9]\n"
     ]
    }
   ],
   "source": [
    "for x in batch_new(range(0,10),3): print (x)"
   ]
  },
  {
   "cell_type": "code",
   "execution_count": 104,
   "metadata": {},
   "outputs": [
    {
     "data": {
      "text/plain": [
       "10"
      ]
     },
     "execution_count": 104,
     "metadata": {},
     "output_type": "execute_result"
    }
   ],
   "source": [
    "len(l)"
   ]
  },
  {
   "cell_type": "code",
   "execution_count": 208,
   "metadata": {},
   "outputs": [
    {
     "name": "stdout",
     "output_type": "stream",
     "text": [
      "[1, 2, 3]\n",
      "[4, 5, 6]\n",
      "[7, 8, 9]\n",
      "[10, 11]\n"
     ]
    }
   ],
   "source": [
    "from itertools import islice, chain\n",
    "\n",
    "def chunk(iterable, chunk = 10):\n",
    "    iterator = iter(iterable)\n",
    "    backet = []\n",
    "        \n",
    "    while iterator.__length_hint__()>0:\n",
    "        yield list(islice(iterator, chunk))\n",
    "        \n",
    "l = [1, 2, 3, 4, 5, 6, 7, 8, 9, 10, 11]\n",
    "\n",
    "g = chunk(l, 3)\n",
    "\n",
    "for elem in g:\n",
    "    print(elem)"
   ]
  },
  {
   "cell_type": "code",
   "execution_count": 210,
   "metadata": {},
   "outputs": [
    {
     "name": "stdout",
     "output_type": "stream",
     "text": [
      "[2, 3, 4]\n",
      "[6, 7, 8]\n",
      "[10, 11]\n"
     ]
    }
   ],
   "source": [
    "from itertools import islice, chain\n",
    "\n",
    "def chunk(iterable, chunk = 10):\n",
    "    iterator = iter(iterable)\n",
    "\n",
    "    for _ in iterator:\n",
    "        yield list(islice(iterator, chunk))\n",
    "        \n",
    "l = [1, 2, 3, 4, 5, 6, 7, 8, 9, 10, 11]\n",
    "\n",
    "g = chunk(l, 3)\n",
    "\n",
    "for elem in g:\n",
    "    print(elem)"
   ]
  },
  {
   "cell_type": "code",
   "execution_count": null,
   "metadata": {},
   "outputs": [],
   "source": []
  },
  {
   "cell_type": "code",
   "execution_count": 200,
   "metadata": {},
   "outputs": [
    {
     "data": {
      "text/plain": [
       "[1, 2, 3]"
      ]
     },
     "execution_count": 200,
     "metadata": {},
     "output_type": "execute_result"
    }
   ],
   "source": [
    "l = [1, 2, 3, 4, 5, 6, 7, 8, 9, 10, 11]\n",
    "chunk = 3\n",
    "\n",
    "iterator = iter(l)\n",
    "\n",
    "list(islice(iterator, chunk))\n"
   ]
  },
  {
   "cell_type": "code",
   "execution_count": 207,
   "metadata": {},
   "outputs": [
    {
     "name": "stdout",
     "output_type": "stream",
     "text": [
      "Help on list_iterator object:\n",
      "\n",
      "class list_iterator(object)\n",
      " |  Methods defined here:\n",
      " |  \n",
      " |  __getattribute__(self, name, /)\n",
      " |      Return getattr(self, name).\n",
      " |  \n",
      " |  __iter__(self, /)\n",
      " |      Implement iter(self).\n",
      " |  \n",
      " |  __length_hint__(...)\n",
      " |      Private method returning an estimate of len(list(it)).\n",
      " |  \n",
      " |  __next__(self, /)\n",
      " |      Implement next(self).\n",
      " |  \n",
      " |  __reduce__(...)\n",
      " |      Return state information for pickling.\n",
      " |  \n",
      " |  __setstate__(...)\n",
      " |      Set state information for unpickling.\n",
      "\n"
     ]
    }
   ],
   "source": [
    "help(iterator)"
   ]
  },
  {
   "cell_type": "code",
   "execution_count": 202,
   "metadata": {},
   "outputs": [
    {
     "ename": "TypeError",
     "evalue": "'list_iterator' object is not subscriptable",
     "output_type": "error",
     "traceback": [
      "\u001b[0;31m---------------------------------------------------------------------------\u001b[0m",
      "\u001b[0;31mTypeError\u001b[0m                                 Traceback (most recent call last)",
      "\u001b[0;32m<ipython-input-202-d478e58a83d7>\u001b[0m in \u001b[0;36m<module>\u001b[0;34m\u001b[0m\n\u001b[0;32m----> 1\u001b[0;31m \u001b[0miterator\u001b[0m\u001b[0;34m[\u001b[0m\u001b[0;34m:\u001b[0m\u001b[0mchunk\u001b[0m\u001b[0;34m]\u001b[0m\u001b[0;34m\u001b[0m\u001b[0;34m\u001b[0m\u001b[0m\n\u001b[0m",
      "\u001b[0;31mTypeError\u001b[0m: 'list_iterator' object is not subscriptable"
     ]
    }
   ],
   "source": [
    "iterator[:chunk]\n"
   ]
  },
  {
   "cell_type": "code",
   "execution_count": 198,
   "metadata": {},
   "outputs": [],
   "source": [
    "while []:\n",
    "    print(1)"
   ]
  },
  {
   "cell_type": "code",
   "execution_count": 205,
   "metadata": {},
   "outputs": [
    {
     "ename": "AttributeError",
     "evalue": "'itertools.islice' object has no attribute 'next'",
     "output_type": "error",
     "traceback": [
      "\u001b[0;31m---------------------------------------------------------------------------\u001b[0m",
      "\u001b[0;31mAttributeError\u001b[0m                            Traceback (most recent call last)",
      "\u001b[0;32m<ipython-input-205-f67d5f61ab04>\u001b[0m in \u001b[0;36m<module>\u001b[0;34m\u001b[0m\n\u001b[1;32m     11\u001b[0m \u001b[0mg\u001b[0m \u001b[0;34m=\u001b[0m \u001b[0mbatch\u001b[0m\u001b[0;34m(\u001b[0m\u001b[0ml\u001b[0m\u001b[0;34m,\u001b[0m \u001b[0;36m3\u001b[0m\u001b[0;34m)\u001b[0m\u001b[0;34m\u001b[0m\u001b[0;34m\u001b[0m\u001b[0m\n\u001b[1;32m     12\u001b[0m \u001b[0;34m\u001b[0m\u001b[0m\n\u001b[0;32m---> 13\u001b[0;31m \u001b[0;32mfor\u001b[0m \u001b[0melem\u001b[0m \u001b[0;32min\u001b[0m \u001b[0mg\u001b[0m\u001b[0;34m:\u001b[0m\u001b[0;34m\u001b[0m\u001b[0;34m\u001b[0m\u001b[0m\n\u001b[0m\u001b[1;32m     14\u001b[0m     \u001b[0mprint\u001b[0m\u001b[0;34m(\u001b[0m\u001b[0melem\u001b[0m\u001b[0;34m)\u001b[0m\u001b[0;34m\u001b[0m\u001b[0;34m\u001b[0m\u001b[0m\n",
      "\u001b[0;32m<ipython-input-205-f67d5f61ab04>\u001b[0m in \u001b[0;36mbatch\u001b[0;34m(iterable, size)\u001b[0m\n\u001b[1;32m      5\u001b[0m     \u001b[0;32mwhile\u001b[0m \u001b[0;32mTrue\u001b[0m\u001b[0;34m:\u001b[0m\u001b[0;34m\u001b[0m\u001b[0;34m\u001b[0m\u001b[0m\n\u001b[1;32m      6\u001b[0m         \u001b[0mbatchiter\u001b[0m \u001b[0;34m=\u001b[0m \u001b[0mislice\u001b[0m\u001b[0;34m(\u001b[0m\u001b[0msourceiter\u001b[0m\u001b[0;34m,\u001b[0m \u001b[0msize\u001b[0m\u001b[0;34m)\u001b[0m\u001b[0;34m\u001b[0m\u001b[0;34m\u001b[0m\u001b[0m\n\u001b[0;32m----> 7\u001b[0;31m         \u001b[0;32myield\u001b[0m \u001b[0mchain\u001b[0m\u001b[0;34m(\u001b[0m\u001b[0;34m[\u001b[0m\u001b[0mbatchiter\u001b[0m\u001b[0;34m.\u001b[0m\u001b[0mnext\u001b[0m\u001b[0;34m(\u001b[0m\u001b[0;34m)\u001b[0m\u001b[0;34m]\u001b[0m\u001b[0;34m,\u001b[0m \u001b[0mbatchiter\u001b[0m\u001b[0;34m)\u001b[0m\u001b[0;34m\u001b[0m\u001b[0;34m\u001b[0m\u001b[0m\n\u001b[0m\u001b[1;32m      8\u001b[0m \u001b[0;34m\u001b[0m\u001b[0m\n\u001b[1;32m      9\u001b[0m \u001b[0ml\u001b[0m \u001b[0;34m=\u001b[0m \u001b[0;34m[\u001b[0m\u001b[0;36m1\u001b[0m\u001b[0;34m,\u001b[0m \u001b[0;36m2\u001b[0m\u001b[0;34m,\u001b[0m \u001b[0;36m3\u001b[0m\u001b[0;34m,\u001b[0m \u001b[0;36m4\u001b[0m\u001b[0;34m,\u001b[0m \u001b[0;36m5\u001b[0m\u001b[0;34m,\u001b[0m \u001b[0;36m6\u001b[0m\u001b[0;34m,\u001b[0m \u001b[0;36m7\u001b[0m\u001b[0;34m,\u001b[0m \u001b[0;36m8\u001b[0m\u001b[0;34m,\u001b[0m \u001b[0;36m9\u001b[0m\u001b[0;34m,\u001b[0m \u001b[0;36m10\u001b[0m\u001b[0;34m,\u001b[0m \u001b[0;36m11\u001b[0m\u001b[0;34m]\u001b[0m\u001b[0;34m\u001b[0m\u001b[0;34m\u001b[0m\u001b[0m\n",
      "\u001b[0;31mAttributeError\u001b[0m: 'itertools.islice' object has no attribute 'next'"
     ]
    }
   ],
   "source": [
    "from itertools import islice, chain\n",
    "\n",
    "def batch(iterable, size):\n",
    "    sourceiter = iter(iterable)\n",
    "    while True:\n",
    "        batchiter = islice(sourceiter, size)\n",
    "        yield chain([batchiter.next()], batchiter)\n",
    "\n",
    "l = [1, 2, 3, 4, 5, 6, 7, 8, 9, 10, 11]\n",
    "\n",
    "g = batch(l, 3)\n",
    "\n",
    "for elem in g:\n",
    "    print(elem)    "
   ]
  },
  {
   "cell_type": "code",
   "execution_count": 174,
   "metadata": {},
   "outputs": [
    {
     "name": "stdout",
     "output_type": "stream",
     "text": [
      "first:  0\n",
      "islice(iterator, size - 1) <itertools.islice object at 0x7fbbbd137950>\n",
      "[0, 1, 2]\n",
      "first:  3\n",
      "islice(iterator, size - 1) <itertools.islice object at 0x7fbbbd13e590>\n",
      "[3, 4, 5]\n",
      "first:  6\n",
      "islice(iterator, size - 1) <itertools.islice object at 0x7fbbbd13e590>\n",
      "[6, 7, 8]\n",
      "first:  9\n",
      "islice(iterator, size - 1) <itertools.islice object at 0x7fbbbd13e590>\n",
      "[9, 10]\n"
     ]
    }
   ],
   "source": [
    "def chunks(iterable, size):\n",
    "    from itertools import chain, islice\n",
    "    iterator = iter(iterable)\n",
    "    #iterator = iterable\n",
    "\n",
    "    for first in iterator:\n",
    "        print(\"first: \", first)\n",
    "        print(\"islice(iterator, size - 1)\", islice(iterator, size - 1))\n",
    "        yield list(chain([first], islice(iterator, size - 1)))\n",
    "\n",
    "for x in chunks(range(0,11),3): print (x)"
   ]
  },
  {
   "cell_type": "code",
   "execution_count": 150,
   "metadata": {},
   "outputs": [
    {
     "ename": "SyntaxError",
     "evalue": "invalid syntax (<ipython-input-150-ec2c8b40e040>, line 5)",
     "output_type": "error",
     "traceback": [
      "\u001b[0;36m  File \u001b[0;32m\"<ipython-input-150-ec2c8b40e040>\"\u001b[0;36m, line \u001b[0;32m5\u001b[0m\n\u001b[0;31m    while batch := list(islice(iterator, batch_size)):\u001b[0m\n\u001b[0m                 ^\u001b[0m\n\u001b[0;31mSyntaxError\u001b[0m\u001b[0;31m:\u001b[0m invalid syntax\n"
     ]
    }
   ],
   "source": [
    "from itertools import islice\n",
    "\n",
    "def batcher(iterable, batch_size):\n",
    "    iterator = iter(iterable)\n",
    "    while batch := list(islice(iterator, batch_size)):\n",
    "        yield batch\n",
    "\n",
    "for x in batcher(range(0,10),3): print (x)"
   ]
  },
  {
   "cell_type": "code",
   "execution_count": 137,
   "metadata": {},
   "outputs": [
    {
     "data": {
      "text/plain": [
       "[('A', 'B', 'C'), ('D', 'E', 'F')]"
      ]
     },
     "execution_count": 137,
     "metadata": {},
     "output_type": "execute_result"
    }
   ],
   "source": [
    "def grouper(iterable, n, fillvalue=None):\n",
    "    \"Collect data into non-overlapping fixed-length chunks or blocks\"\n",
    "    # grouper('ABCDEFG', 3, 'x') --> ABC DEF Gxx\n",
    "    args = [iter(iterable)] * n\n",
    "    return list(zip(*args))\n",
    "\n",
    "grouper('ABCDEF', 3)"
   ]
  },
  {
   "cell_type": "code",
   "execution_count": 144,
   "metadata": {},
   "outputs": [],
   "source": [
    "from itertools import islice, chain"
   ]
  },
  {
   "cell_type": "code",
   "execution_count": 158,
   "metadata": {},
   "outputs": [
    {
     "data": {
      "text/plain": [
       "[1, 2]"
      ]
     },
     "execution_count": 158,
     "metadata": {},
     "output_type": "execute_result"
    }
   ],
   "source": [
    "l = [1,2, 3, 4,5,6,7,8,9,10]\n",
    "batch_size = 2\n",
    "\n",
    "\n",
    "list(islice(l, batch_size))"
   ]
  },
  {
   "cell_type": "code",
   "execution_count": 142,
   "metadata": {},
   "outputs": [
    {
     "data": {
      "text/plain": [
       "[1, 2]"
      ]
     },
     "execution_count": 142,
     "metadata": {},
     "output_type": "execute_result"
    }
   ],
   "source": [
    "l[:2]"
   ]
  },
  {
   "cell_type": "code",
   "execution_count": 151,
   "metadata": {},
   "outputs": [
    {
     "data": {
      "text/plain": [
       "1"
      ]
     },
     "execution_count": 151,
     "metadata": {},
     "output_type": "execute_result"
    }
   ],
   "source": [
    "l[0]"
   ]
  },
  {
   "cell_type": "code",
   "execution_count": 167,
   "metadata": {},
   "outputs": [
    {
     "data": {
      "text/plain": [
       "[1, 2, 3, 4, 5, 6, 7, 8, 9, 10]"
      ]
     },
     "execution_count": 167,
     "metadata": {},
     "output_type": "execute_result"
    }
   ],
   "source": [
    "l"
   ]
  },
  {
   "cell_type": "code",
   "execution_count": null,
   "metadata": {},
   "outputs": [],
   "source": [
    "yield list(chain([first], islice(iterator, size - 1)))\n"
   ]
  },
  {
   "cell_type": "code",
   "execution_count": 172,
   "metadata": {},
   "outputs": [
    {
     "name": "stdout",
     "output_type": "stream",
     "text": [
      "[1, 2, 3]\n",
      "[4, 5, 6]\n",
      "[7, 8, 9]\n",
      "[10]\n"
     ]
    }
   ],
   "source": [
    "l1 = iter(l)\n",
    "size = 3\n",
    "for elem in l1:\n",
    "    print(list(chain([elem], islice(l1, size - 1))))"
   ]
  },
  {
   "cell_type": "code",
   "execution_count": 175,
   "metadata": {},
   "outputs": [],
   "source": [
    "s = 'cat' \n",
    "t = iter(s) "
   ]
  },
  {
   "cell_type": "code",
   "execution_count": 177,
   "metadata": {},
   "outputs": [
    {
     "data": {
      "text/plain": [
       "'c'"
      ]
     },
     "execution_count": 177,
     "metadata": {},
     "output_type": "execute_result"
    }
   ],
   "source": [
    "next(t)"
   ]
  },
  {
   "cell_type": "code",
   "execution_count": 183,
   "metadata": {},
   "outputs": [
    {
     "data": {
      "text/plain": [
       "<method-wrapper '__getitem__' of str object at 0x7fbbb95176b0>"
      ]
     },
     "execution_count": 183,
     "metadata": {},
     "output_type": "execute_result"
    }
   ],
   "source": [
    "s.__getitem__"
   ]
  },
  {
   "cell_type": "code",
   "execution_count": null,
   "metadata": {},
   "outputs": [],
   "source": [
    ">>> s = 'cat'      # s is an ITERABLE\n",
    "                   # s is a str object that is immutable\n",
    "                   # s has no state\n",
    "                   # s has a __getitem__() method \n",
    "\n",
    ">>> t = iter(s) "
   ]
  },
  {
   "cell_type": "code",
   "execution_count": 164,
   "metadata": {},
   "outputs": [
    {
     "data": {
      "text/plain": [
       "['a', 'b', 'c', 'd', 'e', 'f']"
      ]
     },
     "execution_count": 164,
     "metadata": {},
     "output_type": "execute_result"
    }
   ],
   "source": [
    "list(chain(\"abc\", 'def'))"
   ]
  },
  {
   "cell_type": "code",
   "execution_count": 161,
   "metadata": {},
   "outputs": [
    {
     "data": {
      "text/plain": [
       "[1, 1]"
      ]
     },
     "execution_count": 161,
     "metadata": {},
     "output_type": "execute_result"
    }
   ],
   "source": [
    "list(chain([1], islice( iter(l), 1)))"
   ]
  },
  {
   "cell_type": "markdown",
   "metadata": {},
   "source": [
    "list(chain([first], islice(iterator, size - 1)))"
   ]
  },
  {
   "cell_type": "code",
   "execution_count": 105,
   "metadata": {},
   "outputs": [
    {
     "data": {
      "text/plain": [
       "False"
      ]
     },
     "execution_count": 105,
     "metadata": {},
     "output_type": "execute_result"
    }
   ],
   "source": [
    "3 < 3"
   ]
  },
  {
   "cell_type": "code",
   "execution_count": 119,
   "metadata": {},
   "outputs": [],
   "source": [
    "class MyNumbers:\n",
    "    def __iter__(self):\n",
    "        self.a = 1\n",
    "        return self\n",
    "    \n",
    "    def __next__(self):\n",
    "        if self.a <= 20:  \n",
    "            x = self.a\n",
    "            self.a += 1\n",
    "            return x\n",
    "        else:\n",
    "            raise StopIteration"
   ]
  },
  {
   "cell_type": "code",
   "execution_count": 120,
   "metadata": {},
   "outputs": [],
   "source": [
    "myclass = MyNumbers()"
   ]
  },
  {
   "cell_type": "code",
   "execution_count": 121,
   "metadata": {},
   "outputs": [
    {
     "ename": "TypeError",
     "evalue": "object of type 'MyNumbers' has no len()",
     "output_type": "error",
     "traceback": [
      "\u001b[0;31m---------------------------------------------------------------------------\u001b[0m",
      "\u001b[0;31mTypeError\u001b[0m                                 Traceback (most recent call last)",
      "\u001b[0;32m<ipython-input-121-3da0adea1226>\u001b[0m in \u001b[0;36m<module>\u001b[0;34m\u001b[0m\n\u001b[0;32m----> 1\u001b[0;31m \u001b[0mlen\u001b[0m\u001b[0;34m(\u001b[0m\u001b[0mmyclass\u001b[0m\u001b[0;34m)\u001b[0m\u001b[0;34m\u001b[0m\u001b[0;34m\u001b[0m\u001b[0m\n\u001b[0m",
      "\u001b[0;31mTypeError\u001b[0m: object of type 'MyNumbers' has no len()"
     ]
    }
   ],
   "source": [
    "len(myclass)"
   ]
  },
  {
   "cell_type": "code",
   "execution_count": 72,
   "metadata": {},
   "outputs": [
    {
     "data": {
      "text/plain": [
       "<tuple_iterator at 0x7fbbbd118850>"
      ]
     },
     "execution_count": 72,
     "metadata": {},
     "output_type": "execute_result"
    }
   ],
   "source": [
    "iter((1,2,3,4,5))"
   ]
  },
  {
   "cell_type": "code",
   "execution_count": 84,
   "metadata": {},
   "outputs": [
    {
     "ename": "TypeError",
     "evalue": "iter(v, w): v must be callable",
     "output_type": "error",
     "traceback": [
      "\u001b[0;31m---------------------------------------------------------------------------\u001b[0m",
      "\u001b[0;31mTypeError\u001b[0m                                 Traceback (most recent call last)",
      "\u001b[0;32m<ipython-input-84-db5a923ec8fe>\u001b[0m in \u001b[0;36m<module>\u001b[0;34m\u001b[0m\n\u001b[0;32m----> 1\u001b[0;31m \u001b[0;32mfor\u001b[0m \u001b[0melem\u001b[0m \u001b[0;32min\u001b[0m \u001b[0miter\u001b[0m\u001b[0;34m(\u001b[0m\u001b[0;34m[\u001b[0m\u001b[0;36m1\u001b[0m\u001b[0;34m,\u001b[0m\u001b[0;36m2\u001b[0m\u001b[0;34m,\u001b[0m\u001b[0;36m3\u001b[0m\u001b[0;34m,\u001b[0m\u001b[0;36m4\u001b[0m\u001b[0;34m,\u001b[0m\u001b[0;36m5\u001b[0m\u001b[0;34m]\u001b[0m\u001b[0;34m,\u001b[0m \u001b[0;36m3\u001b[0m\u001b[0;34m)\u001b[0m\u001b[0;34m:\u001b[0m\u001b[0;34m\u001b[0m\u001b[0;34m\u001b[0m\u001b[0m\n\u001b[0m\u001b[1;32m      2\u001b[0m     \u001b[0mprint\u001b[0m\u001b[0;34m(\u001b[0m\u001b[0melem\u001b[0m\u001b[0;34m)\u001b[0m\u001b[0;34m\u001b[0m\u001b[0;34m\u001b[0m\u001b[0m\n",
      "\u001b[0;31mTypeError\u001b[0m: iter(v, w): v must be callable"
     ]
    }
   ],
   "source": [
    "for elem in iter([1,2,3,4,5]):\n",
    "    print(elem)"
   ]
  },
  {
   "cell_type": "code",
   "execution_count": 66,
   "metadata": {},
   "outputs": [
    {
     "ename": "TypeError",
     "evalue": "iter(v, w): v must be callable",
     "output_type": "error",
     "traceback": [
      "\u001b[0;31m---------------------------------------------------------------------------\u001b[0m",
      "\u001b[0;31mTypeError\u001b[0m                                 Traceback (most recent call last)",
      "\u001b[0;32m<ipython-input-66-8c64d8e7c1aa>\u001b[0m in \u001b[0;36m<module>\u001b[0;34m\u001b[0m\n\u001b[0;32m----> 1\u001b[0;31m \u001b[0mlist\u001b[0m\u001b[0;34m(\u001b[0m\u001b[0miter\u001b[0m\u001b[0;34m(\u001b[0m\u001b[0;34m[\u001b[0m\u001b[0;36m1\u001b[0m\u001b[0;34m,\u001b[0m\u001b[0;36m2\u001b[0m\u001b[0;34m,\u001b[0m\u001b[0;36m3\u001b[0m\u001b[0;34m]\u001b[0m\u001b[0;34m,\u001b[0m \u001b[0;36m20\u001b[0m\u001b[0;34m)\u001b[0m\u001b[0;34m)\u001b[0m\u001b[0;34m\u001b[0m\u001b[0;34m\u001b[0m\u001b[0m\n\u001b[0m",
      "\u001b[0;31mTypeError\u001b[0m: iter(v, w): v must be callable"
     ]
    }
   ],
   "source": [
    "list(iter([1,2,3], 20))"
   ]
  },
  {
   "cell_type": "code",
   "execution_count": 59,
   "metadata": {},
   "outputs": [
    {
     "ename": "NameError",
     "evalue": "name 'f' is not defined",
     "output_type": "error",
     "traceback": [
      "\u001b[0;31m---------------------------------------------------------------------------\u001b[0m",
      "\u001b[0;31mNameError\u001b[0m                                 Traceback (most recent call last)",
      "\u001b[0;32m<ipython-input-59-244c11338726>\u001b[0m in \u001b[0;36m<module>\u001b[0;34m\u001b[0m\n\u001b[1;32m      2\u001b[0m \u001b[0;34m\u001b[0m\u001b[0m\n\u001b[1;32m      3\u001b[0m \u001b[0mblocks\u001b[0m \u001b[0;34m=\u001b[0m \u001b[0;34m[\u001b[0m\u001b[0;34m]\u001b[0m\u001b[0;34m\u001b[0m\u001b[0;34m\u001b[0m\u001b[0m\n\u001b[0;32m----> 4\u001b[0;31m \u001b[0mread_block\u001b[0m \u001b[0;34m=\u001b[0m \u001b[0mpartial\u001b[0m\u001b[0;34m(\u001b[0m\u001b[0mf\u001b[0m\u001b[0;34m.\u001b[0m\u001b[0mread\u001b[0m\u001b[0;34m,\u001b[0m \u001b[0;36m32\u001b[0m\u001b[0;34m)\u001b[0m\u001b[0;34m\u001b[0m\u001b[0;34m\u001b[0m\u001b[0m\n\u001b[0m\u001b[1;32m      5\u001b[0m \u001b[0;32mfor\u001b[0m \u001b[0mblock\u001b[0m \u001b[0;32min\u001b[0m \u001b[0miter\u001b[0m\u001b[0;34m(\u001b[0m\u001b[0mread_block\u001b[0m\u001b[0;34m,\u001b[0m \u001b[0;34m''\u001b[0m\u001b[0;34m)\u001b[0m\u001b[0;34m:\u001b[0m\u001b[0;34m\u001b[0m\u001b[0;34m\u001b[0m\u001b[0m\n\u001b[1;32m      6\u001b[0m     \u001b[0mblocks\u001b[0m\u001b[0;34m.\u001b[0m\u001b[0mappend\u001b[0m\u001b[0;34m(\u001b[0m\u001b[0mblock\u001b[0m\u001b[0;34m)\u001b[0m\u001b[0;34m\u001b[0m\u001b[0;34m\u001b[0m\u001b[0m\n",
      "\u001b[0;31mNameError\u001b[0m: name 'f' is not defined"
     ]
    }
   ],
   "source": [
    "from functools import partial\n",
    "\n",
    "blocks = []\n",
    "read_block = partial(f.read, 32)\n",
    "for block in iter(read_block, ''):\n",
    "    blocks.append(block)"
   ]
  },
  {
   "cell_type": "code",
   "execution_count": null,
   "metadata": {},
   "outputs": [],
   "source": [
    "iter(fp.readline, '')"
   ]
  },
  {
   "cell_type": "code",
   "execution_count": null,
   "metadata": {},
   "outputs": [],
   "source": []
  },
  {
   "cell_type": "code",
   "execution_count": 10,
   "metadata": {},
   "outputs": [
    {
     "data": {
      "text/plain": [
       "{2: 1, 1: 1, 3: 2}"
      ]
     },
     "execution_count": 10,
     "metadata": {},
     "output_type": "execute_result"
    }
   ],
   "source": [
    "a.return_cache_dict()"
   ]
  },
  {
   "cell_type": "code",
   "execution_count": null,
   "metadata": {},
   "outputs": [],
   "source": [
    "def __call__(self, func):\n",
    "\n",
    "    @wraps(func)\n",
    "    def wrapper(*args, **kwargs):            \n",
    "        if args in self.cahe_dict:\n",
    "            self.hits+=1\n",
    "            self.currsize+=1\n",
    "            print(\"Get out from cache function with args\", *args)\n",
    "            return self.cahe_dict[args]\n",
    "        else:\n",
    "            if len(self.cahe_dict) <=  self.maxsize:\n",
    "                print(\"Put in cache function with args\", *args)\n",
    "                self.cahe_dict[args] = func(*args, **kwargs)\n",
    "                self.misses+=1\n",
    "                return func(*args, **kwargs)\n",
    "            else:\n",
    "                exit(\"Cahce is full\")\n",
    "        \n"
   ]
  },
  {
   "cell_type": "code",
   "execution_count": null,
   "metadata": {},
   "outputs": [],
   "source": []
  },
  {
   "cell_type": "code",
   "execution_count": 59,
   "metadata": {},
   "outputs": [],
   "source": [
    "def fib(n):\n",
    "    \"\"\"Fibonacci function\n",
    "\n",
    "    Fibonacci function - is the fuction with difficult calculation \n",
    "    F1 = 0\n",
    "    F2 = 0\n",
    "    Fn = Fn-1 + Fn-2\n",
    "\n",
    "    \"\"\"\n",
    "    \n",
    "    cahe_dict = {}\n",
    "    \n",
    "    if n in cahe_dict:\n",
    "        print(\"Return valur from cache\")\n",
    "        return cahe_dict[n]\n",
    "    else:            \n",
    "        if (n == 1) or (n == 2):\n",
    "            print(\"Insert vale in cache\")\n",
    "            cahe_dict[n] = 1\n",
    "            return 1\n",
    "        else:\n",
    "            result = fib(n-1) + fib(n-2)\n",
    "            cahe_dict[n] = result\n",
    "            return result"
   ]
  },
  {
   "cell_type": "code",
   "execution_count": 60,
   "metadata": {},
   "outputs": [
    {
     "name": "stdout",
     "output_type": "stream",
     "text": [
      "Insert vale in cache\n",
      "Insert vale in cache\n",
      "Insert vale in cache\n"
     ]
    },
    {
     "data": {
      "text/plain": [
       "3"
      ]
     },
     "execution_count": 60,
     "metadata": {},
     "output_type": "execute_result"
    }
   ],
   "source": [
    "fib(4)"
   ]
  },
  {
   "cell_type": "code",
   "execution_count": 57,
   "metadata": {},
   "outputs": [],
   "source": [
    "    \n",
    "cahe_dict = {}\n",
    "    \n",
    "def fib(n):\n",
    "    \"\"\"Fibonacci function\n",
    "\n",
    "    Fibonacci function - is the fuction with difficult calculation \n",
    "    F1 = 0\n",
    "    F2 = 0\n",
    "    Fn = Fn-1 + Fn-2\n",
    "\n",
    "    \"\"\"\n",
    "\n",
    "    if (n == 1) or (n == 2):\n",
    "        print(\"Insert vale in cache\")\n",
    "        return 1\n",
    "\n",
    "    \n",
    "    if n in cahe_dict:\n",
    "        print(\"Return valur from cache\")\n",
    "        return cahe_dict[n]   \n",
    "    else:\n",
    "        result = fib(n-1) + fib(n-2)\n",
    "        cahe_dict[n] = result\n",
    "        return result"
   ]
  },
  {
   "cell_type": "code",
   "execution_count": 58,
   "metadata": {},
   "outputs": [
    {
     "name": "stdout",
     "output_type": "stream",
     "text": [
      "Insert vale in cache\n",
      "Insert vale in cache\n",
      "Insert vale in cache\n"
     ]
    },
    {
     "data": {
      "text/plain": [
       "3"
      ]
     },
     "execution_count": 58,
     "metadata": {},
     "output_type": "execute_result"
    }
   ],
   "source": [
    "fib(4)"
   ]
  },
  {
   "cell_type": "code",
   "execution_count": null,
   "metadata": {},
   "outputs": [],
   "source": []
  },
  {
   "cell_type": "code",
   "execution_count": null,
   "metadata": {},
   "outputs": [],
   "source": []
  },
  {
   "cell_type": "code",
   "execution_count": null,
   "metadata": {},
   "outputs": [],
   "source": []
  },
  {
   "cell_type": "code",
   "execution_count": null,
   "metadata": {},
   "outputs": [],
   "source": [
    "Fib(12)"
   ]
  },
  {
   "cell_type": "code",
   "execution_count": null,
   "metadata": {},
   "outputs": [],
   "source": [
    "Fib.cache_info()"
   ]
  },
  {
   "cell_type": "code",
   "execution_count": null,
   "metadata": {},
   "outputs": [],
   "source": [
    "Fib(13)"
   ]
  },
  {
   "cell_type": "code",
   "execution_count": null,
   "metadata": {},
   "outputs": [],
   "source": [
    "Fib.cache_info()"
   ]
  },
  {
   "cell_type": "code",
   "execution_count": 256,
   "metadata": {},
   "outputs": [],
   "source": [
    "class A:\n",
    "    __slots__ = ('name', 'age')\n",
    "    \n",
    "    def __init__(self, name, age):\n",
    "        self.name = name\n",
    "        self.age = age"
   ]
  },
  {
   "cell_type": "code",
   "execution_count": 257,
   "metadata": {},
   "outputs": [],
   "source": [
    "a = A(\"Mark\", 20)"
   ]
  },
  {
   "cell_type": "code",
   "execution_count": 258,
   "metadata": {},
   "outputs": [
    {
     "ename": "AttributeError",
     "evalue": "'A' object has no attribute '__dict__'",
     "output_type": "error",
     "traceback": [
      "\u001b[0;31m---------------------------------------------------------------------------\u001b[0m",
      "\u001b[0;31mAttributeError\u001b[0m                            Traceback (most recent call last)",
      "\u001b[0;32m<ipython-input-258-24d50c1843f4>\u001b[0m in \u001b[0;36m<module>\u001b[0;34m\u001b[0m\n\u001b[0;32m----> 1\u001b[0;31m \u001b[0ma\u001b[0m\u001b[0;34m.\u001b[0m\u001b[0m__dict__\u001b[0m\u001b[0;34m\u001b[0m\u001b[0;34m\u001b[0m\u001b[0m\n\u001b[0m",
      "\u001b[0;31mAttributeError\u001b[0m: 'A' object has no attribute '__dict__'"
     ]
    }
   ],
   "source": [
    "a.__dict__"
   ]
  },
  {
   "cell_type": "code",
   "execution_count": 261,
   "metadata": {},
   "outputs": [
    {
     "data": {
      "text/plain": [
       "('name', 'age')"
      ]
     },
     "execution_count": 261,
     "metadata": {},
     "output_type": "execute_result"
    }
   ],
   "source": [
    "a.__slots__"
   ]
  },
  {
   "cell_type": "code",
   "execution_count": 253,
   "metadata": {},
   "outputs": [],
   "source": [
    "class A:    \n",
    "    def __init__(self, name, age):\n",
    "        self.name = name\n",
    "        self.age = age\n"
   ]
  },
  {
   "cell_type": "code",
   "execution_count": 254,
   "metadata": {},
   "outputs": [],
   "source": [
    "a = A(\"Mark\", 20)"
   ]
  },
  {
   "cell_type": "code",
   "execution_count": 255,
   "metadata": {},
   "outputs": [
    {
     "data": {
      "text/plain": [
       "{'name': 'Mark', 'age': 20}"
      ]
     },
     "execution_count": 255,
     "metadata": {},
     "output_type": "execute_result"
    }
   ],
   "source": [
    "a.__dict__"
   ]
  },
  {
   "cell_type": "code",
   "execution_count": null,
   "metadata": {},
   "outputs": [],
   "source": []
  },
  {
   "cell_type": "code",
   "execution_count": null,
   "metadata": {},
   "outputs": [],
   "source": []
  },
  {
   "cell_type": "code",
   "execution_count": 248,
   "metadata": {},
   "outputs": [
    {
     "data": {
      "text/plain": [
       "'Mark'"
      ]
     },
     "execution_count": 248,
     "metadata": {},
     "output_type": "execute_result"
    }
   ],
   "source": [
    "a.name"
   ]
  },
  {
   "cell_type": "code",
   "execution_count": 249,
   "metadata": {},
   "outputs": [
    {
     "data": {
      "text/plain": [
       "20"
      ]
     },
     "execution_count": 249,
     "metadata": {},
     "output_type": "execute_result"
    }
   ],
   "source": [
    "a.age"
   ]
  },
  {
   "cell_type": "code",
   "execution_count": null,
   "metadata": {},
   "outputs": [],
   "source": []
  },
  {
   "cell_type": "code",
   "execution_count": null,
   "metadata": {},
   "outputs": [],
   "source": []
  },
  {
   "cell_type": "code",
   "execution_count": null,
   "metadata": {},
   "outputs": [],
   "source": []
  },
  {
   "cell_type": "code",
   "execution_count": 198,
   "metadata": {},
   "outputs": [],
   "source": [
    "class A:\n",
    "    def __init__(self, name):\n",
    "        self.name = name"
   ]
  },
  {
   "cell_type": "code",
   "execution_count": 199,
   "metadata": {},
   "outputs": [],
   "source": [
    "a = A(\"Гиво\")"
   ]
  },
  {
   "cell_type": "code",
   "execution_count": 200,
   "metadata": {},
   "outputs": [
    {
     "data": {
      "text/plain": [
       "{'name': 'Гиво'}"
      ]
     },
     "execution_count": 200,
     "metadata": {},
     "output_type": "execute_result"
    }
   ],
   "source": [
    "a.__dict__"
   ]
  },
  {
   "cell_type": "code",
   "execution_count": 201,
   "metadata": {},
   "outputs": [],
   "source": [
    "a.number = 123"
   ]
  },
  {
   "cell_type": "code",
   "execution_count": 210,
   "metadata": {},
   "outputs": [
    {
     "data": {
      "text/plain": [
       "{'name': 'Гиво', 'number': 123}"
      ]
     },
     "execution_count": 210,
     "metadata": {},
     "output_type": "execute_result"
    }
   ],
   "source": [
    "a.__dict__"
   ]
  },
  {
   "cell_type": "code",
   "execution_count": 203,
   "metadata": {},
   "outputs": [
    {
     "data": {
      "text/plain": [
       "__main__.A"
      ]
     },
     "execution_count": 203,
     "metadata": {},
     "output_type": "execute_result"
    }
   ],
   "source": [
    "a.__class__"
   ]
  },
  {
   "cell_type": "code",
   "execution_count": 204,
   "metadata": {},
   "outputs": [],
   "source": [
    "b = A(\"Mark\")"
   ]
  },
  {
   "cell_type": "code",
   "execution_count": 206,
   "metadata": {},
   "outputs": [
    {
     "data": {
      "text/plain": [
       "__main__.A"
      ]
     },
     "execution_count": 206,
     "metadata": {},
     "output_type": "execute_result"
    }
   ],
   "source": [
    "b.__class__"
   ]
  },
  {
   "cell_type": "code",
   "execution_count": 208,
   "metadata": {},
   "outputs": [
    {
     "data": {
      "text/plain": [
       "type"
      ]
     },
     "execution_count": 208,
     "metadata": {},
     "output_type": "execute_result"
    }
   ],
   "source": [
    "A.__class__"
   ]
  },
  {
   "cell_type": "code",
   "execution_count": 211,
   "metadata": {},
   "outputs": [
    {
     "data": {
      "text/plain": [
       "mappingproxy({'__module__': '__main__',\n",
       "              '__init__': <function __main__.A.__init__(self, name)>,\n",
       "              '__dict__': <attribute '__dict__' of 'A' objects>,\n",
       "              '__weakref__': <attribute '__weakref__' of 'A' objects>,\n",
       "              '__doc__': None})"
      ]
     },
     "execution_count": 211,
     "metadata": {},
     "output_type": "execute_result"
    }
   ],
   "source": [
    "A.__dict__"
   ]
  },
  {
   "cell_type": "code",
   "execution_count": 212,
   "metadata": {},
   "outputs": [],
   "source": [
    "import dis"
   ]
  },
  {
   "cell_type": "code",
   "execution_count": 213,
   "metadata": {},
   "outputs": [
    {
     "name": "stdout",
     "output_type": "stream",
     "text": [
      "Disassembly of __init__:\n",
      "  3           0 LOAD_FAST                1 (name)\n",
      "              2 LOAD_FAST                0 (self)\n",
      "              4 STORE_ATTR               0 (name)\n",
      "              6 LOAD_CONST               0 (None)\n",
      "              8 RETURN_VALUE\n",
      "\n"
     ]
    }
   ],
   "source": [
    "dis.dis(A)"
   ]
  },
  {
   "cell_type": "code",
   "execution_count": 216,
   "metadata": {},
   "outputs": [],
   "source": [
    "dis.dis(b)"
   ]
  },
  {
   "cell_type": "code",
   "execution_count": 220,
   "metadata": {},
   "outputs": [
    {
     "data": {
      "text/plain": [
       "(object,)"
      ]
     },
     "execution_count": 220,
     "metadata": {},
     "output_type": "execute_result"
    }
   ],
   "source": [
    "A.__bases__"
   ]
  },
  {
   "cell_type": "code",
   "execution_count": null,
   "metadata": {},
   "outputs": [],
   "source": []
  },
  {
   "cell_type": "code",
   "execution_count": 7,
   "metadata": {},
   "outputs": [
    {
     "name": "stdout",
     "output_type": "stream",
     "text": [
      "foo\n",
      "foo\n",
      "foo\n"
     ]
    }
   ],
   "source": [
    "from functools import wraps\n",
    "class Repeater:\n",
    "    def __init__(self, n):\n",
    "        self.n = n\n",
    "    def __call__(self, f):\n",
    "        @wraps(f)\n",
    "        def wrapper(*args, **kwargs):\n",
    "            for _ in range(self.n):\n",
    "                f(*args, **kwargs)\n",
    "        return wrapper\n",
    "\n",
    "\n",
    "@Repeater(3)\n",
    "def foo():\n",
    "    print('foo')\n",
    "foo() "
   ]
  },
  {
   "cell_type": "code",
   "execution_count": null,
   "metadata": {},
   "outputs": [],
   "source": [
    "# Черновик"
   ]
  },
  {
   "cell_type": "code",
   "execution_count": null,
   "metadata": {},
   "outputs": [],
   "source": [
    "def repeat(_func=None, *, n=5):\n",
    "    def _repeat(f):\n",
    "        @wraps(f)\n",
    "        def inner(*args, **kwargs):\n",
    "            for _ in range(n):\n",
    "                f(*args, **kwargs)\n",
    "        return inner\n",
    "\n",
    "    if _func is None:\n",
    "        # вызов с параметрами как раньше\n",
    "        return _repeat\n",
    "    else:\n",
    "        # вызов без параметра - сделаем доп. вызов сами\n",
    "        return _repeat(_func)"
   ]
  },
  {
   "cell_type": "code",
   "execution_count": null,
   "metadata": {},
   "outputs": [],
   "source": [
    "https://tirinox.ru/parametric-decorator/"
   ]
  },
  {
   "cell_type": "code",
   "execution_count": null,
   "metadata": {},
   "outputs": [],
   "source": []
  },
  {
   "cell_type": "code",
   "execution_count": 2,
   "metadata": {},
   "outputs": [],
   "source": [
    "# def my_cache(func):\n",
    "#     cahe_dict = {}\n",
    "    \n",
    "    \n",
    "#     @wraps(func)\n",
    "#     def wrapper(*args, **kwargs):\n",
    "        \n",
    "            \n",
    "#         if args in cahe_dict:\n",
    "#             print(\"Вызывваем cache\")\n",
    "#             print(\"Len of cahce\", len(cahe_dict))\n",
    "#             wrapper.hits+=1\n",
    "#             return cahe_dict[args]\n",
    "#         else:\n",
    "#             if len(cahe_dict) <  wrapper.maxsize:\n",
    "#                 cahe_dict[args] = func(*args, **kwargs)\n",
    "                \n",
    "#                 wrapper.misses+=1\n",
    "#                 return func(*args, **kwargs)\n",
    "#             else:\n",
    "#                 exit(\"Cahce is full\")\n",
    "    \n",
    "#     def print_my():\n",
    "#         print(f\"Print отработал maxsize {wrapper.maxsize}, hits {wrapper.hits}, misses {wrapper.misses}, currsize {wrapper.currsize}\")\n",
    "    \n",
    "#     wrapper.b = print_my\n",
    "    \n",
    "\n",
    "#     wrapper.maxsize = 100\n",
    "#     wrapper.hits = 0\n",
    "#     wrapper.misses = 0\n",
    "#     wrapper.currsize = 0\n",
    "    \n",
    "#     wrapper.params_dict = {'maxsize' : 2, 'hits': 0, 'misses': 0 , 'currsize':0 }\n",
    "\n",
    "\n",
    "# #     wrapper\n",
    "# #     @property\n",
    "# #     def wrapper.get_params(self):\n",
    "# #         print(\"maxsize, hits, misses, currsize\", wrapper.maxsize,  wrapper.hits )\n",
    "\n",
    "#     return wrapper"
   ]
  },
  {
   "cell_type": "code",
   "execution_count": 40,
   "metadata": {},
   "outputs": [],
   "source": []
  },
  {
   "cell_type": "code",
   "execution_count": 41,
   "metadata": {},
   "outputs": [
    {
     "name": "stdout",
     "output_type": "stream",
     "text": [
      "1\n",
      "2\n",
      "Get out of cache\n",
      "1\n"
     ]
    }
   ],
   "source": [
    "print(get_element(1))\n",
    "print(get_element(2))\n",
    "print(get_element(1))  # Взяты из кеша.\n",
    "\n"
   ]
  },
  {
   "cell_type": "code",
   "execution_count": 42,
   "metadata": {},
   "outputs": [
    {
     "ename": "AttributeError",
     "evalue": "'function' object has no attribute 'print_my'",
     "output_type": "error",
     "traceback": [
      "\u001b[0;31m---------------------------------------------------------------------------\u001b[0m",
      "\u001b[0;31mAttributeError\u001b[0m                            Traceback (most recent call last)",
      "\u001b[0;32m<ipython-input-42-f8f371934e94>\u001b[0m in \u001b[0;36m<module>\u001b[0;34m\u001b[0m\n\u001b[0;32m----> 1\u001b[0;31m \u001b[0mget_element\u001b[0m\u001b[0;34m.\u001b[0m\u001b[0mprint_my\u001b[0m\u001b[0;34m(\u001b[0m\u001b[0;34m)\u001b[0m\u001b[0;34m\u001b[0m\u001b[0;34m\u001b[0m\u001b[0m\n\u001b[0m",
      "\u001b[0;31mAttributeError\u001b[0m: 'function' object has no attribute 'print_my'"
     ]
    }
   ],
   "source": [
    "get_element.print_my()"
   ]
  },
  {
   "cell_type": "code",
   "execution_count": 43,
   "metadata": {},
   "outputs": [
    {
     "name": "stdout",
     "output_type": "stream",
     "text": [
      "3\n",
      "4\n",
      "5\n"
     ]
    }
   ],
   "source": [
    "print(get_element(3))\n",
    "print(get_element(4))\n",
    "print(get_element(5))  # Взяты из кеша.\n",
    "\n"
   ]
  },
  {
   "cell_type": "code",
   "execution_count": 45,
   "metadata": {},
   "outputs": [
    {
     "ename": "AttributeError",
     "evalue": "'function' object has no attribute 'cache_info'",
     "output_type": "error",
     "traceback": [
      "\u001b[0;31m---------------------------------------------------------------------------\u001b[0m",
      "\u001b[0;31mAttributeError\u001b[0m                            Traceback (most recent call last)",
      "\u001b[0;32m<ipython-input-45-7fa8418c6fd2>\u001b[0m in \u001b[0;36m<module>\u001b[0;34m\u001b[0m\n\u001b[0;32m----> 1\u001b[0;31m \u001b[0mget_element\u001b[0m\u001b[0;34m.\u001b[0m\u001b[0mcache_info\u001b[0m\u001b[0;34m(\u001b[0m\u001b[0;34m)\u001b[0m\u001b[0;34m\u001b[0m\u001b[0;34m\u001b[0m\u001b[0m\n\u001b[0m",
      "\u001b[0;31mAttributeError\u001b[0m: 'function' object has no attribute 'cache_info'"
     ]
    }
   ],
   "source": [
    "get_element.cache_info()"
   ]
  },
  {
   "cell_type": "code",
   "execution_count": 23,
   "metadata": {},
   "outputs": [],
   "source": [
    "@my_cache(maxsize=50)\n",
    "def get_element_v2(index):\n",
    "    array = range(0, 10)\n",
    "    # Здесь затратная операция, выбирающая статьи\n",
    "    # на определённую дату.\n",
    "\n",
    "    return array[index]"
   ]
  },
  {
   "cell_type": "code",
   "execution_count": 24,
   "metadata": {},
   "outputs": [
    {
     "name": "stdout",
     "output_type": "stream",
     "text": [
      "<function my_cache.<locals>._my_cache.<locals>.wrapper at 0x7f7f8b0d8f80>\n",
      "<function my_cache.<locals>._my_cache.<locals>.wrapper at 0x7f7f8b0e6200>\n",
      "<function my_cache.<locals>._my_cache.<locals>.wrapper at 0x7f7f8b0e6440>\n"
     ]
    }
   ],
   "source": [
    "print(get_element_v2(1))\n",
    "print(get_element_v2(2))\n",
    "print(get_element_v2(1))  # Взяты из кеша.\n",
    "\n"
   ]
  },
  {
   "cell_type": "code",
   "execution_count": 25,
   "metadata": {},
   "outputs": [
    {
     "ename": "AttributeError",
     "evalue": "'function' object has no attribute 'b'",
     "output_type": "error",
     "traceback": [
      "\u001b[0;31m---------------------------------------------------------------------------\u001b[0m",
      "\u001b[0;31mAttributeError\u001b[0m                            Traceback (most recent call last)",
      "\u001b[0;32m<ipython-input-25-d358bdbe586c>\u001b[0m in \u001b[0;36m<module>\u001b[0;34m\u001b[0m\n\u001b[0;32m----> 1\u001b[0;31m \u001b[0mget_element_v2\u001b[0m\u001b[0;34m.\u001b[0m\u001b[0mb\u001b[0m\u001b[0;34m(\u001b[0m\u001b[0;34m)\u001b[0m\u001b[0;34m\u001b[0m\u001b[0;34m\u001b[0m\u001b[0m\n\u001b[0m",
      "\u001b[0;31mAttributeError\u001b[0m: 'function' object has no attribute 'b'"
     ]
    }
   ],
   "source": [
    "get_element_v2.b()"
   ]
  },
  {
   "cell_type": "code",
   "execution_count": null,
   "metadata": {},
   "outputs": [],
   "source": []
  },
  {
   "cell_type": "code",
   "execution_count": null,
   "metadata": {},
   "outputs": [],
   "source": []
  },
  {
   "cell_type": "code",
   "execution_count": 169,
   "metadata": {},
   "outputs": [
    {
     "name": "stdout",
     "output_type": "stream",
     "text": [
      "None\n"
     ]
    }
   ],
   "source": [
    "print(get_element(5))  "
   ]
  },
  {
   "cell_type": "code",
   "execution_count": 28,
   "metadata": {},
   "outputs": [],
   "source": [
    "from collections import defaultdict"
   ]
  },
  {
   "cell_type": "code",
   "execution_count": 29,
   "metadata": {},
   "outputs": [
    {
     "ename": "KeyError",
     "evalue": "3",
     "output_type": "error",
     "traceback": [
      "\u001b[0;31m---------------------------------------------------------------------------\u001b[0m",
      "\u001b[0;31mKeyError\u001b[0m                                  Traceback (most recent call last)",
      "\u001b[0;32m<ipython-input-29-ab87e6cfdb86>\u001b[0m in \u001b[0;36m<module>\u001b[0;34m\u001b[0m\n\u001b[1;32m      1\u001b[0m \u001b[0msomedict\u001b[0m \u001b[0;34m=\u001b[0m \u001b[0;34m{\u001b[0m\u001b[0;34m}\u001b[0m\u001b[0;34m\u001b[0m\u001b[0;34m\u001b[0m\u001b[0m\n\u001b[0;32m----> 2\u001b[0;31m \u001b[0mprint\u001b[0m\u001b[0;34m(\u001b[0m\u001b[0msomedict\u001b[0m\u001b[0;34m[\u001b[0m\u001b[0;36m3\u001b[0m\u001b[0;34m]\u001b[0m\u001b[0;34m)\u001b[0m \u001b[0;31m# KeyError\u001b[0m\u001b[0;34m\u001b[0m\u001b[0;34m\u001b[0m\u001b[0m\n\u001b[0m\u001b[1;32m      3\u001b[0m \u001b[0;34m\u001b[0m\u001b[0m\n",
      "\u001b[0;31mKeyError\u001b[0m: 3"
     ]
    }
   ],
   "source": [
    "somedict = {}\n",
    "print(somedict[3]) # KeyError\n",
    "\n"
   ]
  },
  {
   "cell_type": "code",
   "execution_count": 30,
   "metadata": {},
   "outputs": [
    {
     "name": "stdout",
     "output_type": "stream",
     "text": [
      "0\n"
     ]
    }
   ],
   "source": [
    "someddict = defaultdict(int)\n",
    "print(someddict[3]) # print int(), thus 0"
   ]
  },
  {
   "cell_type": "code",
   "execution_count": 34,
   "metadata": {},
   "outputs": [
    {
     "data": {
      "text/plain": [
       "defaultdict(int, {3: 0, 5: 0})"
      ]
     },
     "execution_count": 34,
     "metadata": {},
     "output_type": "execute_result"
    }
   ],
   "source": [
    "someddict"
   ]
  },
  {
   "cell_type": "code",
   "execution_count": 33,
   "metadata": {},
   "outputs": [
    {
     "data": {
      "text/plain": [
       "0"
      ]
     },
     "execution_count": 33,
     "metadata": {},
     "output_type": "execute_result"
    }
   ],
   "source": [
    "someddict[5]"
   ]
  },
  {
   "cell_type": "code",
   "execution_count": 35,
   "metadata": {},
   "outputs": [
    {
     "data": {
      "text/plain": [
       "2"
      ]
     },
     "execution_count": 35,
     "metadata": {},
     "output_type": "execute_result"
    }
   ],
   "source": [
    "len(someddict)"
   ]
  },
  {
   "cell_type": "markdown",
   "metadata": {},
   "source": [
    "# 2. Реализация функции cache (для функций (lru_cashe) "
   ]
  },
  {
   "cell_type": "code",
   "execution_count": null,
   "metadata": {},
   "outputs": [],
   "source": []
  },
  {
   "cell_type": "code",
   "execution_count": null,
   "metadata": {},
   "outputs": [],
   "source": []
  },
  {
   "cell_type": "code",
   "execution_count": null,
   "metadata": {},
   "outputs": [],
   "source": []
  },
  {
   "cell_type": "code",
   "execution_count": null,
   "metadata": {},
   "outputs": [],
   "source": []
  },
  {
   "cell_type": "code",
   "execution_count": null,
   "metadata": {},
   "outputs": [],
   "source": [
    "#### Черновик №№№№№№"
   ]
  },
  {
   "cell_type": "code",
   "execution_count": null,
   "metadata": {},
   "outputs": [],
   "source": [
    "class LRU_Cache:\n",
    "\n",
    "    def __init__(self, original_function, maxsize=1000):\n",
    "        self.original_function = original_function\n",
    "        self.maxsize = maxsize\n",
    "        self.mapping = {}\n",
    "\n",
    "        PREV, NEXT, KEY, VALUE = 0, 1, 2, 3         # link fields\n",
    "        self.head = [None, None, None, None]        # oldest\n",
    "        self.tail = [self.head, None, None, None]   # newest\n",
    "        self.head[NEXT] = self.tail\n",
    "\n",
    "    def __call__(self, *key):\n",
    "        PREV, NEXT = 0, 1\n",
    "        mapping, head, tail = self.mapping, self.head, self.tail\n",
    "\n",
    "        link = mapping.get(key, head)\n",
    "        if link is head:\n",
    "            value = self.original_function(*key)\n",
    "            if len(mapping) >= self.maxsize:\n",
    "                old_prev, old_next, old_key, old_value = head[NEXT]\n",
    "                head[NEXT] = old_next\n",
    "                old_next[PREV] = head\n",
    "                del mapping[old_key]\n",
    "            last = tail[PREV]\n",
    "            link = [last, tail, key, value]\n",
    "            mapping[key] = last[NEXT] = tail[PREV] = link\n",
    "        else:\n",
    "            link_prev, link_next, key, value = link\n",
    "            link_prev[NEXT] = link_next\n",
    "            link_next[PREV] = link_prev\n",
    "            last = tail[PREV]\n",
    "            last[NEXT] = tail[PREV] = link\n",
    "            link[PREV] = last\n",
    "            link[NEXT] = tail\n",
    "        return value"
   ]
  },
  {
   "cell_type": "code",
   "execution_count": null,
   "metadata": {},
   "outputs": [],
   "source": [
    "p = LRU_Cache(pow, maxsize=3)\n",
    "for i in [1,2,3,4,5,3,1,5,1,1]:\n",
    "    print(i, p(i, 2))"
   ]
  },
  {
   "cell_type": "code",
   "execution_count": null,
   "metadata": {},
   "outputs": [],
   "source": []
  }
 ],
 "metadata": {
  "kernelspec": {
   "display_name": "Python 3",
   "language": "python",
   "name": "python3"
  },
  "language_info": {
   "codemirror_mode": {
    "name": "ipython",
    "version": 3
   },
   "file_extension": ".py",
   "mimetype": "text/x-python",
   "name": "python",
   "nbconvert_exporter": "python",
   "pygments_lexer": "ipython3",
   "version": "3.7.4"
  }
 },
 "nbformat": 4,
 "nbformat_minor": 2
}
