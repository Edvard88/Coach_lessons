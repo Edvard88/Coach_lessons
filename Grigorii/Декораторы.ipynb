{
 "cells": [
  {
   "cell_type": "markdown",
   "metadata": {},
   "source": [
    "## 1"
   ]
  },
  {
   "cell_type": "code",
   "execution_count": 26,
   "metadata": {},
   "outputs": [],
   "source": [
    "def hello():\n",
    "    return \"Hello world\""
   ]
  },
  {
   "cell_type": "code",
   "execution_count": 16,
   "metadata": {},
   "outputs": [],
   "source": [
    "a = hello"
   ]
  },
  {
   "cell_type": "code",
   "execution_count": 17,
   "metadata": {},
   "outputs": [
    {
     "data": {
      "text/plain": [
       "'Hello world'"
      ]
     },
     "execution_count": 17,
     "metadata": {},
     "output_type": "execute_result"
    }
   ],
   "source": [
    "a()"
   ]
  },
  {
   "cell_type": "code",
   "execution_count": 18,
   "metadata": {},
   "outputs": [],
   "source": [
    "del hello"
   ]
  },
  {
   "cell_type": "code",
   "execution_count": 20,
   "metadata": {},
   "outputs": [
    {
     "data": {
      "text/plain": [
       "'Hello world'"
      ]
     },
     "execution_count": 20,
     "metadata": {},
     "output_type": "execute_result"
    }
   ],
   "source": [
    "a()"
   ]
  },
  {
   "cell_type": "markdown",
   "metadata": {},
   "source": [
    "**Вопрос**: Интсрукция по выполнению фугкции хрнится где-то в  памяти, тк мы удалили hello, те есть ссылка на эту инструкцию"
   ]
  },
  {
   "cell_type": "markdown",
   "metadata": {},
   "source": [
    "## 2"
   ]
  },
  {
   "cell_type": "markdown",
   "metadata": {},
   "source": [
    "### a) Если написать так"
   ]
  },
  {
   "cell_type": "code",
   "execution_count": 183,
   "metadata": {},
   "outputs": [],
   "source": [
    "def hello_1():\n",
    "    print(\"Hello world\")"
   ]
  },
  {
   "cell_type": "code",
   "execution_count": 184,
   "metadata": {},
   "outputs": [],
   "source": [
    "def decorator_1(func):\n",
    "    print(\"До функции\")    \n",
    "    func()\n",
    "    print(\"После функции\")\n",
    "    \n",
    "    "
   ]
  },
  {
   "cell_type": "code",
   "execution_count": 178,
   "metadata": {},
   "outputs": [
    {
     "name": "stdout",
     "output_type": "stream",
     "text": [
      "До функции\n",
      "Hello world\n",
      "После функции\n"
     ]
    }
   ],
   "source": [
    "decorator_1(hello_1)"
   ]
  },
  {
   "cell_type": "code",
   "execution_count": 185,
   "metadata": {},
   "outputs": [
    {
     "name": "stdout",
     "output_type": "stream",
     "text": [
      "До функции\n",
      "Hello world\n",
      "После функции\n",
      "Type b None\n",
      "Type b <class 'NoneType'>\n"
     ]
    }
   ],
   "source": [
    "b = decorator_1(hello_1)\n",
    "print(\"Type b\", b)\n",
    "print(\"Type b\", type(b))"
   ]
  },
  {
   "cell_type": "code",
   "execution_count": 186,
   "metadata": {},
   "outputs": [
    {
     "name": "stdout",
     "output_type": "stream",
     "text": [
      "До функции\n",
      "Hello world\n",
      "После функции\n"
     ]
    }
   ],
   "source": [
    "@decorator_1\n",
    "def hello_1_1():\n",
    "    print(\"Hello world\")"
   ]
  },
  {
   "cell_type": "code",
   "execution_count": null,
   "metadata": {},
   "outputs": [],
   "source": [
    "!!!! Что это вообще такое, я wrapper не написал, но декоратор создал"
   ]
  },
  {
   "cell_type": "code",
   "execution_count": 182,
   "metadata": {},
   "outputs": [
    {
     "name": "stdout",
     "output_type": "stream",
     "text": [
      "До функции\n",
      "Hello world\n",
      "После функции\n"
     ]
    },
    {
     "data": {
      "text/plain": [
       "NoneType"
      ]
     },
     "execution_count": 182,
     "metadata": {},
     "output_type": "execute_result"
    }
   ],
   "source": [
    "type(decorator_1(hello_1))"
   ]
  },
  {
   "cell_type": "code",
   "execution_count": null,
   "metadata": {},
   "outputs": [],
   "source": []
  },
  {
   "cell_type": "markdown",
   "metadata": {},
   "source": [
    "### b) Если написать так"
   ]
  },
  {
   "cell_type": "code",
   "execution_count": 156,
   "metadata": {},
   "outputs": [],
   "source": [
    "def hello_2():\n",
    "    print(\"Hello world\")"
   ]
  },
  {
   "cell_type": "code",
   "execution_count": 157,
   "metadata": {},
   "outputs": [],
   "source": [
    "def decorator_2(func):\n",
    "    print(\"До функции\")    \n",
    "    func()\n",
    "    print(\"После функции\")\n",
    "    \n",
    "    return decorator_2"
   ]
  },
  {
   "cell_type": "code",
   "execution_count": 158,
   "metadata": {},
   "outputs": [
    {
     "name": "stdout",
     "output_type": "stream",
     "text": [
      "До функции\n",
      "Hello world\n",
      "После функции\n"
     ]
    },
    {
     "data": {
      "text/plain": [
       "<function __main__.decorator_2(func)>"
      ]
     },
     "execution_count": 158,
     "metadata": {},
     "output_type": "execute_result"
    }
   ],
   "source": [
    "decorator_2(hello_2)"
   ]
  },
  {
   "cell_type": "code",
   "execution_count": 159,
   "metadata": {},
   "outputs": [
    {
     "name": "stdout",
     "output_type": "stream",
     "text": [
      "До функции\n",
      "Hello world\n",
      "После функции\n",
      "Type b <function decorator_2 at 0x7f840effeef0>\n",
      "Type b <class 'function'>\n"
     ]
    }
   ],
   "source": [
    "b_2 = decorator_2(hello_2)\n",
    "print(\"Type b\", b_2)\n",
    "print(\"Type b\", type(b_2))"
   ]
  },
  {
   "cell_type": "code",
   "execution_count": 160,
   "metadata": {},
   "outputs": [
    {
     "name": "stdout",
     "output_type": "stream",
     "text": [
      "До функции\n",
      "Hello world\n",
      "После функции\n"
     ]
    }
   ],
   "source": [
    "@decorator_2\n",
    "def hello_1_2():\n",
    "    print(\"Hello world\")"
   ]
  },
  {
   "cell_type": "code",
   "execution_count": 161,
   "metadata": {},
   "outputs": [
    {
     "ename": "TypeError",
     "evalue": "decorator_2() missing 1 required positional argument: 'func'",
     "output_type": "error",
     "traceback": [
      "\u001b[0;31m---------------------------------------------------------------------------\u001b[0m",
      "\u001b[0;31mTypeError\u001b[0m                                 Traceback (most recent call last)",
      "\u001b[0;32m<ipython-input-161-19395627c9ea>\u001b[0m in \u001b[0;36m<module>\u001b[0;34m\u001b[0m\n\u001b[0;32m----> 1\u001b[0;31m \u001b[0mhello_1_2\u001b[0m\u001b[0;34m(\u001b[0m\u001b[0;34m)\u001b[0m\u001b[0;34m\u001b[0m\u001b[0;34m\u001b[0m\u001b[0m\n\u001b[0m",
      "\u001b[0;31mTypeError\u001b[0m: decorator_2() missing 1 required positional argument: 'func'"
     ]
    }
   ],
   "source": [
    "hello_1_2()"
   ]
  },
  {
   "cell_type": "code",
   "execution_count": null,
   "metadata": {},
   "outputs": [],
   "source": []
  },
  {
   "cell_type": "code",
   "execution_count": null,
   "metadata": {},
   "outputs": [],
   "source": []
  },
  {
   "cell_type": "markdown",
   "metadata": {},
   "source": [
    "### c) Если написать так"
   ]
  },
  {
   "cell_type": "code",
   "execution_count": 162,
   "metadata": {},
   "outputs": [],
   "source": [
    "def hello_3():\n",
    "    print(\"Hello world\")"
   ]
  },
  {
   "cell_type": "code",
   "execution_count": 163,
   "metadata": {},
   "outputs": [],
   "source": [
    "def decorator_3(func):\n",
    "    def wrapper():\n",
    "        print(\"До функции\")\n",
    "\n",
    "        func()\n",
    "\n",
    "        print(\"После функции\")\n",
    "    \n",
    "    return wrapper"
   ]
  },
  {
   "cell_type": "code",
   "execution_count": 164,
   "metadata": {},
   "outputs": [
    {
     "data": {
      "text/plain": [
       "<function __main__.decorator_3.<locals>.wrapper()>"
      ]
     },
     "execution_count": 164,
     "metadata": {},
     "output_type": "execute_result"
    }
   ],
   "source": [
    "decorator_3(hello_3)"
   ]
  },
  {
   "cell_type": "code",
   "execution_count": 165,
   "metadata": {},
   "outputs": [
    {
     "name": "stdout",
     "output_type": "stream",
     "text": [
      "Type b <function decorator_3.<locals>.wrapper at 0x7f840f01a320>\n",
      "Type b <class 'function'>\n"
     ]
    }
   ],
   "source": [
    "b_3 = decorator_3(hello_3)\n",
    "print(\"Type b\", b_3)\n",
    "print(\"Type b\", type(b_3))"
   ]
  },
  {
   "cell_type": "code",
   "execution_count": 173,
   "metadata": {},
   "outputs": [],
   "source": [
    "@decorator_3\n",
    "def hello_3_3():\n",
    "    print(\"Hello world\")"
   ]
  },
  {
   "cell_type": "code",
   "execution_count": 174,
   "metadata": {},
   "outputs": [
    {
     "data": {
      "text/plain": [
       "<function __main__.decorator_3.<locals>.wrapper()>"
      ]
     },
     "execution_count": 174,
     "metadata": {},
     "output_type": "execute_result"
    }
   ],
   "source": [
    "hello_3_3"
   ]
  },
  {
   "cell_type": "code",
   "execution_count": 171,
   "metadata": {},
   "outputs": [
    {
     "name": "stdout",
     "output_type": "stream",
     "text": [
      "До функции\n",
      "Hello world\n",
      "После функции\n"
     ]
    }
   ],
   "source": [
    "hello_3_3()"
   ]
  },
  {
   "cell_type": "code",
   "execution_count": null,
   "metadata": {},
   "outputs": [],
   "source": [
    "hello_3_3 = "
   ]
  },
  {
   "cell_type": "code",
   "execution_count": 100,
   "metadata": {},
   "outputs": [],
   "source": [
    "def doSomethingBefore(func):\n",
    "    print(\"До функции\")\n",
    "    print(func())\n",
    "    print(\"После функции\")\n",
    "    return doSomethingBefore"
   ]
  },
  {
   "cell_type": "code",
   "execution_count": 85,
   "metadata": {},
   "outputs": [
    {
     "name": "stdout",
     "output_type": "stream",
     "text": [
      "До функции\n",
      "Hello world\n",
      "После функции\n"
     ]
    }
   ],
   "source": [
    "d = doSomethingBefore(hello)"
   ]
  },
  {
   "cell_type": "code",
   "execution_count": 86,
   "metadata": {},
   "outputs": [
    {
     "data": {
      "text/plain": [
       "<function __main__.doSomethingBefore(func)>"
      ]
     },
     "execution_count": 86,
     "metadata": {},
     "output_type": "execute_result"
    }
   ],
   "source": [
    "d"
   ]
  },
  {
   "cell_type": "code",
   "execution_count": 148,
   "metadata": {},
   "outputs": [],
   "source": [
    "def test(a, mylist=set()):\n",
    "    mylist.append(a)\n",
    "    \n",
    "    return mylist"
   ]
  },
  {
   "cell_type": "code",
   "execution_count": 149,
   "metadata": {},
   "outputs": [],
   "source": [
    "#test.__globals__"
   ]
  },
  {
   "cell_type": "code",
   "execution_count": 150,
   "metadata": {},
   "outputs": [],
   "source": [
    "def test(a, mylist=[]):\n",
    "    mylist.append(a)\n",
    "    \n",
    "    return mylist"
   ]
  },
  {
   "cell_type": "code",
   "execution_count": 151,
   "metadata": {},
   "outputs": [
    {
     "name": "stdout",
     "output_type": "stream",
     "text": [
      "[1]\n",
      "[1, 2]\n",
      "[1, 2, 3]\n"
     ]
    }
   ],
   "source": [
    "print(test(1))\n",
    "print(test(2))\n",
    "print(test(3))\n",
    "\n",
    "#mylist"
   ]
  },
  {
   "cell_type": "code",
   "execution_count": 129,
   "metadata": {},
   "outputs": [],
   "source": [
    "def test2(a, mylist=None):\n",
    "    if mylist is None:\n",
    "        mylist = []    \n",
    "    mylist.append(a)\n",
    "    return mylist"
   ]
  },
  {
   "cell_type": "code",
   "execution_count": 130,
   "metadata": {},
   "outputs": [
    {
     "name": "stdout",
     "output_type": "stream",
     "text": [
      "[1]\n",
      "[2]\n",
      "[3]\n"
     ]
    }
   ],
   "source": [
    "print(test2(1))\n",
    "print(test2(2))\n",
    "print(test2(3))"
   ]
  },
  {
   "cell_type": "code",
   "execution_count": null,
   "metadata": {},
   "outputs": [],
   "source": [
    "[1]\n",
    "[2]\n",
    "[3]\n"
   ]
  },
  {
   "cell_type": "code",
   "execution_count": null,
   "metadata": {},
   "outputs": [],
   "source": [
    "[[], 1]\n",
    "[[], 2]\n",
    "[[], 3]\n"
   ]
  },
  {
   "cell_type": "code",
   "execution_count": 15,
   "metadata": {},
   "outputs": [
    {
     "data": {
      "text/plain": [
       "{'__name__': '__main__',\n",
       " '__doc__': 'Automatically created module for IPython interactive environment',\n",
       " '__package__': None,\n",
       " '__loader__': None,\n",
       " '__spec__': None,\n",
       " '__builtin__': <module 'builtins' (built-in)>,\n",
       " '__builtins__': <module 'builtins' (built-in)>,\n",
       " '_ih': ['',\n",
       "  'a = 2',\n",
       "  'a = 2\\na',\n",
       "  'a()',\n",
       "  'def hello():\\n    return \"Hello world\"',\n",
       "  'a = hello',\n",
       "  'a()',\n",
       "  'a.__globals__',\n",
       "  'a.__closure__',\n",
       "  'a.__closure__',\n",
       "  'a..__closure__[0]',\n",
       "  'a.__closure__[0]',\n",
       "  'hello.__closure__[0]',\n",
       "  'hello',\n",
       "  'hello.__closure__',\n",
       "  'hello.__globals__'],\n",
       " '_oh': {2: 2, 6: 'Hello world', 7: {...}, 13: <function __main__.hello()>},\n",
       " '_dh': ['/Users/user/Учеба/Программирование/Занятия'],\n",
       " 'In': ['',\n",
       "  'a = 2',\n",
       "  'a = 2\\na',\n",
       "  'a()',\n",
       "  'def hello():\\n    return \"Hello world\"',\n",
       "  'a = hello',\n",
       "  'a()',\n",
       "  'a.__globals__',\n",
       "  'a.__closure__',\n",
       "  'a.__closure__',\n",
       "  'a..__closure__[0]',\n",
       "  'a.__closure__[0]',\n",
       "  'hello.__closure__[0]',\n",
       "  'hello',\n",
       "  'hello.__closure__',\n",
       "  'hello.__globals__'],\n",
       " 'Out': {2: 2, 6: 'Hello world', 7: {...}, 13: <function __main__.hello()>},\n",
       " 'get_ipython': <bound method InteractiveShell.get_ipython of <ipykernel.zmqshell.ZMQInteractiveShell object at 0x7f840ed346d0>>,\n",
       " 'exit': <IPython.core.autocall.ZMQExitAutocall at 0x7f840db30210>,\n",
       " 'quit': <IPython.core.autocall.ZMQExitAutocall at 0x7f840db30210>,\n",
       " '_': <function __main__.hello()>,\n",
       " '__': {...},\n",
       " '___': 'Hello world',\n",
       " '_i': 'hello.__closure__',\n",
       " '_ii': 'hello',\n",
       " '_iii': 'hello.__closure__[0]',\n",
       " '_i1': 'a = 2',\n",
       " 'a': <function __main__.hello()>,\n",
       " '_i2': 'a = 2\\na',\n",
       " '_2': 2,\n",
       " '_i3': 'a()',\n",
       " '_i4': 'def hello():\\n    return \"Hello world\"',\n",
       " 'hello': <function __main__.hello()>,\n",
       " '_i5': 'a = hello',\n",
       " '_i6': 'a()',\n",
       " '_6': 'Hello world',\n",
       " '_i7': 'a.__globals__',\n",
       " '_7': {...},\n",
       " '_i8': 'a.__closure__',\n",
       " '_i9': 'a.__closure__',\n",
       " '_i10': 'a..__closure__[0]',\n",
       " '_i11': 'a.__closure__[0]',\n",
       " '_i12': 'hello.__closure__[0]',\n",
       " '_i13': 'hello',\n",
       " '_13': <function __main__.hello()>,\n",
       " '_i14': 'hello.__closure__',\n",
       " '_i15': 'hello.__globals__'}"
      ]
     },
     "execution_count": 15,
     "metadata": {},
     "output_type": "execute_result"
    }
   ],
   "source": [
    "hello.__globals__"
   ]
  },
  {
   "cell_type": "code",
   "execution_count": 5,
   "metadata": {},
   "outputs": [],
   "source": [
    "a = hello"
   ]
  },
  {
   "cell_type": "code",
   "execution_count": 7,
   "metadata": {},
   "outputs": [
    {
     "data": {
      "text/plain": [
       "{'__name__': '__main__',\n",
       " '__doc__': 'Automatically created module for IPython interactive environment',\n",
       " '__package__': None,\n",
       " '__loader__': None,\n",
       " '__spec__': None,\n",
       " '__builtin__': <module 'builtins' (built-in)>,\n",
       " '__builtins__': <module 'builtins' (built-in)>,\n",
       " '_ih': ['',\n",
       "  'a = 2',\n",
       "  'a = 2\\na',\n",
       "  'a()',\n",
       "  'def hello():\\n    return \"Hello world\"',\n",
       "  'a = hello',\n",
       "  'a()',\n",
       "  'a.__globals__'],\n",
       " '_oh': {2: 2, 6: 'Hello world'},\n",
       " '_dh': ['/Users/user/Учеба/Программирование/Занятия'],\n",
       " 'In': ['',\n",
       "  'a = 2',\n",
       "  'a = 2\\na',\n",
       "  'a()',\n",
       "  'def hello():\\n    return \"Hello world\"',\n",
       "  'a = hello',\n",
       "  'a()',\n",
       "  'a.__globals__'],\n",
       " 'Out': {2: 2, 6: 'Hello world'},\n",
       " 'get_ipython': <bound method InteractiveShell.get_ipython of <ipykernel.zmqshell.ZMQInteractiveShell object at 0x7f840ed346d0>>,\n",
       " 'exit': <IPython.core.autocall.ZMQExitAutocall at 0x7f840db30210>,\n",
       " 'quit': <IPython.core.autocall.ZMQExitAutocall at 0x7f840db30210>,\n",
       " '_': 'Hello world',\n",
       " '__': 2,\n",
       " '___': '',\n",
       " '_i': 'a()',\n",
       " '_ii': 'a = hello',\n",
       " '_iii': 'def hello():\\n    return \"Hello world\"',\n",
       " '_i1': 'a = 2',\n",
       " 'a': <function __main__.hello()>,\n",
       " '_i2': 'a = 2\\na',\n",
       " '_2': 2,\n",
       " '_i3': 'a()',\n",
       " '_i4': 'def hello():\\n    return \"Hello world\"',\n",
       " 'hello': <function __main__.hello()>,\n",
       " '_i5': 'a = hello',\n",
       " '_i6': 'a()',\n",
       " '_6': 'Hello world',\n",
       " '_i7': 'a.__globals__'}"
      ]
     },
     "execution_count": 7,
     "metadata": {},
     "output_type": "execute_result"
    }
   ],
   "source": [
    "a.__globals__"
   ]
  },
  {
   "cell_type": "code",
   "execution_count": 9,
   "metadata": {},
   "outputs": [],
   "source": [
    "a.__closure__"
   ]
  },
  {
   "cell_type": "code",
   "execution_count": 11,
   "metadata": {},
   "outputs": [
    {
     "ename": "TypeError",
     "evalue": "'NoneType' object is not subscriptable",
     "output_type": "error",
     "traceback": [
      "\u001b[0;31m---------------------------------------------------------------------------\u001b[0m",
      "\u001b[0;31mTypeError\u001b[0m                                 Traceback (most recent call last)",
      "\u001b[0;32m<ipython-input-11-7239e7c452ec>\u001b[0m in \u001b[0;36m<module>\u001b[0;34m\u001b[0m\n\u001b[0;32m----> 1\u001b[0;31m \u001b[0ma\u001b[0m\u001b[0;34m.\u001b[0m\u001b[0m__closure__\u001b[0m\u001b[0;34m[\u001b[0m\u001b[0;36m0\u001b[0m\u001b[0;34m]\u001b[0m\u001b[0;34m\u001b[0m\u001b[0;34m\u001b[0m\u001b[0m\n\u001b[0m",
      "\u001b[0;31mTypeError\u001b[0m: 'NoneType' object is not subscriptable"
     ]
    }
   ],
   "source": [
    "a.__closure__[0]"
   ]
  },
  {
   "cell_type": "code",
   "execution_count": 12,
   "metadata": {},
   "outputs": [
    {
     "ename": "TypeError",
     "evalue": "'NoneType' object is not subscriptable",
     "output_type": "error",
     "traceback": [
      "\u001b[0;31m---------------------------------------------------------------------------\u001b[0m",
      "\u001b[0;31mTypeError\u001b[0m                                 Traceback (most recent call last)",
      "\u001b[0;32m<ipython-input-12-8c0873bb6cf4>\u001b[0m in \u001b[0;36m<module>\u001b[0;34m\u001b[0m\n\u001b[0;32m----> 1\u001b[0;31m \u001b[0mhello\u001b[0m\u001b[0;34m.\u001b[0m\u001b[0m__closure__\u001b[0m\u001b[0;34m[\u001b[0m\u001b[0;36m0\u001b[0m\u001b[0;34m]\u001b[0m\u001b[0;34m\u001b[0m\u001b[0;34m\u001b[0m\u001b[0m\n\u001b[0m",
      "\u001b[0;31mTypeError\u001b[0m: 'NoneType' object is not subscriptable"
     ]
    }
   ],
   "source": [
    "hello.__closure__[0]"
   ]
  },
  {
   "cell_type": "code",
   "execution_count": 2,
   "metadata": {},
   "outputs": [],
   "source": [
    "def hello():\n",
    "    print(\"Hello\")\n",
    "    "
   ]
  },
  {
   "cell_type": "code",
   "execution_count": 190,
   "metadata": {},
   "outputs": [],
   "source": [
    "tmp = hello"
   ]
  },
  {
   "cell_type": "code",
   "execution_count": 191,
   "metadata": {},
   "outputs": [],
   "source": [
    "del hello"
   ]
  },
  {
   "cell_type": "code",
   "execution_count": 193,
   "metadata": {},
   "outputs": [
    {
     "name": "stdout",
     "output_type": "stream",
     "text": [
      "Hello\n"
     ]
    }
   ],
   "source": [
    "tmp()"
   ]
  },
  {
   "cell_type": "code",
   "execution_count": 1,
   "metadata": {},
   "outputs": [
    {
     "ename": "SyntaxError",
     "evalue": "invalid syntax (<ipython-input-1-8437257bed7b>, line 1)",
     "output_type": "error",
     "traceback": [
      "\u001b[0;36m  File \u001b[0;32m\"<ipython-input-1-8437257bed7b>\"\u001b[0;36m, line \u001b[0;32m1\u001b[0m\n\u001b[0;31m    .__globals__\u001b[0m\n\u001b[0m    ^\u001b[0m\n\u001b[0;31mSyntaxError\u001b[0m\u001b[0;31m:\u001b[0m invalid syntax\n"
     ]
    }
   ],
   "source": [
    ".__globals__"
   ]
  },
  {
   "cell_type": "code",
   "execution_count": 3,
   "metadata": {},
   "outputs": [
    {
     "data": {
      "text/plain": [
       "<function __main__.hello()>"
      ]
     },
     "execution_count": 3,
     "metadata": {},
     "output_type": "execute_result"
    }
   ],
   "source": [
    "hello"
   ]
  },
  {
   "cell_type": "code",
   "execution_count": 56,
   "metadata": {},
   "outputs": [],
   "source": [
    "def multiply(num1):\n",
    "    var = 10\n",
    "    def inner(num2):\n",
    "        return num1 * num2\n",
    "    return inner"
   ]
  },
  {
   "cell_type": "code",
   "execution_count": 57,
   "metadata": {},
   "outputs": [],
   "source": [
    "mult_by_9 = multiply(9)"
   ]
  },
  {
   "cell_type": "code",
   "execution_count": 59,
   "metadata": {},
   "outputs": [
    {
     "data": {
      "text/plain": [
       "<function __main__.multiply.<locals>.inner(num2)>"
      ]
     },
     "execution_count": 59,
     "metadata": {},
     "output_type": "execute_result"
    }
   ],
   "source": [
    "mult_by_9"
   ]
  },
  {
   "cell_type": "code",
   "execution_count": 7,
   "metadata": {},
   "outputs": [
    {
     "data": {
      "text/plain": [
       "(<cell at 0x7ff33e727890: int object at 0x109d22590>,)"
      ]
     },
     "execution_count": 7,
     "metadata": {},
     "output_type": "execute_result"
    }
   ],
   "source": [
    "mult_by_9.__closure__"
   ]
  },
  {
   "cell_type": "code",
   "execution_count": 60,
   "metadata": {},
   "outputs": [
    {
     "data": {
      "text/plain": [
       "9"
      ]
     },
     "execution_count": 60,
     "metadata": {},
     "output_type": "execute_result"
    }
   ],
   "source": [
    "mult_by_9.__closure__[0].cell_contents"
   ]
  },
  {
   "cell_type": "code",
   "execution_count": 23,
   "metadata": {},
   "outputs": [],
   "source": [
    "def countdown(n):\n",
    "    def step():\n",
    "        nonlocal n\n",
    "        n -= 1\n",
    "        return n\n",
    "    return step"
   ]
  },
  {
   "cell_type": "code",
   "execution_count": 24,
   "metadata": {},
   "outputs": [],
   "source": [
    "do_step = countdown(10)"
   ]
  },
  {
   "cell_type": "code",
   "execution_count": 25,
   "metadata": {},
   "outputs": [
    {
     "data": {
      "text/plain": [
       "9"
      ]
     },
     "execution_count": 25,
     "metadata": {},
     "output_type": "execute_result"
    }
   ],
   "source": [
    "do_step()"
   ]
  },
  {
   "cell_type": "code",
   "execution_count": 26,
   "metadata": {},
   "outputs": [
    {
     "data": {
      "text/plain": [
       "8"
      ]
     },
     "execution_count": 26,
     "metadata": {},
     "output_type": "execute_result"
    }
   ],
   "source": [
    "do_step()"
   ]
  },
  {
   "cell_type": "code",
   "execution_count": 27,
   "metadata": {},
   "outputs": [
    {
     "data": {
      "text/plain": [
       "7"
      ]
     },
     "execution_count": 27,
     "metadata": {},
     "output_type": "execute_result"
    }
   ],
   "source": [
    "do_step()"
   ]
  },
  {
   "cell_type": "code",
   "execution_count": 65,
   "metadata": {},
   "outputs": [],
   "source": [
    "def decorator_count(func):\n",
    "    n = 0\n",
    "    def wrapper():\n",
    "        nonlocal n\n",
    "        func()\n",
    "        n=n+1\n",
    "        print(\"Число выполнение фнукции: \", n)\n",
    "        \n",
    "    return wrapper\n",
    "    \n",
    "        "
   ]
  },
  {
   "cell_type": "code",
   "execution_count": 66,
   "metadata": {},
   "outputs": [],
   "source": [
    "@decorator_count\n",
    "def hello_world():\n",
    "    print(\"Hello world\")"
   ]
  },
  {
   "cell_type": "code",
   "execution_count": 67,
   "metadata": {},
   "outputs": [
    {
     "data": {
      "text/plain": [
       "<function __main__.decorator_count.<locals>.wrapper()>"
      ]
     },
     "execution_count": 67,
     "metadata": {},
     "output_type": "execute_result"
    }
   ],
   "source": [
    "decorator_count(hello_world)"
   ]
  },
  {
   "cell_type": "code",
   "execution_count": 68,
   "metadata": {},
   "outputs": [
    {
     "name": "stdout",
     "output_type": "stream",
     "text": [
      "Hello world\n",
      "Число выполнение фнукции:  1\n"
     ]
    }
   ],
   "source": [
    "hello_world()"
   ]
  },
  {
   "cell_type": "code",
   "execution_count": 69,
   "metadata": {},
   "outputs": [
    {
     "name": "stdout",
     "output_type": "stream",
     "text": [
      "Hello world\n",
      "Число выполнение фнукции:  2\n"
     ]
    }
   ],
   "source": [
    "hello_world()"
   ]
  },
  {
   "cell_type": "code",
   "execution_count": 70,
   "metadata": {},
   "outputs": [
    {
     "name": "stdout",
     "output_type": "stream",
     "text": [
      "Hello world\n",
      "Число выполнение фнукции:  3\n"
     ]
    }
   ],
   "source": [
    "hello_world()"
   ]
  },
  {
   "cell_type": "code",
   "execution_count": 53,
   "metadata": {},
   "outputs": [
    {
     "data": {
      "text/plain": [
       "(<cell at 0x7ff33fb73f90: function object at 0x7ff33fac05f0>,\n",
       " <cell at 0x7ff33fb738d0: int object at 0x109d224d0>)"
      ]
     },
     "execution_count": 53,
     "metadata": {},
     "output_type": "execute_result"
    }
   ],
   "source": [
    "hello_world.__closure__"
   ]
  },
  {
   "cell_type": "code",
   "execution_count": 54,
   "metadata": {},
   "outputs": [
    {
     "data": {
      "text/plain": [
       "<function __main__.hello_world()>"
      ]
     },
     "execution_count": 54,
     "metadata": {},
     "output_type": "execute_result"
    }
   ],
   "source": [
    "hello_world.__closure__[0].cell_contents"
   ]
  },
  {
   "cell_type": "code",
   "execution_count": 55,
   "metadata": {},
   "outputs": [
    {
     "data": {
      "text/plain": [
       "3"
      ]
     },
     "execution_count": 55,
     "metadata": {},
     "output_type": "execute_result"
    }
   ],
   "source": [
    "hello_world.__closure__[1].cell_contents"
   ]
  },
  {
   "cell_type": "code",
   "execution_count": 1,
   "metadata": {},
   "outputs": [],
   "source": [
    "import dis\n",
    "def f():\n",
    "    return 1"
   ]
  },
  {
   "cell_type": "code",
   "execution_count": 74,
   "metadata": {},
   "outputs": [
    {
     "name": "stdout",
     "output_type": "stream",
     "text": [
      "  3           0 LOAD_CONST               1 (1)\n",
      "              2 RETURN_VALUE\n"
     ]
    }
   ],
   "source": [
    "dis.dis(f)"
   ]
  },
  {
   "cell_type": "code",
   "execution_count": 2,
   "metadata": {},
   "outputs": [
    {
     "data": {
      "text/plain": [
       "{'__name__': '__main__',\n",
       " '__doc__': 'Automatically created module for IPython interactive environment',\n",
       " '__package__': None,\n",
       " '__loader__': None,\n",
       " '__spec__': None,\n",
       " '__builtin__': <module 'builtins' (built-in)>,\n",
       " '__builtins__': <module 'builtins' (built-in)>,\n",
       " '_ih': ['', 'import dis\\ndef f():\\n    return 1', 'f.__globals__'],\n",
       " '_oh': {},\n",
       " '_dh': ['/Users/user/Учеба/Программирование/Занятия'],\n",
       " 'In': ['', 'import dis\\ndef f():\\n    return 1', 'f.__globals__'],\n",
       " 'Out': {},\n",
       " 'get_ipython': <bound method InteractiveShell.get_ipython of <ipykernel.zmqshell.ZMQInteractiveShell object at 0x7fc75ba39110>>,\n",
       " 'exit': <IPython.core.autocall.ZMQExitAutocall at 0x7fc760575fd0>,\n",
       " 'quit': <IPython.core.autocall.ZMQExitAutocall at 0x7fc760575fd0>,\n",
       " '_': '',\n",
       " '__': '',\n",
       " '___': '',\n",
       " '_i': 'import dis\\ndef f():\\n    return 1',\n",
       " '_ii': '',\n",
       " '_iii': '',\n",
       " '_i1': 'import dis\\ndef f():\\n    return 1',\n",
       " 'dis': <module 'dis' from '/Users/user/opt/anaconda3/lib/python3.7/dis.py'>,\n",
       " 'f': <function __main__.f()>,\n",
       " '_i2': 'f.__globals__'}"
      ]
     },
     "execution_count": 2,
     "metadata": {},
     "output_type": "execute_result"
    }
   ],
   "source": [
    "f.__globals__"
   ]
  },
  {
   "cell_type": "code",
   "execution_count": null,
   "metadata": {},
   "outputs": [],
   "source": []
  },
  {
   "cell_type": "markdown",
   "metadata": {},
   "source": [
    "#  Декораторы"
   ]
  },
  {
   "cell_type": "markdown",
   "metadata": {},
   "source": [
    "## Книга"
   ]
  },
  {
   "cell_type": "markdown",
   "metadata": {},
   "source": [
    "### Декоратор без параметров"
   ]
  },
  {
   "cell_type": "code",
   "execution_count": 30,
   "metadata": {},
   "outputs": [],
   "source": [
    "enable_tracing = True\n",
    "\n",
    "if enable_tracing:\n",
    "    debug_log = open(\"debug.log\",\"w\")\n",
    "\n",
    "def trace(func):\n",
    "    if enable_tracing:\n",
    "        def callf(*args,**kwargs): \n",
    "            debug_log.write(\"Вызов %s: %s, %s\\n\" % (func.__name__, args, kwargs)) \n",
    "            print(\"Вызов c параметрами\", (func.__name__, args, kwargs))\n",
    "            r = func(*args,**kwargs)\n",
    "            debug_log.write(\"%s вернула %s\\n\" % (func.__name__, r))\n",
    "            print(\"Функция вернула\", (func.__name__, args, kwargs))\n",
    "            return r\n",
    "        return callf\n",
    "    else:\n",
    "        return func"
   ]
  },
  {
   "cell_type": "code",
   "execution_count": 31,
   "metadata": {},
   "outputs": [],
   "source": [
    "@trace\n",
    "def square(x):\n",
    "    return x*x"
   ]
  },
  {
   "cell_type": "markdown",
   "metadata": {},
   "source": [
    "Однако сразу же вслед за объявлением объект функции передается функции trace(), а возвращае- мый ею объект замещает оригинальный объект square."
   ]
  },
  {
   "cell_type": "code",
   "execution_count": 32,
   "metadata": {},
   "outputs": [
    {
     "name": "stdout",
     "output_type": "stream",
     "text": [
      "Вызов c параметрами ('square', (5,), {})\n",
      "Функция вернула ('square', (5,), {})\n"
     ]
    },
    {
     "data": {
      "text/plain": [
       "25"
      ]
     },
     "execution_count": 32,
     "metadata": {},
     "output_type": "execute_result"
    }
   ],
   "source": [
    "square(5)"
   ]
  },
  {
   "cell_type": "code",
   "execution_count": 33,
   "metadata": {},
   "outputs": [
    {
     "data": {
      "text/plain": [
       "<function __main__.trace.<locals>.callf(*args, **kwargs)>"
      ]
     },
     "execution_count": 33,
     "metadata": {},
     "output_type": "execute_result"
    }
   ],
   "source": [
    "square"
   ]
  },
  {
   "cell_type": "markdown",
   "metadata": {},
   "source": [
    "### Декоратор с параметрами"
   ]
  },
  {
   "cell_type": "code",
   "execution_count": 39,
   "metadata": {},
   "outputs": [],
   "source": [
    "# Декоратор обработчика события event_handlers = { }\n",
    "event_handlers = { }\n",
    "\n",
    "def eventhandler(event):\n",
    "    def register_function(f): \n",
    "        event_handlers[event] = f \n",
    "        return f\n",
    "    return register_function"
   ]
  },
  {
   "cell_type": "code",
   "execution_count": 40,
   "metadata": {},
   "outputs": [],
   "source": [
    "@eventhandler(\"BUTTON\") \n",
    "def handle_button(msg):\n",
    "    print(\"Massage\", msg)"
   ]
  },
  {
   "cell_type": "code",
   "execution_count": 41,
   "metadata": {},
   "outputs": [
    {
     "name": "stdout",
     "output_type": "stream",
     "text": [
      "Massage Привет\n"
     ]
    }
   ],
   "source": [
    "handle_button(\"Привет\")"
   ]
  },
  {
   "cell_type": "code",
   "execution_count": 42,
   "metadata": {},
   "outputs": [
    {
     "data": {
      "text/plain": [
       "{'BUTTON': <function __main__.handle_button(msg)>}"
      ]
     },
     "execution_count": 42,
     "metadata": {},
     "output_type": "execute_result"
    }
   ],
   "source": []
  },
  {
   "cell_type": "code",
   "execution_count": null,
   "metadata": {},
   "outputs": [],
   "source": []
  },
  {
   "cell_type": "code",
   "execution_count": 43,
   "metadata": {},
   "outputs": [],
   "source": [
    "# Мой декоратор с параметрами\n",
    "\n",
    "# enable_tracing = True\n",
    "\n",
    "# if enable_tracing:\n",
    "#     debug_log = open(\"debug.log\",\"w\")\n",
    "\n",
    "def trace(func, enable_tracing = True):\n",
    "    if enable_tracing:\n",
    "        debug_log = open(\"debug.log\",\"w\")\n",
    "        def callf(*args,**kwargs): \n",
    "            debug_log.write(\"Вызов %s: %s, %s\\n\" % (func.__name__, args, kwargs)) \n",
    "            print(\"Вызов c параметрами\", (func.__name__, args, kwargs))\n",
    "            r = func(*args,**kwargs)\n",
    "            debug_log.write(\"%s вернула %s\\n\" % (func.__name__, r))\n",
    "            print(\"Функция вернула\", (func.__name__, args, kwargs))\n",
    "            return r\n",
    "        return callf\n",
    "    else:\n",
    "        return func"
   ]
  },
  {
   "cell_type": "code",
   "execution_count": 46,
   "metadata": {},
   "outputs": [
    {
     "ename": "TypeError",
     "evalue": "trace() missing 1 required positional argument: 'func'",
     "output_type": "error",
     "traceback": [
      "\u001b[0;31m---------------------------------------------------------------------------\u001b[0m",
      "\u001b[0;31mTypeError\u001b[0m                                 Traceback (most recent call last)",
      "\u001b[0;32m<ipython-input-46-0dad2b7f234d>\u001b[0m in \u001b[0;36m<module>\u001b[0;34m\u001b[0m\n\u001b[0;32m----> 1\u001b[0;31m \u001b[0;34m@\u001b[0m\u001b[0mtrace\u001b[0m\u001b[0;34m(\u001b[0m\u001b[0menable_tracing\u001b[0m \u001b[0;34m=\u001b[0m \u001b[0;32mTrue\u001b[0m\u001b[0;34m)\u001b[0m\u001b[0;34m\u001b[0m\u001b[0;34m\u001b[0m\u001b[0m\n\u001b[0m\u001b[1;32m      2\u001b[0m \u001b[0;32mdef\u001b[0m \u001b[0msquare\u001b[0m\u001b[0;34m(\u001b[0m\u001b[0mx\u001b[0m\u001b[0;34m)\u001b[0m\u001b[0;34m:\u001b[0m\u001b[0;34m\u001b[0m\u001b[0;34m\u001b[0m\u001b[0m\n\u001b[1;32m      3\u001b[0m     \u001b[0;32mreturn\u001b[0m \u001b[0mx\u001b[0m\u001b[0;34m*\u001b[0m\u001b[0mx\u001b[0m\u001b[0;34m\u001b[0m\u001b[0;34m\u001b[0m\u001b[0m\n",
      "\u001b[0;31mTypeError\u001b[0m: trace() missing 1 required positional argument: 'func'"
     ]
    }
   ],
   "source": [
    "@trace(enable_tracing = True)\n",
    "def square(x):\n",
    "    return x*x"
   ]
  },
  {
   "cell_type": "code",
   "execution_count": 47,
   "metadata": {},
   "outputs": [
    {
     "data": {
      "text/plain": [
       "9"
      ]
     },
     "execution_count": 47,
     "metadata": {},
     "output_type": "execute_result"
    }
   ],
   "source": [
    "square(3)"
   ]
  },
  {
   "cell_type": "code",
   "execution_count": null,
   "metadata": {},
   "outputs": [],
   "source": [
    "def decorator_3(func):\n",
    "    def wrapper():\n",
    "        print(\"До функции\")\n",
    "\n",
    "        func()\n",
    "\n",
    "        print(\"После функции\")\n",
    "    \n",
    "    return wrapper"
   ]
  },
  {
   "cell_type": "code",
   "execution_count": null,
   "metadata": {},
   "outputs": [],
   "source": [
    "@decorator_3\n",
    "def hello(name):\n",
    "    print()\n",
    "    return"
   ]
  },
  {
   "cell_type": "code",
   "execution_count": null,
   "metadata": {},
   "outputs": [],
   "source": [
    "Не очень понятно, когда мы декарируем функцию с параметрами, как wrapper узнает об этих параметрах. \n",
    "\n",
    "Как понимаю, при передачи hello_world(\"name\") создается ссылка hello_world на инструкцию выполнения функции: в этой иснтрукции уже есть все эти переменные. Но тогда не понятно, почему wrapper не может видеть second_name"
   ]
  },
  {
   "cell_type": "markdown",
   "metadata": {},
   "source": [
    "## Лекции Лебедева на youtube"
   ]
  },
  {
   "cell_type": "code",
   "execution_count": 107,
   "metadata": {},
   "outputs": [],
   "source": [
    "#https://www.youtube.com/watch?v=h_B3O5jWMi4"
   ]
  },
  {
   "cell_type": "markdown",
   "metadata": {},
   "source": [
    "### Декораторы без параметров"
   ]
  },
  {
   "cell_type": "markdown",
   "metadata": {},
   "source": [
    "### Example 1"
   ]
  },
  {
   "cell_type": "code",
   "execution_count": 250,
   "metadata": {},
   "outputs": [],
   "source": [
    "import functools\n",
    "from functools import wraps\n"
   ]
  },
  {
   "cell_type": "code",
   "execution_count": 191,
   "metadata": {},
   "outputs": [],
   "source": [
    "def trace(func):\n",
    "    @wraps(func)\n",
    "    def inner(*args, **kwargs):\n",
    "        print(\"Function name and params\", func.__name__, args, kwargs)\n",
    "        return func(*args, **kwargs)\n",
    "    return inner"
   ]
  },
  {
   "cell_type": "code",
   "execution_count": 192,
   "metadata": {},
   "outputs": [],
   "source": [
    "@trace\n",
    "def identity(x):\n",
    "    \"\"\"\"I don't do nothing\"\n",
    "        \n",
    "        Play with decorators\n",
    "    \"\"\"\n",
    "    print(\"I don't do nothing\")\n",
    "    return x"
   ]
  },
  {
   "cell_type": "code",
   "execution_count": 193,
   "metadata": {},
   "outputs": [
    {
     "name": "stdout",
     "output_type": "stream",
     "text": [
      "Function name and params identity (42,) {}\n",
      "I don't do nothing\n"
     ]
    },
    {
     "data": {
      "text/plain": [
       "42"
      ]
     },
     "execution_count": 193,
     "metadata": {},
     "output_type": "execute_result"
    }
   ],
   "source": [
    "identity(42)"
   ]
  },
  {
   "cell_type": "code",
   "execution_count": 194,
   "metadata": {},
   "outputs": [
    {
     "name": "stdout",
     "output_type": "stream",
     "text": [
      "Help on function identity in module __main__:\n",
      "\n",
      "identity(x)\n",
      "    \"I don't do nothing\"\n",
      "    \n",
      "    Play with decorators\n",
      "\n",
      "identity module __main__\n",
      "identity name identity\n",
      "identity doc \"I don't do nothing\"\n",
      "        \n",
      "        Play with decorators\n",
      "    \n"
     ]
    }
   ],
   "source": [
    "# Module functools.wraps helps as understand additional information\n",
    "help(identity)\n",
    "print(\"identity module\", identity.__module__)\n",
    "print(\"identity name\", identity.__name__)\n",
    "print(\"identity doc\", identity.__doc__)"
   ]
  },
  {
   "cell_type": "markdown",
   "metadata": {},
   "source": [
    "### Example 2"
   ]
  },
  {
   "cell_type": "code",
   "execution_count": null,
   "metadata": {},
   "outputs": [],
   "source": [
    "# Try to enable/disable log information "
   ]
  },
  {
   "cell_type": "code",
   "execution_count": 206,
   "metadata": {},
   "outputs": [],
   "source": [
    "def trace(func):\n",
    "    trace_enable = False\n",
    "    \n",
    "    @wraps(func)\n",
    "    def inner(*args, **kwargs):\n",
    "        print(\"Function name and params\", func.__name__, args, kwargs)\n",
    "        return func(*args, **kwargs)\n",
    "    return inner if trace_enable else func\n",
    "        "
   ]
  },
  {
   "cell_type": "code",
   "execution_count": 207,
   "metadata": {},
   "outputs": [],
   "source": [
    "@trace\n",
    "def identity(x):\n",
    "    \"\"\"\"I don't do nothing\"\n",
    "        \n",
    "        Play with decorators\n",
    "    \"\"\"\n",
    "    print(\"I don't do nothing\")\n",
    "    return x"
   ]
  },
  {
   "cell_type": "code",
   "execution_count": 208,
   "metadata": {},
   "outputs": [
    {
     "name": "stdout",
     "output_type": "stream",
     "text": [
      "I don't do nothing\n"
     ]
    },
    {
     "data": {
      "text/plain": [
       "42"
      ]
     },
     "execution_count": 208,
     "metadata": {},
     "output_type": "execute_result"
    }
   ],
   "source": [
    "identity(42)"
   ]
  },
  {
   "cell_type": "markdown",
   "metadata": {},
   "source": [
    "### Decorators with arguments"
   ]
  },
  {
   "cell_type": "code",
   "execution_count": null,
   "metadata": {},
   "outputs": [],
   "source": [
    "# deco = trace(sys.stderr)\n",
    "# identity = deco(identity)\n",
    "\n",
    "# identity = trace(sys.stderr)(identity)"
   ]
  },
  {
   "cell_type": "code",
   "execution_count": 239,
   "metadata": {},
   "outputs": [],
   "source": [
    "def trace(trace_enable):\n",
    "    def decorator(func):\n",
    "        @wraps(func)\n",
    "        def inner(*args, **kwargs):\n",
    "            print(\"Function name and params\", func.__name__, \n",
    "                                               args, kwargs, \n",
    "                                               trace_enable)\n",
    "            return func(*args, **kwargs)\n",
    "        return inner if trace_enable else func\n",
    "    return decorator"
   ]
  },
  {
   "cell_type": "code",
   "execution_count": 240,
   "metadata": {},
   "outputs": [],
   "source": [
    "@trace(trace_enable=False)\n",
    "def identity(x):\n",
    "    \"\"\"\"I don't do nothing\"\n",
    "        \n",
    "        Play with decorators\n",
    "    \"\"\"\n",
    "    print(\"I don't do nothing\")\n",
    "    return x"
   ]
  },
  {
   "cell_type": "code",
   "execution_count": 236,
   "metadata": {},
   "outputs": [
    {
     "name": "stdout",
     "output_type": "stream",
     "text": [
      "I don't do nothing\n"
     ]
    },
    {
     "data": {
      "text/plain": [
       "42"
      ]
     },
     "execution_count": 236,
     "metadata": {},
     "output_type": "execute_result"
    }
   ],
   "source": [
    "identity(42)"
   ]
  },
  {
   "cell_type": "code",
   "execution_count": null,
   "metadata": {},
   "outputs": [],
   "source": [
    "# Next level: decorator for decorators"
   ]
  },
  {
   "cell_type": "code",
   "execution_count": null,
   "metadata": {},
   "outputs": [],
   "source": [
    "# deco = trace(sys.stderr)\n",
    "# identity = deco(identity)"
   ]
  },
  {
   "cell_type": "code",
   "execution_count": 254,
   "metadata": {},
   "outputs": [],
   "source": [
    "#https://youtu.be/h_B3O5jWMi4?list=RDCMUC0YHNueF-3Nh3uQT0P4YQZw&t=1492\n",
    "    \n",
    "def with_arguments(deco):\n",
    "    @wraps(deco)\n",
    "    def wrapper(*dargs, **dkwargs):\n",
    "        def decorator(func):\n",
    "            result = deco(func, *dargs, **dkwargs)\n",
    "            functools.update_wrapper(result, func)\n",
    "            return result\n",
    "        return decorator\n",
    "    return wrapper"
   ]
  },
  {
   "cell_type": "code",
   "execution_count": 255,
   "metadata": {},
   "outputs": [],
   "source": [
    "@with_arguments\n",
    "def trace(func, trace_enable):    \n",
    "    @wraps(func)\n",
    "    def inner(*args, **kwargs):\n",
    "        print(\"Function name and params\", func.__name__, args, kwargs)\n",
    "        return func(*args, **kwargs)\n",
    "    return inner if trace_enable else func\n",
    "        "
   ]
  },
  {
   "cell_type": "code",
   "execution_count": 258,
   "metadata": {},
   "outputs": [],
   "source": [
    "@trace(trace_enable=True)\n",
    "def identity(x):\n",
    "    \"\"\"\"I don't do nothing\"\n",
    "        \n",
    "        Play with decorators\n",
    "    \"\"\"\n",
    "    print(\"I don't do nothing\")\n",
    "    return x"
   ]
  },
  {
   "cell_type": "code",
   "execution_count": 259,
   "metadata": {},
   "outputs": [
    {
     "name": "stdout",
     "output_type": "stream",
     "text": [
      "Function name and params identity (42,) {}\n",
      "I don't do nothing\n"
     ]
    },
    {
     "data": {
      "text/plain": [
       "42"
      ]
     },
     "execution_count": 259,
     "metadata": {},
     "output_type": "execute_result"
    }
   ],
   "source": [
    "identity(42)"
   ]
  },
  {
   "cell_type": "code",
   "execution_count": null,
   "metadata": {},
   "outputs": [],
   "source": [
    "# !!!!!!! More easy way ti write decorator with arguments"
   ]
  },
  {
   "cell_type": "code",
   "execution_count": 291,
   "metadata": {},
   "outputs": [],
   "source": [
    "def trace(func=None, * , trace_enable = False):\n",
    "    if func is None:\n",
    "        return lambda func: trace(func, trace_enable=trace_enable)\n",
    "    \n",
    "    @wraps(func)\n",
    "    def inner(*args, **kwargs):\n",
    "        print(\"Function name and params\", func.__name__, args, kwargs)\n",
    "        return func(*args, **kwargs)\n",
    "    return inner"
   ]
  },
  {
   "cell_type": "code",
   "execution_count": 294,
   "metadata": {},
   "outputs": [],
   "source": [
    "@trace(trace_enable=True)\n",
    "def identity(x):\n",
    "    \"\"\"\"I don't do nothing\"\n",
    "        \n",
    "        Play with decorators\n",
    "    \"\"\"\n",
    "    print(\"I don't do nothing\")\n",
    "    return x"
   ]
  },
  {
   "cell_type": "code",
   "execution_count": 295,
   "metadata": {},
   "outputs": [
    {
     "name": "stdout",
     "output_type": "stream",
     "text": [
      "Function name and params identity (42,) {}\n",
      "I don't do nothing\n"
     ]
    },
    {
     "data": {
      "text/plain": [
       "42"
      ]
     },
     "execution_count": 295,
     "metadata": {},
     "output_type": "execute_result"
    }
   ],
   "source": [
    "identity(42)"
   ]
  },
  {
   "cell_type": "code",
   "execution_count": 62,
   "metadata": {},
   "outputs": [
    {
     "name": "stdout",
     "output_type": "stream",
     "text": [
      "Enter addsome\n",
      "Enter square\n"
     ]
    }
   ],
   "source": [
    "def square(func):\n",
    "    print('Enter square')\n",
    "    def wrapper(x):\n",
    "        print('square input', x)\n",
    "        print('square func input', func.__name__)\n",
    "        res =  func(x** 2)\n",
    "        print('square res', res)\n",
    "        return res\n",
    "    wrapper.__name__ = 'square' + func.__name__\n",
    "    return wrapper\n",
    "\n",
    "\n",
    "def addsome(func):\n",
    "    print('Enter addsome')\n",
    "    def wrapper(x):\n",
    "        print('addsome input', x)\n",
    "        print('addsome func input', func.__name__)\n",
    "        res =  func(x + 42)\n",
    "        print('addsome res', res)\n",
    "        return res\n",
    "    wrapper.__name__ = 'addsome' + func.__name__\n",
    "    return wrapper\n",
    "\n",
    "@square\n",
    "@addsome\n",
    "def identity(x):\n",
    "    print('identity input', x)\n",
    "    print(\"I don't do nothing\")\n",
    "    return x"
   ]
  },
  {
   "cell_type": "code",
   "execution_count": 63,
   "metadata": {},
   "outputs": [
    {
     "name": "stdout",
     "output_type": "stream",
     "text": [
      "square input 2\n",
      "square func input addsomeidentity\n",
      "addsome input 4\n",
      "addsome func input identity\n",
      "identity input 46\n",
      "I don't do nothing\n",
      "addsome res 46\n",
      "square res 46\n"
     ]
    },
    {
     "data": {
      "text/plain": [
       "46"
      ]
     },
     "execution_count": 63,
     "metadata": {},
     "output_type": "execute_result"
    }
   ],
   "source": [
    "identity(2)"
   ]
  },
  {
   "cell_type": "code",
   "execution_count": null,
   "metadata": {},
   "outputs": [],
   "source": [
    "# Так расшифровывается\n",
    "addsome(identity)(x**2)\n",
    "identity(x**2 + 42)"
   ]
  },
  {
   "cell_type": "code",
   "execution_count": null,
   "metadata": {},
   "outputs": [],
   "source": []
  },
  {
   "cell_type": "code",
   "execution_count": null,
   "metadata": {},
   "outputs": [],
   "source": []
  },
  {
   "cell_type": "code",
   "execution_count": null,
   "metadata": {},
   "outputs": [],
   "source": [
    "identity = square(addsome(identity))"
   ]
  },
  {
   "cell_type": "code",
   "execution_count": 45,
   "metadata": {},
   "outputs": [
    {
     "name": "stdout",
     "output_type": "stream",
     "text": [
      "Enter addsome\n",
      "Enter square\n"
     ]
    }
   ],
   "source": [
    "identity = square(addsome(identity))"
   ]
  },
  {
   "cell_type": "code",
   "execution_count": null,
   "metadata": {},
   "outputs": [],
   "source": [
    "identity(2)"
   ]
  },
  {
   "cell_type": "code",
   "execution_count": 47,
   "metadata": {},
   "outputs": [
    {
     "data": {
      "text/plain": [
       "0.8775825618903728"
      ]
     },
     "execution_count": 47,
     "metadata": {},
     "output_type": "execute_result"
    }
   ],
   "source": [
    "from math import sin, cos, pi\n",
    "cos(sin(pi / 6))"
   ]
  },
  {
   "cell_type": "code",
   "execution_count": null,
   "metadata": {},
   "outputs": [],
   "source": []
  },
  {
   "cell_type": "code",
   "execution_count": null,
   "metadata": {},
   "outputs": [],
   "source": []
  },
  {
   "cell_type": "markdown",
   "metadata": {},
   "source": [
    "# Декораторы, разбор статьи с Pythonru.com"
   ]
  },
  {
   "cell_type": "code",
   "execution_count": 129,
   "metadata": {},
   "outputs": [],
   "source": [
    "#https://pythonru.com/osnovy/rukovodstvo-po-dekoratoram-python"
   ]
  },
  {
   "cell_type": "markdown",
   "metadata": {},
   "source": [
    "## Декоратор без аргументов\n",
    "### Функция без аргументов"
   ]
  },
  {
   "cell_type": "code",
   "execution_count": 297,
   "metadata": {},
   "outputs": [
    {
     "name": "stdout",
     "output_type": "stream",
     "text": [
      "декоратор\n",
      "- старт программы...\n",
      "-- до функции wrapped\n",
      "--- обернутая функция\n",
      "-- после функции wrapped\n",
      "- конец программы\n"
     ]
    }
   ],
   "source": [
    "\n",
    "def decorator(func):\n",
    "    '''Основная функция'''\n",
    "    print('декоратор')\n",
    "    def wrapper():\n",
    "        print('-- до функции', func.__name__)\n",
    "        func()\n",
    "        print('-- после функции', func.__name__)\n",
    "    return wrapper\n",
    "\n",
    "@decorator\n",
    "def wrapped():\n",
    "    print('--- обернутая функция')\n",
    "\n",
    "print('- старт программы...')\n",
    "wrapped()\n",
    "print('- конец программы')"
   ]
  },
  {
   "cell_type": "code",
   "execution_count": 301,
   "metadata": {},
   "outputs": [
    {
     "name": "stdout",
     "output_type": "stream",
     "text": [
      "декоратор 2\n",
      "декоратор 1\n",
      "декоратор 1\n",
      ">> старт\n",
      "перед функцией декоратор 1\n",
      "перед функцией декоратор 2\n",
      "basic_1\n",
      "после функцией декоратор 2\n",
      "после функцией декоратор 1\n",
      "перед функцией декоратор 1\n",
      "basic_2\n",
      "после функцией декоратор 1\n",
      ">> конец\n"
     ]
    }
   ],
   "source": [
    "def decorator_1(func):\n",
    "    print('декоратор 1')\n",
    "    def wrapper():\n",
    "        print('перед функцией декоратор 1')\n",
    "        func()\n",
    "        print('после функцией декоратор 1')\n",
    "    return wrapper\n",
    "\n",
    "def decorator_2(func):\n",
    "    print('декоратор 2')\n",
    "    def wrapper():\n",
    "        print('перед функцией декоратор 2')\n",
    "        func()\n",
    "        print('после функцией декоратор 2')\n",
    "    return wrapper\n",
    "\n",
    "@decorator_1\n",
    "@decorator_2\n",
    "def basic_1():\n",
    "    print('basic_1')\n",
    "\n",
    "@decorator_1\n",
    "def basic_2():\n",
    "    print('basic_2')\n",
    "\n",
    "print('>> старт')\n",
    "basic_1()\n",
    "basic_2()\n",
    "print('>> конец')"
   ]
  },
  {
   "cell_type": "code",
   "execution_count": null,
   "metadata": {},
   "outputs": [],
   "source": [
    "class Decorator:\n",
    "    def __init__(self, func):\n",
    "        print('> Класс Decorator метод __init__')\n",
    "        self.func = func\n",
    "\n",
    "    def __call__(self):\n",
    "        print('> перед вызовом класса...', self.func.__name__)\n",
    "        self.func()\n",
    "        print('> после вызова класса')\n",
    "\n",
    "@Decorator\n",
    "def wrapped():\n",
    "    print('функция wrapped')\n",
    "\n",
    "print('>> старт')\n",
    "wrapped()\n",
    "print('>> конец')"
   ]
  },
  {
   "cell_type": "code",
   "execution_count": 303,
   "metadata": {},
   "outputs": [
    {
     "name": "stdout",
     "output_type": "stream",
     "text": [
      "Class Decorator method __init__\n",
      "Before call class\n",
      "функция wrapped\n",
      "After call class\n"
     ]
    }
   ],
   "source": [
    "class Decorator:\n",
    "    def __init__(self,func):\n",
    "        print(\"Class Decorator method __init__\")\n",
    "        self.func = func\n",
    "        \n",
    "    def __call__(self):\n",
    "        print(\"Before call class\")\n",
    "        self.func()\n",
    "        print(\"After call class\")\n",
    "\n",
    "@Decorator\n",
    "def wrapped():\n",
    "    print('функция wrapped')\n",
    "    \n",
    "wrapped()   "
   ]
  },
  {
   "cell_type": "markdown",
   "metadata": {},
   "source": [
    "### Функция с аргументами"
   ]
  },
  {
   "cell_type": "code",
   "execution_count": 302,
   "metadata": {},
   "outputs": [
    {
     "name": "stdout",
     "output_type": "stream",
     "text": [
      "> декоратор с аргументами...\n",
      "> декоратор с аргументами...\n",
      ">> старт\n",
      "до вызова функции add\n",
      "функция 1\n",
      "после вызова функции add\n",
      "r: 15\n",
      "до вызова функции sub\n",
      "функция 2\n",
      "после вызова функции sub\n",
      "g: 5\n",
      ">> конец\n"
     ]
    }
   ],
   "source": [
    "\n",
    "def decorator_with_args(func):\n",
    "    print('> декоратор с аргументами...')\n",
    "    def decorated(a, b):\n",
    "        print('до вызова функции', func.__name__)\n",
    "        ret = func(a, b)\n",
    "        print('после вызова функции', func.__name__)\n",
    "        return ret\n",
    "    return decorated\n",
    "\n",
    "@decorator_with_args\n",
    "def add(a, b):\n",
    "    print('функция 1')\n",
    "    return a + b\n",
    "\n",
    "@decorator_with_args\n",
    "def sub(a, b):\n",
    "    print('функция 2')\n",
    "    return a - b\n",
    "\n",
    "print('>> старт')\n",
    "r = add(10, 5)\n",
    "print('r:', r)\n",
    "g = sub(10, 5)\n",
    "print('g:', g)\n",
    "print('>> конец')"
   ]
  },
  {
   "cell_type": "code",
   "execution_count": null,
   "metadata": {},
   "outputs": [],
   "source": [
    "class Decorator:\n",
    "    def __init__(self, func):\n",
    "        print('> Класс Decorator метод __init__')\n",
    "        self.func = func\n",
    "\n",
    "    def __call__(self, a, b):\n",
    "        print('> до вызова из класса...', self.func.__name__)\n",
    "        self.func(a, b)\n",
    "        print('> после вызова из класса')\n",
    "\n",
    "@Decorator\n",
    "def wrapped(a, b):\n",
    "    print('функция wrapped:', a, b)\n",
    "\n",
    "print('>> старт')\n",
    "wrapped(10, 20)\n",
    "print('>> конец')"
   ]
  },
  {
   "cell_type": "markdown",
   "metadata": {},
   "source": [
    "### Декораторы с аргументами"
   ]
  },
  {
   "cell_type": "code",
   "execution_count": 304,
   "metadata": {},
   "outputs": [
    {
     "name": "stdout",
     "output_type": "stream",
     "text": [
      "> decorator_with_args: test\n",
      ">> сам декоратор add\n",
      "старт программы\n",
      ">>> перед функцие add\n",
      ">>>> функция add\n",
      ">>> после функции add\n",
      "20\n",
      "конец программы\n"
     ]
    }
   ],
   "source": [
    "def decorator_with_args(name):\n",
    "    print('> decorator_with_args:', name)\n",
    "    def real_decorator(func):\n",
    "        print('>> сам декоратор', func.__name__)\n",
    "        def decorated(*args, **kwargs):\n",
    "            print('>>> перед функцие', func.__name__)\n",
    "            ret = func(*args, **kwargs)\n",
    "            print('>>> после функции', func.__name__)\n",
    "            return ret\n",
    "        return decorated\n",
    "    return real_decorator\n",
    "\n",
    "@decorator_with_args('test')\n",
    "def add(a, b):\n",
    "    print('>>>> функция add')\n",
    "    return a + b\n",
    "\n",
    "print('старт программы')\n",
    "r = add(10, 10)\n",
    "print(r)\n",
    "print('конец программы')"
   ]
  },
  {
   "cell_type": "code",
   "execution_count": null,
   "metadata": {},
   "outputs": [],
   "source": []
  },
  {
   "cell_type": "code",
   "execution_count": 305,
   "metadata": {},
   "outputs": [
    {
     "name": "stdout",
     "output_type": "stream",
     "text": [
      "> Декоратор с аргументами __init__: teste\n",
      ">> старт\n",
      ">>> до обернутой функции\n",
      "функция add: 10 20\n",
      ">>> после обернутой функции\n",
      ">> конец\n"
     ]
    }
   ],
   "source": [
    "class DecoratorArgs:\n",
    "    def __init__(self, name):\n",
    "        print('> Декоратор с аргументами __init__:', name)\n",
    "        self.name = name\n",
    "\n",
    "    def __call__(self, func):\n",
    "        def wrapper(a, b):\n",
    "            print('>>> до обернутой функции')\n",
    "            func(a, b)\n",
    "            print('>>> после обернутой функции')\n",
    "        return wrapper\n",
    "\n",
    "@DecoratorArgs(\"teste\")\n",
    "def add(a, b):\n",
    "    print('функция add:', a, b)\n",
    "\n",
    "print('>> старт')\n",
    "add(10, 20)\n",
    "print('>> конец')"
   ]
  },
  {
   "cell_type": "markdown",
   "metadata": {},
   "source": [
    "## Декоратор для класса"
   ]
  },
  {
   "cell_type": "code",
   "execution_count": null,
   "metadata": {},
   "outputs": [],
   "source": [
    "#https://tirinox.ru/class-decorator/"
   ]
  },
  {
   "cell_type": "code",
   "execution_count": 307,
   "metadata": {},
   "outputs": [
    {
     "name": "stdout",
     "output_type": "stream",
     "text": [
      "метод a начался\n",
      "метод a кончился\n",
      "a выполнялся 671.15 ms\n"
     ]
    }
   ],
   "source": [
    "import time\n",
    "\n",
    "# это вспомогательный декоратор будет декорировать каждый метод класса, см. ниже\n",
    "def timeit(method):\n",
    "    def timed(*args, **kw):\n",
    "        ts = time.time()\n",
    "        result = method(*args, **kw)\n",
    "        te = time.time()\n",
    "        delta = (te - ts) * 1000\n",
    "        print(f'{method.__name__} выполнялся {delta:2.2f} ms')\n",
    "        return result\n",
    "    return timed\n",
    "\n",
    "\n",
    "def timeit_all_methods(cls):\n",
    "    class NewCls:\n",
    "        def __init__(self, *args, **kwargs):\n",
    "            # проксируем полностью создание класса\n",
    "            # как создали этот NewCls, также создадим и декорируемый класс\n",
    "            self._obj = cls(*args, **kwargs)\n",
    "\n",
    "        def __getattribute__(self, s):\n",
    "            try:\n",
    "                # папа, у меня есть атрибут s?\n",
    "                x = super().__getattribute__(s)\n",
    "            except AttributeError:\n",
    "                # нет сынок, это не твой атрибут\n",
    "                pass\n",
    "            else:\n",
    "                # да сынок, это твое\n",
    "                return x\n",
    "\n",
    "            # объект, значит у тебя должен быть атрибут s\n",
    "            attr = self._obj.__getattribute__(s)\n",
    "\n",
    "            # метод ли он?\n",
    "            if isinstance(attr, type(self.__init__)):\n",
    "                # да, обернуть его в измеритель времени\n",
    "                return timeit(attr)\n",
    "            else:\n",
    "                # не метод, что-то другое\n",
    "                return attr\n",
    "    return NewCls\n",
    "\n",
    "\n",
    "@timeit_all_methods\n",
    "class Foo:\n",
    "    def a(self):\n",
    "        print(\"метод a начался\")\n",
    "        time.sleep(0.666)\n",
    "        print(\"метод a кончился\")\n",
    "\n",
    "\n",
    "f = Foo()\n",
    "f.a()\n",
    "\n",
    "# метод a начался\n",
    "# метод a кончился\n",
    "# a 668.74 ms"
   ]
  },
  {
   "cell_type": "code",
   "execution_count": null,
   "metadata": {},
   "outputs": [],
   "source": []
  },
  {
   "cell_type": "code",
   "execution_count": null,
   "metadata": {},
   "outputs": [],
   "source": []
  },
  {
   "cell_type": "code",
   "execution_count": null,
   "metadata": {},
   "outputs": [],
   "source": []
  },
  {
   "cell_type": "code",
   "execution_count": null,
   "metadata": {},
   "outputs": [],
   "source": []
  },
  {
   "cell_type": "code",
   "execution_count": 133,
   "metadata": {},
   "outputs": [],
   "source": [
    "def hello_world(name):\n",
    "    count = 1\n",
    "    print(\"Name, count\", name, count)\n",
    "    \n",
    "    return hello_world"
   ]
  },
  {
   "cell_type": "code",
   "execution_count": 134,
   "metadata": {},
   "outputs": [
    {
     "name": "stdout",
     "output_type": "stream",
     "text": [
      "Name, count Ivan 1\n"
     ]
    },
    {
     "data": {
      "text/plain": [
       "<function __main__.hello_world(name)>"
      ]
     },
     "execution_count": 134,
     "metadata": {},
     "output_type": "execute_result"
    }
   ],
   "source": [
    "hello_world('Ivan')"
   ]
  },
  {
   "cell_type": "code",
   "execution_count": 136,
   "metadata": {},
   "outputs": [
    {
     "ename": "AttributeError",
     "evalue": "'function' object has no attribute 'count'",
     "output_type": "error",
     "traceback": [
      "\u001b[0;31m---------------------------------------------------------------------------\u001b[0m",
      "\u001b[0;31mAttributeError\u001b[0m                            Traceback (most recent call last)",
      "\u001b[0;32m<ipython-input-136-2bbce1d1479b>\u001b[0m in \u001b[0;36m<module>\u001b[0;34m\u001b[0m\n\u001b[0;32m----> 1\u001b[0;31m \u001b[0mhello_world\u001b[0m\u001b[0;34m.\u001b[0m\u001b[0mcount\u001b[0m\u001b[0;34m\u001b[0m\u001b[0;34m\u001b[0m\u001b[0m\n\u001b[0m",
      "\u001b[0;31mAttributeError\u001b[0m: 'function' object has no attribute 'count'"
     ]
    }
   ],
   "source": [
    "hello_world.count"
   ]
  },
  {
   "cell_type": "code",
   "execution_count": null,
   "metadata": {},
   "outputs": [],
   "source": [
    "##Вопросы"
   ]
  },
  {
   "cell_type": "code",
   "execution_count": null,
   "metadata": {},
   "outputs": [],
   "source": [
    "1. Что такое хешируемые объекты в Python , почему в словаре ключи должны быть хешируемые \n",
    "https://youtu.be/h_B3O5jWMi4?list=RDCMUC0YHNueF-3Nh3uQT0P4YQZw&t=2682\n",
    "    \n",
    "2. Атрибцты переменных у функции, есть разница с nonlocal (в примере ниже inner.called)\n",
    "https://youtu.be/h_B3O5jWMi4?list=RDCMUC0YHNueF-3Nh3uQT0P4YQZw&t=2299 \n",
    "    \n",
    "3."
   ]
  },
  {
   "cell_type": "code",
   "execution_count": null,
   "metadata": {},
   "outputs": [],
   "source": []
  },
  {
   "cell_type": "code",
   "execution_count": null,
   "metadata": {},
   "outputs": [],
   "source": []
  },
  {
   "cell_type": "code",
   "execution_count": null,
   "metadata": {},
   "outputs": [],
   "source": []
  },
  {
   "cell_type": "markdown",
   "metadata": {},
   "source": [
    "# Разобрать на Занятии"
   ]
  },
  {
   "cell_type": "code",
   "execution_count": null,
   "metadata": {},
   "outputs": [],
   "source": [
    "res = dec1(dec2(func))"
   ]
  },
  {
   "cell_type": "code",
   "execution_count": 1,
   "metadata": {},
   "outputs": [],
   "source": [
    "def decorator_3(func):\n",
    "#    print(\"Second name\", second_name)\n",
    "#    print(\"name: \", wrapper.name)\n",
    "    def wrapper(name):\n",
    "        print(\"До функции\")\n",
    "#        print(\"Second name\", second_name)\n",
    "        func(name)\n",
    "\n",
    "        print(\"После функции\")\n",
    "        return func(name)\n",
    "    return wrapper"
   ]
  },
  {
   "cell_type": "code",
   "execution_count": 2,
   "metadata": {},
   "outputs": [],
   "source": [
    "@decorator_3\n",
    "def hello_world(name):\n",
    "#    second_name = \"Petrov\"\n",
    "    print(\"Print Hello world \", name)\n",
    "    return name"
   ]
  },
  {
   "cell_type": "code",
   "execution_count": 3,
   "metadata": {},
   "outputs": [
    {
     "name": "stdout",
     "output_type": "stream",
     "text": [
      "До функции\n",
      "Print Hello world  Ivan\n",
      "После функции\n",
      "Print Hello world  Ivan\n",
      "a:  Ivan\n"
     ]
    }
   ],
   "source": [
    "a = hello_world(\"Ivan\")\n",
    "print(\"a: \", a)"
   ]
  },
  {
   "cell_type": "code",
   "execution_count": 4,
   "metadata": {},
   "outputs": [
    {
     "name": "stdout",
     "output_type": "stream",
     "text": [
      "До функции\n",
      "Print Hello world  Ivan\n",
      "После функции\n",
      "Print Hello world  Ivan\n",
      "b:  <function decorator_3.<locals>.wrapper at 0x7fbe68f225f0>\n"
     ]
    }
   ],
   "source": [
    "b =  decorator_3(hello_world(\"Ivan\"))\n",
    "print(\"b: \", b)"
   ]
  },
  {
   "cell_type": "code",
   "execution_count": 5,
   "metadata": {},
   "outputs": [
    {
     "name": "stdout",
     "output_type": "stream",
     "text": [
      "До функции\n",
      "До функции\n",
      "Print Hello world  Ivan\n",
      "После функции\n",
      "Print Hello world  Ivan\n",
      "После функции\n",
      "До функции\n",
      "Print Hello world  Ivan\n",
      "После функции\n",
      "Print Hello world  Ivan\n",
      "c:  Ivan\n"
     ]
    }
   ],
   "source": [
    "c =  decorator_3(hello_world)(\"Ivan\")\n",
    "print(\"c: \", c)"
   ]
  },
  {
   "cell_type": "code",
   "execution_count": 6,
   "metadata": {},
   "outputs": [
    {
     "name": "stdout",
     "output_type": "stream",
     "text": [
      "b:  <function decorator_3.<locals>.wrapper at 0x7fbe68f22e60>\n"
     ]
    }
   ],
   "source": [
    "d =  decorator_3(hello_world)\n",
    "print(\"d: \", d)"
   ]
  },
  {
   "cell_type": "markdown",
   "metadata": {},
   "source": [
    "# Генераторы и инструкция yield"
   ]
  },
  {
   "cell_type": "code",
   "execution_count": 8,
   "metadata": {},
   "outputs": [
    {
     "name": "stdout",
     "output_type": "stream",
     "text": [
      "[15, 20, 27, 10, 29]\n"
     ]
    }
   ],
   "source": [
    "import random\n",
    "# #Generate 5 random numbers between 10 and 30\n",
    "# randomlist = random.sample(range(10, 30), 5)\n",
    "# print(randomlist)"
   ]
  },
  {
   "cell_type": "code",
   "execution_count": 35,
   "metadata": {},
   "outputs": [],
   "source": [
    "def g(n=5):\n",
    "    while n>0:\n",
    "        yield random.sample(range(10, 30), 5)\n",
    "        n-=1"
   ]
  },
  {
   "cell_type": "code",
   "execution_count": 36,
   "metadata": {},
   "outputs": [],
   "source": [
    "gen = g(5)"
   ]
  },
  {
   "cell_type": "code",
   "execution_count": 37,
   "metadata": {},
   "outputs": [
    {
     "data": {
      "text/plain": [
       "[16, 14, 26, 17, 28]"
      ]
     },
     "execution_count": 37,
     "metadata": {},
     "output_type": "execute_result"
    }
   ],
   "source": [
    "next(gen)"
   ]
  },
  {
   "cell_type": "code",
   "execution_count": 38,
   "metadata": {},
   "outputs": [
    {
     "data": {
      "text/plain": [
       "[26, 17, 20, 23, 11]"
      ]
     },
     "execution_count": 38,
     "metadata": {},
     "output_type": "execute_result"
    }
   ],
   "source": [
    "next(gen)"
   ]
  },
  {
   "cell_type": "code",
   "execution_count": 22,
   "metadata": {},
   "outputs": [],
   "source": [
    "def countdown(n):\n",
    "    print(\"Обратный отсчет, начиная с %d\", n) \n",
    "    while n > 0:\n",
    "        yield n\n",
    "        n -= 1 \n",
    "    return"
   ]
  },
  {
   "cell_type": "code",
   "execution_count": 39,
   "metadata": {},
   "outputs": [],
   "source": [
    "c = countdown(5)"
   ]
  },
  {
   "cell_type": "code",
   "execution_count": 42,
   "metadata": {},
   "outputs": [
    {
     "name": "stdout",
     "output_type": "stream",
     "text": [
      "Обратный отсчет, начиная с %d 5\n"
     ]
    },
    {
     "data": {
      "text/plain": [
       "5"
      ]
     },
     "execution_count": 42,
     "metadata": {},
     "output_type": "execute_result"
    }
   ],
   "source": [
    "c.__next__()"
   ]
  },
  {
   "cell_type": "code",
   "execution_count": 75,
   "metadata": {},
   "outputs": [],
   "source": [
    "import dis\n",
    "\n",
    "def hello(x):\n",
    "    print(\"Hello world\")\n",
    "    if x>5:\n",
    "        x = x + 1\n",
    "    else:\n",
    "        x = x - 1 "
   ]
  },
  {
   "cell_type": "code",
   "execution_count": 76,
   "metadata": {},
   "outputs": [
    {
     "name": "stdout",
     "output_type": "stream",
     "text": [
      "  4           0 LOAD_GLOBAL              0 (print)\n",
      "              2 LOAD_CONST               1 ('Hello world')\n",
      "              4 CALL_FUNCTION            1\n",
      "              6 POP_TOP\n",
      "\n",
      "  5           8 LOAD_FAST                0 (x)\n",
      "             10 LOAD_CONST               2 (5)\n",
      "             12 COMPARE_OP               4 (>)\n",
      "             14 POP_JUMP_IF_FALSE       26\n",
      "\n",
      "  6          16 LOAD_FAST                0 (x)\n",
      "             18 LOAD_CONST               3 (1)\n",
      "             20 BINARY_ADD\n",
      "             22 STORE_FAST               0 (x)\n",
      "             24 JUMP_FORWARD             8 (to 34)\n",
      "\n",
      "  8     >>   26 LOAD_FAST                0 (x)\n",
      "             28 LOAD_CONST               3 (1)\n",
      "             30 BINARY_SUBTRACT\n",
      "             32 STORE_FAST               0 (x)\n",
      "        >>   34 LOAD_CONST               0 (None)\n",
      "             36 RETURN_VALUE\n"
     ]
    }
   ],
   "source": [
    "dis.dis(hello)"
   ]
  },
  {
   "cell_type": "code",
   "execution_count": 70,
   "metadata": {},
   "outputs": [],
   "source": [
    "some = hello"
   ]
  },
  {
   "cell_type": "code",
   "execution_count": 71,
   "metadata": {},
   "outputs": [
    {
     "name": "stdout",
     "output_type": "stream",
     "text": [
      "  4           0 LOAD_GLOBAL              0 (print)\n",
      "              2 LOAD_CONST               1 ('Hello world')\n",
      "              4 CALL_FUNCTION            1\n",
      "              6 POP_TOP\n",
      "\n",
      "  5           8 LOAD_FAST                0 (x)\n",
      "             10 LOAD_CONST               2 (1)\n",
      "             12 BINARY_ADD\n",
      "             14 STORE_FAST               0 (x)\n",
      "             16 LOAD_CONST               0 (None)\n",
      "             18 RETURN_VALUE\n"
     ]
    }
   ],
   "source": [
    "dis.dis(some)"
   ]
  },
  {
   "cell_type": "code",
   "execution_count": 72,
   "metadata": {},
   "outputs": [
    {
     "data": {
      "text/plain": [
       "140455781848272"
      ]
     },
     "execution_count": 72,
     "metadata": {},
     "output_type": "execute_result"
    }
   ],
   "source": [
    "id(hello)"
   ]
  },
  {
   "cell_type": "code",
   "execution_count": 73,
   "metadata": {},
   "outputs": [
    {
     "data": {
      "text/plain": [
       "140455781848272"
      ]
     },
     "execution_count": 73,
     "metadata": {},
     "output_type": "execute_result"
    }
   ],
   "source": [
    "id(some)"
   ]
  },
  {
   "cell_type": "code",
   "execution_count": null,
   "metadata": {},
   "outputs": [],
   "source": [
    "del hello"
   ]
  },
  {
   "cell_type": "code",
   "execution_count": null,
   "metadata": {},
   "outputs": [],
   "source": []
  },
  {
   "cell_type": "markdown",
   "metadata": {},
   "source": [
    "# Вопросы"
   ]
  },
  {
   "cell_type": "code",
   "execution_count": 296,
   "metadata": {},
   "outputs": [
    {
     "ename": "SyntaxError",
     "evalue": "invalid syntax (<ipython-input-296-df57ca1f38a0>, line 1)",
     "output_type": "error",
     "traceback": [
      "\u001b[0;36m  File \u001b[0;32m\"<ipython-input-296-df57ca1f38a0>\"\u001b[0;36m, line \u001b[0;32m1\u001b[0m\n\u001b[0;31m    1. Когда функцию объевляешь, то где-то в памяти создается целиком инструкция по выполнению?\u001b[0m\n\u001b[0m           ^\u001b[0m\n\u001b[0;31mSyntaxError\u001b[0m\u001b[0;31m:\u001b[0m invalid syntax\n"
     ]
    }
   ],
   "source": [
    "1. Когда функцию объевляешь, то где-то в памяти создается целиком инструкция по выполнению?\n",
    "Тк мы можем создать функцию присвоить ее другой переменной, потом лругую переменную удалить..."
   ]
  },
  {
   "cell_type": "code",
   "execution_count": null,
   "metadata": {},
   "outputs": [],
   "source": []
  }
 ],
 "metadata": {
  "kernelspec": {
   "display_name": "Python 3",
   "language": "python",
   "name": "python3"
  },
  "language_info": {
   "codemirror_mode": {
    "name": "ipython",
    "version": 3
   },
   "file_extension": ".py",
   "mimetype": "text/x-python",
   "name": "python",
   "nbconvert_exporter": "python",
   "pygments_lexer": "ipython3",
   "version": "3.7.4"
  }
 },
 "nbformat": 4,
 "nbformat_minor": 2
}
